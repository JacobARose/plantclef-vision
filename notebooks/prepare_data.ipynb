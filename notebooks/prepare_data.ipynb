{
 "cells": [
  {
   "cell_type": "markdown",
   "metadata": {},
   "source": [
    "## Jupyter Notebook for PlantCLEF 2025 Competition\n",
    "\n",
    "Author: Jacob A Rose\n",
    "\n",
    "Date: Mon Apr 14th, 2025\n",
    "\n",
    "Highlights:\n",
    "- Downloads the metadata for the PlantCLEF 2025 dataset using Kaggle API.\n",
    "- Defines utility functions for processing dataset file paths.\n",
    "- Prepares inputs for training and validation using class mappings.\n",
    "\n",
    "Note: Ensure Kaggle API is configured and accessible before running the notebook."
   ]
  },
  {
   "cell_type": "code",
   "execution_count": 1,
   "metadata": {},
   "outputs": [],
   "source": [
    "# !uv pip install kaggle"
   ]
  },
  {
   "cell_type": "code",
   "execution_count": 2,
   "metadata": {},
   "outputs": [],
   "source": [
    "# %%bash\n",
    "\n",
    "# data_dir=${HOME}/plantclef-vision/data/plantclef2025/competition-metadata\n",
    "# mkdir -p $data_dir\n",
    "# kaggle competitions download -c plantclef-2025 -p $data_dir\n",
    "# unzip -q -o $data_dir/plantclef-2025.zip -d $data_dir"
   ]
  },
  {
   "cell_type": "code",
   "execution_count": 3,
   "metadata": {},
   "outputs": [],
   "source": [
    "# rsync -ah --progress \"plantclef2025/PlantCLEF2024singleplanttrainingdata_800_max_side_size/PlantCLEF2024singleplanttrainingdata_800_max_side_size/images_max_side_800\" \"plantclef2025/PlantCLEF2024singleplanttrainingdata_800_max_side_size/images_max_side_800\""
   ]
  },
  {
   "cell_type": "code",
   "execution_count": null,
   "metadata": {},
   "outputs": [],
   "source": [
    "# !find PlantCLEF2024singleplanttrainingdata_800_max_side_size/images_max_side_800/* -maxdepth 0 -type d | wc -l"
   ]
  },
  {
   "cell_type": "code",
   "execution_count": 12,
   "metadata": {},
   "outputs": [],
   "source": [
    "!git config --global user.name \"Jacob A Rose\"\n",
    "!git config --global user.email jacobrose.codes@gmail.com"
   ]
  },
  {
   "cell_type": "code",
   "execution_count": 1,
   "metadata": {},
   "outputs": [
    {
     "name": "stdout",
     "output_type": "stream",
     "text": [
      "/teamspace/studios/this_studio/plantclef-vision/results/analysis\n"
     ]
    }
   ],
   "source": [
    "import os\n",
    "\n",
    "analysis_dir = os.path.expanduser(\"~/plantclef-vision/results/analysis\")\n",
    "os.makedirs(analysis_dir, exist_ok=True)\n",
    "print(analysis_dir)"
   ]
  },
  {
   "cell_type": "code",
   "execution_count": 2,
   "metadata": {},
   "outputs": [
    {
     "data": {
      "text/html": [
       "<div>\n",
       "<style scoped>\n",
       "    .dataframe tbody tr th:only-of-type {\n",
       "        vertical-align: middle;\n",
       "    }\n",
       "\n",
       "    .dataframe tbody tr th {\n",
       "        vertical-align: top;\n",
       "    }\n",
       "\n",
       "    .dataframe thead th {\n",
       "        text-align: right;\n",
       "    }\n",
       "</style>\n",
       "<table border=\"1\" class=\"dataframe\">\n",
       "  <thead>\n",
       "    <tr style=\"text-align: right;\">\n",
       "      <th></th>\n",
       "      <th>image_name</th>\n",
       "      <th>organ</th>\n",
       "      <th>species_id</th>\n",
       "      <th>obs_id</th>\n",
       "      <th>license</th>\n",
       "      <th>partner</th>\n",
       "      <th>author</th>\n",
       "      <th>altitude</th>\n",
       "      <th>latitude</th>\n",
       "      <th>longitude</th>\n",
       "      <th>gbif_species_id</th>\n",
       "      <th>species</th>\n",
       "      <th>genus</th>\n",
       "      <th>family</th>\n",
       "      <th>dataset</th>\n",
       "      <th>publisher</th>\n",
       "      <th>references</th>\n",
       "      <th>url</th>\n",
       "      <th>learn_tag</th>\n",
       "      <th>image_backup_url</th>\n",
       "    </tr>\n",
       "  </thead>\n",
       "  <tbody>\n",
       "    <tr>\n",
       "      <th>0</th>\n",
       "      <td>59feabe1c98f06e7f819f73c8246bd8f1a89556b.jpg</td>\n",
       "      <td>leaf</td>\n",
       "      <td>1396710</td>\n",
       "      <td>1008726402</td>\n",
       "      <td>cc-by-sa</td>\n",
       "      <td>NaN</td>\n",
       "      <td>Gulyás Bálint</td>\n",
       "      <td>205.9261</td>\n",
       "      <td>47.592160</td>\n",
       "      <td>19.362895</td>\n",
       "      <td>5284517.0</td>\n",
       "      <td>Taxus baccata L.</td>\n",
       "      <td>Taxus</td>\n",
       "      <td>Taxaceae</td>\n",
       "      <td>plantnet</td>\n",
       "      <td>plantnet</td>\n",
       "      <td>https://identify.plantnet.org/fr/k-southwester...</td>\n",
       "      <td>https://bs.plantnet.org/image/o/59feabe1c98f06...</td>\n",
       "      <td>train</td>\n",
       "      <td>https://lab.plantnet.org/LifeCLEF/PlantCLEF202...</td>\n",
       "    </tr>\n",
       "    <tr>\n",
       "      <th>1</th>\n",
       "      <td>dc273995a89827437d447f29a52ccac86f65476e.jpg</td>\n",
       "      <td>leaf</td>\n",
       "      <td>1396710</td>\n",
       "      <td>1008724195</td>\n",
       "      <td>cc-by-sa</td>\n",
       "      <td>NaN</td>\n",
       "      <td>vadim sigaud</td>\n",
       "      <td>323.7520</td>\n",
       "      <td>47.906703</td>\n",
       "      <td>7.201746</td>\n",
       "      <td>5284517.0</td>\n",
       "      <td>Taxus baccata L.</td>\n",
       "      <td>Taxus</td>\n",
       "      <td>Taxaceae</td>\n",
       "      <td>plantnet</td>\n",
       "      <td>plantnet</td>\n",
       "      <td>https://identify.plantnet.org/fr/k-southwester...</td>\n",
       "      <td>https://bs.plantnet.org/image/o/dc273995a89827...</td>\n",
       "      <td>train</td>\n",
       "      <td>https://lab.plantnet.org/LifeCLEF/PlantCLEF202...</td>\n",
       "    </tr>\n",
       "    <tr>\n",
       "      <th>2</th>\n",
       "      <td>416235e7023a4bd1513edf036b6097efc693a304.jpg</td>\n",
       "      <td>leaf</td>\n",
       "      <td>1396710</td>\n",
       "      <td>1008721908</td>\n",
       "      <td>cc-by-sa</td>\n",
       "      <td>NaN</td>\n",
       "      <td>fil escande</td>\n",
       "      <td>101.3160</td>\n",
       "      <td>48.826774</td>\n",
       "      <td>2.352774</td>\n",
       "      <td>5284517.0</td>\n",
       "      <td>Taxus baccata L.</td>\n",
       "      <td>Taxus</td>\n",
       "      <td>Taxaceae</td>\n",
       "      <td>plantnet</td>\n",
       "      <td>plantnet</td>\n",
       "      <td>https://identify.plantnet.org/fr/k-southwester...</td>\n",
       "      <td>https://bs.plantnet.org/image/o/416235e7023a4b...</td>\n",
       "      <td>train</td>\n",
       "      <td>https://lab.plantnet.org/LifeCLEF/PlantCLEF202...</td>\n",
       "    </tr>\n",
       "    <tr>\n",
       "      <th>3</th>\n",
       "      <td>cbd18fade82c46a5c725f1f3d982174895158afc.jpg</td>\n",
       "      <td>leaf</td>\n",
       "      <td>1396710</td>\n",
       "      <td>1008699177</td>\n",
       "      <td>cc-by-sa</td>\n",
       "      <td>NaN</td>\n",
       "      <td>Desiree Verver</td>\n",
       "      <td>5.1070</td>\n",
       "      <td>52.190427</td>\n",
       "      <td>6.009677</td>\n",
       "      <td>5284517.0</td>\n",
       "      <td>Taxus baccata L.</td>\n",
       "      <td>Taxus</td>\n",
       "      <td>Taxaceae</td>\n",
       "      <td>plantnet</td>\n",
       "      <td>plantnet</td>\n",
       "      <td>https://identify.plantnet.org/fr/k-southwester...</td>\n",
       "      <td>https://bs.plantnet.org/image/o/cbd18fade82c46...</td>\n",
       "      <td>train</td>\n",
       "      <td>https://lab.plantnet.org/LifeCLEF/PlantCLEF202...</td>\n",
       "    </tr>\n",
       "    <tr>\n",
       "      <th>4</th>\n",
       "      <td>f82c8c6d570287ebed8407cefcfcb2a51eaaf56e.jpg</td>\n",
       "      <td>leaf</td>\n",
       "      <td>1396710</td>\n",
       "      <td>1008683100</td>\n",
       "      <td>cc-by-sa</td>\n",
       "      <td>NaN</td>\n",
       "      <td>branebrane</td>\n",
       "      <td>165.3390</td>\n",
       "      <td>45.794739</td>\n",
       "      <td>15.965862</td>\n",
       "      <td>5284517.0</td>\n",
       "      <td>Taxus baccata L.</td>\n",
       "      <td>Taxus</td>\n",
       "      <td>Taxaceae</td>\n",
       "      <td>plantnet</td>\n",
       "      <td>plantnet</td>\n",
       "      <td>https://identify.plantnet.org/fr/k-southwester...</td>\n",
       "      <td>https://bs.plantnet.org/image/o/f82c8c6d570287...</td>\n",
       "      <td>train</td>\n",
       "      <td>https://lab.plantnet.org/LifeCLEF/PlantCLEF202...</td>\n",
       "    </tr>\n",
       "  </tbody>\n",
       "</table>\n",
       "</div>"
      ],
      "text/plain": [
       "                                     image_name organ  species_id      obs_id  \\\n",
       "0  59feabe1c98f06e7f819f73c8246bd8f1a89556b.jpg  leaf     1396710  1008726402   \n",
       "1  dc273995a89827437d447f29a52ccac86f65476e.jpg  leaf     1396710  1008724195   \n",
       "2  416235e7023a4bd1513edf036b6097efc693a304.jpg  leaf     1396710  1008721908   \n",
       "3  cbd18fade82c46a5c725f1f3d982174895158afc.jpg  leaf     1396710  1008699177   \n",
       "4  f82c8c6d570287ebed8407cefcfcb2a51eaaf56e.jpg  leaf     1396710  1008683100   \n",
       "\n",
       "    license partner          author  altitude   latitude  longitude  \\\n",
       "0  cc-by-sa     NaN   Gulyás Bálint  205.9261  47.592160  19.362895   \n",
       "1  cc-by-sa     NaN    vadim sigaud  323.7520  47.906703   7.201746   \n",
       "2  cc-by-sa     NaN     fil escande  101.3160  48.826774   2.352774   \n",
       "3  cc-by-sa     NaN  Desiree Verver    5.1070  52.190427   6.009677   \n",
       "4  cc-by-sa     NaN      branebrane  165.3390  45.794739  15.965862   \n",
       "\n",
       "   gbif_species_id           species  genus    family   dataset publisher  \\\n",
       "0        5284517.0  Taxus baccata L.  Taxus  Taxaceae  plantnet  plantnet   \n",
       "1        5284517.0  Taxus baccata L.  Taxus  Taxaceae  plantnet  plantnet   \n",
       "2        5284517.0  Taxus baccata L.  Taxus  Taxaceae  plantnet  plantnet   \n",
       "3        5284517.0  Taxus baccata L.  Taxus  Taxaceae  plantnet  plantnet   \n",
       "4        5284517.0  Taxus baccata L.  Taxus  Taxaceae  plantnet  plantnet   \n",
       "\n",
       "                                          references  \\\n",
       "0  https://identify.plantnet.org/fr/k-southwester...   \n",
       "1  https://identify.plantnet.org/fr/k-southwester...   \n",
       "2  https://identify.plantnet.org/fr/k-southwester...   \n",
       "3  https://identify.plantnet.org/fr/k-southwester...   \n",
       "4  https://identify.plantnet.org/fr/k-southwester...   \n",
       "\n",
       "                                                 url learn_tag  \\\n",
       "0  https://bs.plantnet.org/image/o/59feabe1c98f06...     train   \n",
       "1  https://bs.plantnet.org/image/o/dc273995a89827...     train   \n",
       "2  https://bs.plantnet.org/image/o/416235e7023a4b...     train   \n",
       "3  https://bs.plantnet.org/image/o/cbd18fade82c46...     train   \n",
       "4  https://bs.plantnet.org/image/o/f82c8c6d570287...     train   \n",
       "\n",
       "                                    image_backup_url  \n",
       "0  https://lab.plantnet.org/LifeCLEF/PlantCLEF202...  \n",
       "1  https://lab.plantnet.org/LifeCLEF/PlantCLEF202...  \n",
       "2  https://lab.plantnet.org/LifeCLEF/PlantCLEF202...  \n",
       "3  https://lab.plantnet.org/LifeCLEF/PlantCLEF202...  \n",
       "4  https://lab.plantnet.org/LifeCLEF/PlantCLEF202...  "
      ]
     },
     "execution_count": 2,
     "metadata": {},
     "output_type": "execute_result"
    }
   ],
   "source": [
    "import pandas as pd\n",
    "\n",
    "train_metadata_path = \"/teamspace/studios/this_studio/plantclef-vision/data/plantclef2025/competition-metadata/PlantCLEF2024_single_plant_training_metadata.csv\"\n",
    "\n",
    "\n",
    "train_metadata = pd.read_csv(train_metadata_path, sep=\";\", low_memory=False)\n",
    "train_metadata.head()"
   ]
  },
  {
   "cell_type": "code",
   "execution_count": 9,
   "metadata": {},
   "outputs": [],
   "source": [
    "# train_metadata.info()\n",
    "\n",
    "# short_cols = train_metadata.columns[train_metadata.columns.str.len() < 20]\n",
    "\n",
    "short_cols = [\n",
    "    \"organ\",\n",
    "    \"species_id\",\n",
    "    \"obs_id\",\n",
    "    \"license\",\n",
    "    \"author\",\n",
    "    \"altitude\",\n",
    "    \"latitude\",\n",
    "    \"longitude\",\n",
    "    \"gbif_species_id\",\n",
    "    \"species\",\n",
    "    \"genus\",\n",
    "    \"family\",\n",
    "    \"dataset\",\n",
    "    \"publisher\",\n",
    "    \"learn_tag\",\n",
    "]"
   ]
  },
  {
   "cell_type": "code",
   "execution_count": 7,
   "metadata": {},
   "outputs": [],
   "source": [
    "# !pip install ydata-profiling"
   ]
  },
  {
   "cell_type": "code",
   "execution_count": 10,
   "metadata": {},
   "outputs": [
    {
     "name": "stdout",
     "output_type": "stream",
     "text": [
      "CPU times: user 164 ms, sys: 4.6 ms, total: 168 ms\n",
      "Wall time: 364 ms\n"
     ]
    }
   ],
   "source": [
    "%%time\n",
    "\n",
    "\n",
    "from ydata_profiling import ProfileReport\n",
    "\n",
    "df = train_metadata.sample(frac=0.1)\n",
    "df = df[short_cols]\n",
    "profile = ProfileReport(df, title=\"PlantCLEF2024 Metadata Report\", minimal=True)\n",
    "# profile.to_file(f\"{analysis_dir}/plantclef2024_metadata_report.html\")\n",
    "\n",
    "\n",
    "# profile = ProfileReport(train_metadata, title=\"PlantCLEF2024 Metadata Report\", explorative=True)"
   ]
  },
  {
   "cell_type": "code",
   "execution_count": 11,
   "metadata": {},
   "outputs": [
    {
     "data": {
      "application/vnd.jupyter.widget-view+json": {
       "model_id": "c22496a74f7846f9aca61814155b5206",
       "version_major": 2,
       "version_minor": 0
      },
      "text/plain": [
       "Summarize dataset:   0%|          | 0/5 [00:00<?, ?it/s]"
      ]
     },
     "metadata": {},
     "output_type": "display_data"
    },
    {
     "name": "stderr",
     "output_type": "stream",
     "text": [
      "\n",
      "  0%|          | 0/15 [00:00<?, ?it/s]"
     ]
    },
    {
     "name": "stderr",
     "output_type": "stream",
     "text": [
      "100%|██████████| 15/15 [00:01<00:00, 11.48it/s]\n"
     ]
    },
    {
     "data": {
      "application/vnd.jupyter.widget-view+json": {
       "model_id": "7f6c5e503957478098ee1ee732db4110",
       "version_major": 2,
       "version_minor": 0
      },
      "text/plain": [
       "Generate report structure:   0%|          | 0/1 [00:00<?, ?it/s]"
      ]
     },
     "metadata": {},
     "output_type": "display_data"
    },
    {
     "data": {
      "application/vnd.jupyter.widget-view+json": {
       "model_id": "6c1c72743792438dae9cfd765953f1f7",
       "version_major": 2,
       "version_minor": 0
      },
      "text/plain": [
       "Render HTML:   0%|          | 0/1 [00:00<?, ?it/s]"
      ]
     },
     "metadata": {},
     "output_type": "display_data"
    },
    {
     "data": {
      "application/vnd.jupyter.widget-view+json": {
       "model_id": "2f449a324ef84c1f958b1be68936d37c",
       "version_major": 2,
       "version_minor": 0
      },
      "text/plain": [
       "Export report to file:   0%|          | 0/1 [00:00<?, ?it/s]"
      ]
     },
     "metadata": {},
     "output_type": "display_data"
    }
   ],
   "source": [
    "profile.to_file(f\"{analysis_dir}/plantclef2024_metadata_report.html\")"
   ]
  },
  {
   "cell_type": "code",
   "execution_count": null,
   "metadata": {},
   "outputs": [],
   "source": [
    "# def get_class_from_filepath(filepath: str, classes) -> int:\n",
    "#     class_name = filepath.split(\"/\")[-2]\n",
    "#     return classes[class_name]\n",
    "\n",
    "\n",
    "# def get_inputs(input_dir: str) -> Any:\n",
    "#     classes = load_imagenet_class_index()\n",
    "#     filepaths = np.random.permutation(\n",
    "#         [\n",
    "#             os.path.join(root, filename)\n",
    "#             for root, _, filenames in tqdm(walk(input_dir), smoothing=0)\n",
    "#             for filename in filenames\n",
    "#         ]\n",
    "#     )\n",
    "#     if \"train\" in input_dir:\n",
    "#         return [\n",
    "#             (filepath, get_class_from_filepath(filepath, classes))\n",
    "#             for filepath in filepaths\n",
    "#         ]\n",
    "\n",
    "#     class_names = load_imagenet_val_class_names()\n",
    "#     return [\n",
    "#         (filepath, class_names_to_index_map[class_name])\n",
    "#         for filepath, class_name in zip(filepaths, class_names)\n",
    "#     ]"
   ]
  }
 ],
 "metadata": {
  "kernelspec": {
   "display_name": ".venv",
   "language": "python",
   "name": "python3"
  },
  "language_info": {
   "codemirror_mode": {
    "name": "ipython",
    "version": 3
   },
   "file_extension": ".py",
   "mimetype": "text/x-python",
   "name": "python",
   "nbconvert_exporter": "python",
   "pygments_lexer": "ipython3",
   "version": "3.10.10"
  }
 },
 "nbformat": 4,
 "nbformat_minor": 2
}
