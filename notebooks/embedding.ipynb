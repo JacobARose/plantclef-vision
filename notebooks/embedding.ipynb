{
 "cells": [
  {
   "attachments": {},
   "cell_type": "markdown",
   "metadata": {},
   "source": [
    "# Embedding workflow using DINOv2\n",
    "\n",
    "This notebook focuses on the **Feature Extraction** pipeline. \n",
    "\n",
    "We utilize the fine-tuned model **ViTD2PC24All** ([DINOv2](https://dinov2.metademolab.com/)) to extract high-dimensional embeddings from the single-label train images and multi-label test images.\n",
    "\n",
    "We'll **visualize**, **tile**, and **process** these embeddings to support patch-wise multi-label inference using PyTorch and Faiss.\n",
    "\n",
    "![diagram](../images/pytorch-webinar-diagram.png)"
   ]
  },
  {
   "cell_type": "code",
   "execution_count": 2,
   "metadata": {},
   "outputs": [],
   "source": [
    "%load_ext autoreload\n",
    "%autoreload 2"
   ]
  },
  {
   "cell_type": "markdown",
   "metadata": {},
   "source": [
    "## Now to load the parquet file from disk and visualize the images"
   ]
  },
  {
   "cell_type": "code",
   "execution_count": 3,
   "metadata": {},
   "outputs": [],
   "source": [
    "import pandas as pd\n",
    "\n",
    "pd.options.display.precision = 2\n",
    "pd.options.display.max_rows = 10\n",
    "\n",
    "root_dir = \"/teamspace/studios/this_studio/plantclef-vision/data/plantclef2025\"\n",
    "dataset_dir = \"/teamspace/studios/this_studio/plantclef-vision/data/plantclef2025/competition-metadata/PlantCLEF2025_test_images/PlantCLEF2025_test_images\"\n",
    "hf_dataset_dir = \"/teamspace/studios/this_studio/plantclef-vision/data/parquet/plantclef2025/full_test/HF_dataset\""
   ]
  },
  {
   "cell_type": "code",
   "execution_count": 4,
   "metadata": {},
   "outputs": [],
   "source": [
    "# from plantclef.pytorch.data import HFPlantDataset"
   ]
  },
  {
   "cell_type": "markdown",
   "metadata": {},
   "source": [
    "## Running torch_pipeline with HFPlantDataset"
   ]
  },
  {
   "cell_type": "code",
   "execution_count": 6,
   "metadata": {},
   "outputs": [
    {
     "name": "stderr",
     "output_type": "stream",
     "text": [
      "/home/zeus/miniconda3/envs/cloudspace/lib/python3.10/site-packages/lightning_sdk/helpers.py:48: UserWarning: A newer version of lightning-sdk is available (0.2.14). Please consider upgrading with `pip install -U lightning-sdk`. Not all platform functionality can be guaranteed to work with the current version.\n",
      "  warnings.warn(\n"
     ]
    },
    {
     "data": {
      "text/html": [
       "<pre style=\"white-space:pre;overflow-x:auto;line-height:normal;font-family:Menlo,'DejaVu Sans Mono',consolas,'Courier New',monospace\"><span style=\"color: #800080; text-decoration-color: #800080; font-weight: bold\">Config</span><span style=\"font-weight: bold\">(</span>\n",
       "    <span style=\"color: #808000; text-decoration-color: #808000\">use_grid</span>=<span style=\"color: #00ff00; text-decoration-color: #00ff00; font-style: italic\">True</span>,\n",
       "    <span style=\"color: #808000; text-decoration-color: #808000\">grid_size</span>=<span style=\"color: #008080; text-decoration-color: #008080; font-weight: bold\">3</span>,\n",
       "    <span style=\"color: #808000; text-decoration-color: #808000\">image_size</span>=<span style=\"color: #008080; text-decoration-color: #008080; font-weight: bold\">546</span>,\n",
       "    <span style=\"color: #808000; text-decoration-color: #808000\">batch_size</span>=<span style=\"color: #008080; text-decoration-color: #008080; font-weight: bold\">16</span>,\n",
       "    <span style=\"color: #808000; text-decoration-color: #808000\">cpu_count</span>=<span style=\"color: #008080; text-decoration-color: #008080; font-weight: bold\">4</span>,\n",
       "    <span style=\"color: #808000; text-decoration-color: #808000\">top_k</span>=<span style=\"color: #008080; text-decoration-color: #008080; font-weight: bold\">5</span>,\n",
       "    <span style=\"color: #808000; text-decoration-color: #808000\">device</span>=<span style=\"color: #008000; text-decoration-color: #008000\">'cpu'</span>,\n",
       "    <span style=\"color: #808000; text-decoration-color: #808000\">root_dir</span>=<span style=\"color: #008000; text-decoration-color: #008000\">'/teamspace/studios/this_studio/plantclef-vision/data/plantclef2025'</span>,\n",
       "    <span style=\"color: #808000; text-decoration-color: #808000\">dataset_dir</span>=<span style=\"color: #008000; text-decoration-color: #008000\">'/teamspace/studios/this_studio/plantclef-vision/data/plantclef2025/competition-metadata/PlantCLEF2</span>\n",
       "<span style=\"color: #008000; text-decoration-color: #008000\">025_test_images/PlantCLEF2025_test_images'</span>,\n",
       "    <span style=\"color: #808000; text-decoration-color: #808000\">hf_dataset_dir</span>=<span style=\"color: #008000; text-decoration-color: #008000\">'/teamspace/studios/this_studio/plantclef-vision/data/parquet/plantclef2025/full_test/HF_dataset</span>\n",
       "<span style=\"color: #008000; text-decoration-color: #008000\">'</span>,\n",
       "    <span style=\"color: #808000; text-decoration-color: #808000\">embeddings_dir</span>=<span style=\"color: #008000; text-decoration-color: #008000\">'/teamspace/studios/this_studio/plantclef-vision/data/plantclef2025/embeddings'</span>,\n",
       "    <span style=\"color: #808000; text-decoration-color: #808000\">test_embeddings_dir</span>=<span style=\"color: #008000; text-decoration-color: #008000\">'/teamspace/studios/this_studio/plantclef-vision/data/plantclef2025/embeddings/full_test'</span>,\n",
       "    <span style=\"color: #808000; text-decoration-color: #808000\">folder_name</span>=<span style=\"color: #008000; text-decoration-color: #008000\">'test_grid_3x3_embeddings'</span>,\n",
       "    <span style=\"color: #808000; text-decoration-color: #808000\">test_embeddings_path</span>=<span style=\"color: #008000; text-decoration-color: #008000\">'/teamspace/studios/this_studio/plantclef-vision/data/plantclef2025/embeddings/full_test/t</span>\n",
       "<span style=\"color: #008000; text-decoration-color: #008000\">est_grid_3x3_embeddings'</span>,\n",
       "    <span style=\"color: #808000; text-decoration-color: #808000\">test_submission_path</span>=<span style=\"color: #008000; text-decoration-color: #008000\">'/teamspace/studios/this_studio/plantclef-vision/data/plantclef2025/embeddings/full_test/t</span>\n",
       "<span style=\"color: #008000; text-decoration-color: #008000\">est_grid_3x3_embeddings-submission.csv'</span>,\n",
       "    <span style=\"color: #808000; text-decoration-color: #808000\">config_path</span>=<span style=\"color: #008000; text-decoration-color: #008000\">'/teamspace/studios/this_studio/plantclef-vision/data/plantclef2025/embeddings/full_test/test_grid_</span>\n",
       "<span style=\"color: #008000; text-decoration-color: #008000\">3x3_embeddings-config.json'</span>\n",
       "<span style=\"font-weight: bold\">)</span>\n",
       "</pre>\n"
      ],
      "text/plain": [
       "\u001b[1;35mConfig\u001b[0m\u001b[1m(\u001b[0m\n",
       "    \u001b[33muse_grid\u001b[0m=\u001b[3;92mTrue\u001b[0m,\n",
       "    \u001b[33mgrid_size\u001b[0m=\u001b[1;36m3\u001b[0m,\n",
       "    \u001b[33mimage_size\u001b[0m=\u001b[1;36m546\u001b[0m,\n",
       "    \u001b[33mbatch_size\u001b[0m=\u001b[1;36m16\u001b[0m,\n",
       "    \u001b[33mcpu_count\u001b[0m=\u001b[1;36m4\u001b[0m,\n",
       "    \u001b[33mtop_k\u001b[0m=\u001b[1;36m5\u001b[0m,\n",
       "    \u001b[33mdevice\u001b[0m=\u001b[32m'cpu'\u001b[0m,\n",
       "    \u001b[33mroot_dir\u001b[0m=\u001b[32m'/teamspace/studios/this_studio/plantclef-vision/data/plantclef2025'\u001b[0m,\n",
       "    \u001b[33mdataset_dir\u001b[0m=\u001b[32m'/teamspace/studios/this_studio/plantclef-vision/data/plantclef2025/competition-metadata/PlantCLEF2\u001b[0m\n",
       "\u001b[32m025_test_images/PlantCLEF2025_test_images'\u001b[0m,\n",
       "    \u001b[33mhf_dataset_dir\u001b[0m=\u001b[32m'/teamspace/studios/this_studio/plantclef-vision/data/parquet/plantclef2025/full_test/HF_dataset\u001b[0m\n",
       "\u001b[32m'\u001b[0m,\n",
       "    \u001b[33membeddings_dir\u001b[0m=\u001b[32m'/teamspace/studios/this_studio/plantclef-vision/data/plantclef2025/embeddings'\u001b[0m,\n",
       "    \u001b[33mtest_embeddings_dir\u001b[0m=\u001b[32m'/teamspace/studios/this_studio/plantclef-vision/data/plantclef2025/embeddings/full_test'\u001b[0m,\n",
       "    \u001b[33mfolder_name\u001b[0m=\u001b[32m'test_grid_3x3_embeddings'\u001b[0m,\n",
       "    \u001b[33mtest_embeddings_path\u001b[0m=\u001b[32m'/teamspace/studios/this_studio/plantclef-vision/data/plantclef2025/embeddings/full_test/t\u001b[0m\n",
       "\u001b[32mest_grid_3x3_embeddings'\u001b[0m,\n",
       "    \u001b[33mtest_submission_path\u001b[0m=\u001b[32m'/teamspace/studios/this_studio/plantclef-vision/data/plantclef2025/embeddings/full_test/t\u001b[0m\n",
       "\u001b[32mest_grid_3x3_embeddings-submission.csv'\u001b[0m,\n",
       "    \u001b[33mconfig_path\u001b[0m=\u001b[32m'/teamspace/studios/this_studio/plantclef-vision/data/plantclef2025/embeddings/full_test/test_grid_\u001b[0m\n",
       "\u001b[32m3x3_embeddings-config.json'\u001b[0m\n",
       "\u001b[1m)\u001b[0m\n"
      ]
     },
     "metadata": {},
     "output_type": "display_data"
    }
   ],
   "source": [
    "from plantclef.embed.workflow import Config\n",
    "from plantclef.embed.utils import print_dir_size\n",
    "import os\n",
    "from rich import print as pprint\n",
    "\n",
    "cfg = Config()\n",
    "pprint(cfg)"
   ]
  },
  {
   "cell_type": "code",
   "execution_count": 14,
   "metadata": {},
   "outputs": [
    {
     "data": {
      "text/html": [
       "<div>\n",
       "<style scoped>\n",
       "    .dataframe tbody tr th:only-of-type {\n",
       "        vertical-align: middle;\n",
       "    }\n",
       "\n",
       "    .dataframe tbody tr th {\n",
       "        vertical-align: top;\n",
       "    }\n",
       "\n",
       "    .dataframe thead th {\n",
       "        text-align: right;\n",
       "    }\n",
       "</style>\n",
       "<table border=\"1\" class=\"dataframe\">\n",
       "  <thead>\n",
       "    <tr style=\"text-align: right;\">\n",
       "      <th></th>\n",
       "      <th>quadrat_id</th>\n",
       "      <th>species_ids</th>\n",
       "    </tr>\n",
       "  </thead>\n",
       "  <tbody>\n",
       "    <tr>\n",
       "      <th>0</th>\n",
       "      <td>2024-CEV3-20240602</td>\n",
       "      <td>[1654010, 1395063, 1392662, 1414387, 1743646]</td>\n",
       "    </tr>\n",
       "    <tr>\n",
       "      <th>1</th>\n",
       "      <td>CBN-PdlC-A1-20130807</td>\n",
       "      <td>[1744569, 1361917, 1356350, 1418612, 1361129]</td>\n",
       "    </tr>\n",
       "    <tr>\n",
       "      <th>2</th>\n",
       "      <td>CBN-PdlC-A1-20130903</td>\n",
       "      <td>[1744569, 1392608, 1361382, 1361068, 1361971]</td>\n",
       "    </tr>\n",
       "    <tr>\n",
       "      <th>3</th>\n",
       "      <td>CBN-PdlC-A1-20140721</td>\n",
       "      <td>[1529289, 1374758, 1402995, 1741880, 1362066]</td>\n",
       "    </tr>\n",
       "    <tr>\n",
       "      <th>4</th>\n",
       "      <td>CBN-PdlC-A1-20140811</td>\n",
       "      <td>[1361281, 1418612, 1356350, 1392608, 1722440]</td>\n",
       "    </tr>\n",
       "    <tr>\n",
       "      <th>...</th>\n",
       "      <td>...</td>\n",
       "      <td>...</td>\n",
       "    </tr>\n",
       "    <tr>\n",
       "      <th>2100</th>\n",
       "      <td>RNNB-8-5-20240118</td>\n",
       "      <td>[1361437, 1655199, 1357049, 1722441, 1414356]</td>\n",
       "    </tr>\n",
       "    <tr>\n",
       "      <th>2101</th>\n",
       "      <td>RNNB-8-6-20240118</td>\n",
       "      <td>[1655199, 1363434, 1359297, 1357962, 1361703]</td>\n",
       "    </tr>\n",
       "    <tr>\n",
       "      <th>2102</th>\n",
       "      <td>RNNB-8-7-20240118</td>\n",
       "      <td>[1359297, 1356521, 1363553, 1357358, 1362711]</td>\n",
       "    </tr>\n",
       "    <tr>\n",
       "      <th>2103</th>\n",
       "      <td>RNNB-8-8-20240118</td>\n",
       "      <td>[1359650, 1396330, 1743962, 1357962, 1388788]</td>\n",
       "    </tr>\n",
       "    <tr>\n",
       "      <th>2104</th>\n",
       "      <td>RNNB-8-9-20240118</td>\n",
       "      <td>[1655199, 1361437, 1363553, 1357049, 1426005]</td>\n",
       "    </tr>\n",
       "  </tbody>\n",
       "</table>\n",
       "<p>2105 rows × 2 columns</p>\n",
       "</div>"
      ],
      "text/plain": [
       "                quadrat_id                                    species_ids\n",
       "0       2024-CEV3-20240602  [1654010, 1395063, 1392662, 1414387, 1743646]\n",
       "1     CBN-PdlC-A1-20130807  [1744569, 1361917, 1356350, 1418612, 1361129]\n",
       "2     CBN-PdlC-A1-20130903  [1744569, 1392608, 1361382, 1361068, 1361971]\n",
       "3     CBN-PdlC-A1-20140721  [1529289, 1374758, 1402995, 1741880, 1362066]\n",
       "4     CBN-PdlC-A1-20140811  [1361281, 1418612, 1356350, 1392608, 1722440]\n",
       "...                    ...                                            ...\n",
       "2100     RNNB-8-5-20240118  [1361437, 1655199, 1357049, 1722441, 1414356]\n",
       "2101     RNNB-8-6-20240118  [1655199, 1363434, 1359297, 1357962, 1361703]\n",
       "2102     RNNB-8-7-20240118  [1359297, 1356521, 1363553, 1357358, 1362711]\n",
       "2103     RNNB-8-8-20240118  [1359650, 1396330, 1743962, 1357962, 1388788]\n",
       "2104     RNNB-8-9-20240118  [1655199, 1361437, 1363553, 1357049, 1426005]\n",
       "\n",
       "[2105 rows x 2 columns]"
      ]
     },
     "execution_count": 14,
     "metadata": {},
     "output_type": "execute_result"
    }
   ],
   "source": [
    "import csv\n",
    "import pandas as pd\n",
    "\n",
    "\n",
    "df = pd.read_csv(cfg.test_submission_path)\n",
    "\n",
    "df = df.assign(quadrat_id=df[\"quadrat_id\"].apply(lambda x: os.path.splitext(x)[0]))\n",
    "\n",
    "df.to_csv(cfg.test_submission_path, sep=\",\", index=False, quoting=csv.QUOTE_ALL)\n",
    "df"
   ]
  },
  {
   "cell_type": "code",
   "execution_count": 5,
   "metadata": {},
   "outputs": [
    {
     "name": "stdout",
     "output_type": "stream",
     "text": [
      "Analyzing disk usage of directory: /teamspace/studios/this_studio/plantclef-vision/data/plantclef2025/embeddings/full_test/test_grid_3x3_embeddings\n",
      "Directory Disk Usage: 543M\t/teamspace/studios/this_studio/plantclef-vision/data/plantclef2025/embeddings/full_test/test_grid_3x3_embeddings\n",
      "2025-05-08 08:42:53\n"
     ]
    }
   ],
   "source": [
    "print_dir_size(cfg.test_embeddings_path)"
   ]
  },
  {
   "cell_type": "code",
   "execution_count": 22,
   "metadata": {},
   "outputs": [
    {
     "name": "stderr",
     "output_type": "stream",
     "text": [
      "/tmp/ipykernel_33614/1293469598.py:37: DeprecationWarning: DataFrameGroupBy.apply operated on the grouping columns. This behavior is deprecated, and in a future version of pandas the grouping columns will be excluded from the operation. Either pass `include_groups=False` to exclude the groupings or explicitly select the grouping columns after groupby to silence this warning.\n",
      "  df.apply(select_top_k_unique_logits, top_k=top_k).rename(\"logits\").reset_index()\n"
     ]
    },
    {
     "data": {
      "text/html": [
       "<div>\n",
       "<style scoped>\n",
       "    .dataframe tbody tr th:only-of-type {\n",
       "        vertical-align: middle;\n",
       "    }\n",
       "\n",
       "    .dataframe tbody tr th {\n",
       "        vertical-align: top;\n",
       "    }\n",
       "\n",
       "    .dataframe thead th {\n",
       "        text-align: right;\n",
       "    }\n",
       "</style>\n",
       "<table border=\"1\" class=\"dataframe\">\n",
       "  <thead>\n",
       "    <tr style=\"text-align: right;\">\n",
       "      <th></th>\n",
       "      <th>image_name</th>\n",
       "      <th>logits</th>\n",
       "    </tr>\n",
       "  </thead>\n",
       "  <tbody>\n",
       "    <tr>\n",
       "      <th>0</th>\n",
       "      <td>2024-CEV3-20240602.jpg</td>\n",
       "      <td>[(1654010, 0.44266772270202637), (1395063, 0.3...</td>\n",
       "    </tr>\n",
       "    <tr>\n",
       "      <th>1</th>\n",
       "      <td>CBN-PdlC-A1-20130807.jpg</td>\n",
       "      <td>[(1744569, 0.2301855832338333), (1361917, 0.22...</td>\n",
       "    </tr>\n",
       "    <tr>\n",
       "      <th>2</th>\n",
       "      <td>CBN-PdlC-A1-20130903.jpg</td>\n",
       "      <td>[(1744569, 0.16917195916175842), (1392608, 0.1...</td>\n",
       "    </tr>\n",
       "    <tr>\n",
       "      <th>3</th>\n",
       "      <td>CBN-PdlC-A1-20140721.jpg</td>\n",
       "      <td>[(1529289, 0.14910352230072021), (1374758, 0.1...</td>\n",
       "    </tr>\n",
       "    <tr>\n",
       "      <th>4</th>\n",
       "      <td>CBN-PdlC-A1-20140811.jpg</td>\n",
       "      <td>[(1361281, 0.12936192750930786), (1418612, 0.1...</td>\n",
       "    </tr>\n",
       "    <tr>\n",
       "      <th>...</th>\n",
       "      <td>...</td>\n",
       "      <td>...</td>\n",
       "    </tr>\n",
       "    <tr>\n",
       "      <th>2100</th>\n",
       "      <td>RNNB-8-5-20240118.jpg</td>\n",
       "      <td>[(1361437, 0.7179210782051086), (1655199, 0.52...</td>\n",
       "    </tr>\n",
       "    <tr>\n",
       "      <th>2101</th>\n",
       "      <td>RNNB-8-6-20240118.jpg</td>\n",
       "      <td>[(1655199, 0.37736761569976807), (1363434, 0.2...</td>\n",
       "    </tr>\n",
       "    <tr>\n",
       "      <th>2102</th>\n",
       "      <td>RNNB-8-7-20240118.jpg</td>\n",
       "      <td>[(1359297, 0.30361855030059814), (1356521, 0.2...</td>\n",
       "    </tr>\n",
       "    <tr>\n",
       "      <th>2103</th>\n",
       "      <td>RNNB-8-8-20240118.jpg</td>\n",
       "      <td>[(1359650, 0.3005388379096985), (1396330, 0.28...</td>\n",
       "    </tr>\n",
       "    <tr>\n",
       "      <th>2104</th>\n",
       "      <td>RNNB-8-9-20240118.jpg</td>\n",
       "      <td>[(1655199, 0.21261119842529297), (1361437, 0.2...</td>\n",
       "    </tr>\n",
       "  </tbody>\n",
       "</table>\n",
       "<p>2105 rows × 2 columns</p>\n",
       "</div>"
      ],
      "text/plain": [
       "                    image_name  \\\n",
       "0       2024-CEV3-20240602.jpg   \n",
       "1     CBN-PdlC-A1-20130807.jpg   \n",
       "2     CBN-PdlC-A1-20130903.jpg   \n",
       "3     CBN-PdlC-A1-20140721.jpg   \n",
       "4     CBN-PdlC-A1-20140811.jpg   \n",
       "...                        ...   \n",
       "2100     RNNB-8-5-20240118.jpg   \n",
       "2101     RNNB-8-6-20240118.jpg   \n",
       "2102     RNNB-8-7-20240118.jpg   \n",
       "2103     RNNB-8-8-20240118.jpg   \n",
       "2104     RNNB-8-9-20240118.jpg   \n",
       "\n",
       "                                                 logits  \n",
       "0     [(1654010, 0.44266772270202637), (1395063, 0.3...  \n",
       "1     [(1744569, 0.2301855832338333), (1361917, 0.22...  \n",
       "2     [(1744569, 0.16917195916175842), (1392608, 0.1...  \n",
       "3     [(1529289, 0.14910352230072021), (1374758, 0.1...  \n",
       "4     [(1361281, 0.12936192750930786), (1418612, 0.1...  \n",
       "...                                                 ...  \n",
       "2100  [(1361437, 0.7179210782051086), (1655199, 0.52...  \n",
       "2101  [(1655199, 0.37736761569976807), (1363434, 0.2...  \n",
       "2102  [(1359297, 0.30361855030059814), (1356521, 0.2...  \n",
       "2103  [(1359650, 0.3005388379096985), (1396330, 0.28...  \n",
       "2104  [(1655199, 0.21261119842529297), (1361437, 0.2...  \n",
       "\n",
       "[2105 rows x 2 columns]"
      ]
     },
     "execution_count": 22,
     "metadata": {},
     "output_type": "execute_result"
    }
   ],
   "source": [
    "# top_1 = []\n",
    "# top_2 = []\n",
    "# top_3 = []\n",
    "# top_4 = []\n",
    "# top_5 = []\n",
    "\n",
    "# for i, row in df.iterrows():\n",
    "#     top_1.append(row[\"logits\"][0])\n",
    "#     top_2.append(row[\"logits\"][1])\n",
    "#     top_3.append(row[\"logits\"][2])\n",
    "#     top_4.append(row[\"logits\"][3])\n",
    "#     top_5.append(row[\"logits\"][4])\n",
    "\n",
    "#     print(i)\n",
    "#     # pprint(row)\n",
    "\n",
    "#     if i >= 5:\n",
    "#         break\n",
    "\n",
    "# print(f\"top_1: {top_1}\")\n",
    "# print(f\"top_2: {top_2}\")\n",
    "# print(f\"top_3: {top_3}\")\n",
    "# print(f\"top_4: {top_4}\")\n",
    "# print(f\"top_5: {top_5}\")\n",
    "# top_species_ids = [s_id for s_id, _ in [*top_1, *top_2, *top_3, *top_4, *top_5]]"
   ]
  },
  {
   "cell_type": "markdown",
   "metadata": {},
   "source": [
    "## Explore embeddings"
   ]
  },
  {
   "cell_type": "markdown",
   "metadata": {},
   "source": [
    "### Get embeddings and logits from model.predict_step"
   ]
  },
  {
   "cell_type": "markdown",
   "metadata": {},
   "source": [
    "### Get image names from HFDataset -> Create a pandas DataFrame to match image names to logits + embeddings"
   ]
  },
  {
   "cell_type": "markdown",
   "metadata": {},
   "source": [
    "# Misc below"
   ]
  },
  {
   "attachments": {},
   "cell_type": "markdown",
   "metadata": {},
   "source": [
    "### Extracting embeddings from single-label training images\n",
    "\n",
    "We extract embeddings from a small subset of training images to validate our pipeline.  \n",
    "We don't perform tiling on the train images (we use the full image) and extract 768-dimensional ViT embeddings."
   ]
  },
  {
   "attachments": {},
   "cell_type": "markdown",
   "metadata": {},
   "source": [
    "### Embedding test images with tiling (3x3)\n",
    "\n",
    "\n",
    "Since the test images are high-resolution and contain multiple plant species, we split them into a 3x3 grid of tiles.\n",
    "- We **extract embeddings** and **top-*K* logits** from each tile using the ViT model.  \n",
    "- This **patch-wise representation** is critical for enabling multi-label classification."
   ]
  },
  {
   "attachments": {},
   "cell_type": "markdown",
   "metadata": {},
   "source": [
    "### Analyzing classifier logits per tile\n",
    "\n",
    "For each tile, we look at the **top predicted species** and associated confidence scores (`logits`).  \n",
    "This helps interpret how confident the model is in identifying species in each patch."
   ]
  },
  {
   "attachments": {},
   "cell_type": "markdown",
   "metadata": {},
   "source": [
    "### Embedding the entire test set with tiling\n",
    "\n",
    "We scale up our embedding pipeline to process the full test dataset using **3x3 tiling**.  \n",
    "This prepares the data for the downstream tasks of efficient **nearest neighbor search** and **multi-label prediction** at the tile level."
   ]
  },
  {
   "attachments": {},
   "cell_type": "markdown",
   "metadata": {},
   "source": [
    "### Saving test embeddings and logits to Parquet\n",
    "\n",
    "We serialize the full test embeddings into partitioned Parquet files for later use in inference pipelines.  \n",
    "The logits are stored as JSON strings for flexibility."
   ]
  },
  {
   "attachments": {},
   "cell_type": "markdown",
   "metadata": {},
   "source": [
    "## Embedding the full training set (no tiling)\n",
    "\n",
    "We repeat the embedding process on the **full training dataset**, this time *without tiling*.  \n",
    "This enables us to use the embeddings directly or as a **transfer learning** approach in a Faiss-based nearest neighbor retrieval system."
   ]
  },
  {
   "attachments": {},
   "cell_type": "markdown",
   "metadata": {},
   "source": [
    "### Saving the training embeddings to Parquet\n",
    "\n",
    "Finally, we save the full training embeddings in partitioned Parquet format to support fast, distributed retrieval during inference."
   ]
  },
  {
   "attachments": {},
   "cell_type": "markdown",
   "metadata": {},
   "source": [
    "### Embeddings Ready for Downstream Use\n",
    "\n",
    "We now have rich ViT embeddings for both train and test datasets, ready for use in:\n",
    "- Multi-label classification\n",
    "- Retrieval-based inference\n",
    "- Nearest Neighbor Search"
   ]
  }
 ],
 "metadata": {
  "kernelspec": {
   "display_name": "venv",
   "language": "python",
   "name": "python3"
  },
  "language_info": {
   "codemirror_mode": {
    "name": "ipython",
    "version": 3
   },
   "file_extension": ".py",
   "mimetype": "text/x-python",
   "name": "python",
   "nbconvert_exporter": "python",
   "pygments_lexer": "ipython3",
   "version": "3.10.13"
  }
 },
 "nbformat": 4,
 "nbformat_minor": 2
}
