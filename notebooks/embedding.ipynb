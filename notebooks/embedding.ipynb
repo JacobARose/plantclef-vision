{
 "cells": [
  {
   "attachments": {},
   "cell_type": "markdown",
   "metadata": {},
   "source": [
    "# Embedding workflow using DINOv2\n",
    "\n",
    "This notebook focuses on the **Feature Extraction** pipeline. \n",
    "\n",
    "We utilize the fine-tuned model **ViTD2PC24All** ([DINOv2](https://dinov2.metademolab.com/)) to extract high-dimensional embeddings from the single-label train images and multi-label test images.\n",
    "\n",
    "We'll **visualize**, **tile**, and **process** these embeddings to support patch-wise multi-label inference using PyTorch and Faiss.\n",
    "\n",
    "![diagram](../images/pytorch-webinar-diagram.png)"
   ]
  },
  {
   "cell_type": "code",
   "execution_count": 1,
   "metadata": {},
   "outputs": [],
   "source": [
    "%load_ext autoreload\n",
    "%autoreload 2"
   ]
  },
  {
   "cell_type": "markdown",
   "metadata": {},
   "source": [
    "## Now to load the parquet file from disk and visualize the images"
   ]
  },
  {
   "cell_type": "code",
   "execution_count": 11,
   "metadata": {},
   "outputs": [],
   "source": [
    "import pandas as pd\n",
    "from rich import print as pprint\n",
    "\n",
    "pd.options.display.precision = 2\n",
    "pd.options.display.max_rows = 10\n",
    "pd.options.display.max_columns = 25\n",
    "\n",
    "root_dir = \"/teamspace/studios/this_studio/plantclef-vision/data/plantclef2025\"\n",
    "dataset_dir = \"/teamspace/studios/this_studio/plantclef-vision/data/plantclef2025/competition-metadata/PlantCLEF2025_test_images/PlantCLEF2025_test_images\"\n",
    "hf_dataset_dir = \"/teamspace/studios/this_studio/plantclef-vision/data/parquet/plantclef2025/full_test/HF_dataset\""
   ]
  },
  {
   "cell_type": "code",
   "execution_count": null,
   "metadata": {},
   "outputs": [
    {
     "data": {
      "text/plain": [
       "['chop_threshold',\n",
       " 'colheader_justify',\n",
       " 'date_dayfirst',\n",
       " 'date_yearfirst',\n",
       " 'encoding',\n",
       " 'expand_frame_repr',\n",
       " 'float_format',\n",
       " 'html',\n",
       " 'large_repr',\n",
       " 'max_categories',\n",
       " 'max_columns',\n",
       " 'max_colwidth',\n",
       " 'max_dir_items',\n",
       " 'max_info_columns',\n",
       " 'max_info_rows',\n",
       " 'max_rows',\n",
       " 'max_seq_items',\n",
       " 'memory_usage',\n",
       " 'min_rows',\n",
       " 'multi_sparse',\n",
       " 'notebook_repr_html',\n",
       " 'pprint_nest_depth',\n",
       " 'precision',\n",
       " 'show_dimensions',\n",
       " 'unicode',\n",
       " 'width']"
      ]
     },
     "metadata": {},
     "output_type": "display_data"
    }
   ],
   "source": [
    "dir(pd.options.display)"
   ]
  },
  {
   "cell_type": "code",
   "execution_count": 62,
   "metadata": {},
   "outputs": [],
   "source": [
    "from plantclef.datasets.preprocessing.hf.train_val_test_subsets_to_hf import (\n",
    "    Config,\n",
    "    get_dict_transform,\n",
    ")\n",
    "# from plantclef.datasets import preprocessing"
   ]
  },
  {
   "cell_type": "code",
   "execution_count": 38,
   "metadata": {},
   "outputs": [
    {
     "name": "stdout",
     "output_type": "stream",
     "text": [
      "{'shortest_edge': 588}\n"
     ]
    }
   ],
   "source": [
    "cfg = Config()"
   ]
  },
  {
   "cell_type": "code",
   "execution_count": 39,
   "metadata": {},
   "outputs": [
    {
     "data": {
      "text/plain": [
       "'/teamspace/studios/this_studio/plantclef-vision/data/plantclef2025/competition-metadata/PlantCLEF2024_single_plant_training_metadata.csv'"
      ]
     },
     "execution_count": 39,
     "metadata": {},
     "output_type": "execute_result"
    }
   ],
   "source": [
    "cfg.metadata_path"
   ]
  },
  {
   "cell_type": "code",
   "execution_count": 6,
   "metadata": {},
   "outputs": [
    {
     "data": {
      "text/html": [
       "<pre style=\"white-space:pre;overflow-x:auto;line-height:normal;font-family:Menlo,'DejaVu Sans Mono',consolas,'Courier New',monospace\"><span style=\"color: #800080; text-decoration-color: #800080; font-weight: bold\">Config</span><span style=\"font-weight: bold\">(</span>\n",
       "    <span style=\"color: #808000; text-decoration-color: #808000\">name</span>=<span style=\"color: #008000; text-decoration-color: #008000\">'train_val_test'</span>,\n",
       "    <span style=\"color: #808000; text-decoration-color: #808000\">label_col</span>=<span style=\"color: #008000; text-decoration-color: #008000\">'species_id'</span>,\n",
       "    <span style=\"color: #808000; text-decoration-color: #808000\">target_col</span>=<span style=\"color: #008000; text-decoration-color: #008000\">'label_idx'</span>,\n",
       "    <span style=\"color: #808000; text-decoration-color: #808000\">image_size</span>=<span style=\"font-weight: bold\">{</span><span style=\"color: #008000; text-decoration-color: #008000\">'shortest_edge'</span>: <span style=\"color: #008080; text-decoration-color: #008080; font-weight: bold\">588</span><span style=\"font-weight: bold\">}</span>,\n",
       "    <span style=\"color: #808000; text-decoration-color: #808000\">interpolation_mode</span>=<span style=\"color: #008000; text-decoration-color: #008000\">'nearest'</span>,\n",
       "    <span style=\"color: #808000; text-decoration-color: #808000\">dataset_dir</span>=<span style=\"color: #008000; text-decoration-color: #008000\">'/teamspace/studios/this_studio/plantclef-vision/data/plantclef2025/PlantCLEF2024singleplanttrainin</span>\n",
       "<span style=\"color: #008000; text-decoration-color: #008000\">gdata_800_max_side_size/images_max_side_800'</span>,\n",
       "    <span style=\"color: #808000; text-decoration-color: #808000\">metadata_cache_path</span>=<span style=\"color: #008000; text-decoration-color: #008000\">'/teamspace/studios/this_studio/plantclef-vision/data/plantclef2025/competition-metadata/Pl</span>\n",
       "<span style=\"color: #008000; text-decoration-color: #008000\">antCLEF2024_single_plant_training_metadata.parquet'</span>,\n",
       "    <span style=\"color: #808000; text-decoration-color: #808000\">hf_datasets_root_dir</span>=<span style=\"color: #008000; text-decoration-color: #008000\">'/teamspace/studios/this_studio/plantclef-vision/data/hf'</span>,\n",
       "    <span style=\"color: #808000; text-decoration-color: #808000\">hf_dataset_dir</span>=<span style=\"color: #008000; text-decoration-color: #008000\">'/teamspace/studios/this_studio/plantclef-vision/data/hf/plantclef2025/single_label_train_val_te</span>\n",
       "<span style=\"color: #008000; text-decoration-color: #008000\">st'</span>,\n",
       "    <span style=\"color: #808000; text-decoration-color: #808000\">hf_dataset_path</span>=<span style=\"color: #008000; text-decoration-color: #008000\">'/teamspace/studios/this_studio/plantclef-vision/data/hf/plantclef2025/single_label_train_val_t</span>\n",
       "<span style=\"color: #008000; text-decoration-color: #008000\">est/shortest_edge_588'</span>\n",
       "<span style=\"font-weight: bold\">)</span>\n",
       "</pre>\n"
      ],
      "text/plain": [
       "\u001b[1;35mConfig\u001b[0m\u001b[1m(\u001b[0m\n",
       "    \u001b[33mname\u001b[0m=\u001b[32m'train_val_test'\u001b[0m,\n",
       "    \u001b[33mlabel_col\u001b[0m=\u001b[32m'species_id'\u001b[0m,\n",
       "    \u001b[33mtarget_col\u001b[0m=\u001b[32m'label_idx'\u001b[0m,\n",
       "    \u001b[33mimage_size\u001b[0m=\u001b[1m{\u001b[0m\u001b[32m'shortest_edge'\u001b[0m: \u001b[1;36m588\u001b[0m\u001b[1m}\u001b[0m,\n",
       "    \u001b[33minterpolation_mode\u001b[0m=\u001b[32m'nearest'\u001b[0m,\n",
       "    \u001b[33mdataset_dir\u001b[0m=\u001b[32m'/teamspace/studios/this_studio/plantclef-vision/data/plantclef2025/PlantCLEF2024singleplanttrainin\u001b[0m\n",
       "\u001b[32mgdata_800_max_side_size/images_max_side_800'\u001b[0m,\n",
       "    \u001b[33mmetadata_cache_path\u001b[0m=\u001b[32m'/teamspace/studios/this_studio/plantclef-vision/data/plantclef2025/competition-metadata/Pl\u001b[0m\n",
       "\u001b[32mantCLEF2024_single_plant_training_metadata.parquet'\u001b[0m,\n",
       "    \u001b[33mhf_datasets_root_dir\u001b[0m=\u001b[32m'/teamspace/studios/this_studio/plantclef-vision/data/hf'\u001b[0m,\n",
       "    \u001b[33mhf_dataset_dir\u001b[0m=\u001b[32m'/teamspace/studios/this_studio/plantclef-vision/data/hf/plantclef2025/single_label_train_val_te\u001b[0m\n",
       "\u001b[32mst'\u001b[0m,\n",
       "    \u001b[33mhf_dataset_path\u001b[0m=\u001b[32m'/teamspace/studios/this_studio/plantclef-vision/data/hf/plantclef2025/single_label_train_val_t\u001b[0m\n",
       "\u001b[32mest/shortest_edge_588'\u001b[0m\n",
       "\u001b[1m)\u001b[0m\n"
      ]
     },
     "metadata": {},
     "output_type": "display_data"
    },
    {
     "name": "stdout",
     "output_type": "stream",
     "text": [
      "[Cache Found] previously preprocessed metadata cache, loading from cache file and skipping preprocessing\n"
     ]
    }
   ],
   "source": [
    "cfg.show()\n",
    "\n",
    "metadata = cfg.load_metadata()\n",
    "class2idx = cfg.load_class_index(mode=\"class2idx\")\n",
    "\n",
    "metadata = cfg.encode_target_col(metadata, class2idx=class2idx)"
   ]
  },
  {
   "cell_type": "code",
   "execution_count": 27,
   "metadata": {},
   "outputs": [],
   "source": [
    "keep_cols = [\n",
    "    \"image_path\",\n",
    "    \"label_idx\",\n",
    "    \"image_name\",\n",
    "    \"organ\",\n",
    "    \"species_id\",\n",
    "    \"obs_id\",\n",
    "    \"author\",\n",
    "    \"altitude\",\n",
    "    \"latitude\",\n",
    "    \"longitude\",\n",
    "    \"species\",\n",
    "    \"genus\",\n",
    "    \"family\",\n",
    "    \"learn_tag\",\n",
    "]\n",
    "\n",
    "metadata = metadata[keep_cols]"
   ]
  },
  {
   "cell_type": "code",
   "execution_count": 47,
   "metadata": {},
   "outputs": [
    {
     "data": {
      "text/plain": [
       "DatasetDict({\n",
       "    train: Dataset({\n",
       "        features: ['image_path', 'label_idx', 'image_name', 'organ', 'species_id', 'obs_id', 'author', 'altitude', 'latitude', 'longitude', 'species', 'genus', 'family', 'learn_tag', '__index_level_0__'],\n",
       "        num_rows: 1308899\n",
       "    })\n",
       "    val: Dataset({\n",
       "        features: ['image_path', 'label_idx', 'image_name', 'organ', 'species_id', 'obs_id', 'author', 'altitude', 'latitude', 'longitude', 'species', 'genus', 'family', 'learn_tag', '__index_level_0__'],\n",
       "        num_rows: 51194\n",
       "    })\n",
       "    test: Dataset({\n",
       "        features: ['image_path', 'label_idx', 'image_name', 'organ', 'species_id', 'obs_id', 'author', 'altitude', 'latitude', 'longitude', 'species', 'genus', 'family', 'learn_tag', '__index_level_0__'],\n",
       "        num_rows: 47940\n",
       "    })\n",
       "})"
      ]
     },
     "execution_count": 47,
     "metadata": {},
     "output_type": "execute_result"
    }
   ],
   "source": [
    "from datasets import Dataset as HFDataset, DatasetDict as HFDatasetDict\n",
    "from datasets import Image\n",
    "\n",
    "train_df = metadata[metadata[\"learn_tag\"] == \"train\"]\n",
    "val_df = metadata[metadata[\"learn_tag\"] == \"val\"]\n",
    "test_df = metadata[metadata[\"learn_tag\"] == \"test\"]\n",
    "\n",
    "train_ds = HFDataset.from_pandas(train_df)\n",
    "val_ds = HFDataset.from_pandas(val_df)\n",
    "test_ds = HFDataset.from_pandas(test_df)\n",
    "\n",
    "\n",
    "dataset = HFDatasetDict({\"train\": train_ds, \"val\": val_ds, \"test\": test_ds})\n",
    "dataset = dataset.cast_column(cfg.x_col, Image())\n",
    "dataset"
   ]
  },
  {
   "cell_type": "code",
   "execution_count": null,
   "metadata": {},
   "outputs": [
    {
     "data": {
      "text/plain": [
       "True"
      ]
     },
     "execution_count": 56,
     "metadata": {},
     "output_type": "execute_result"
    }
   ],
   "source": []
  },
  {
   "cell_type": "code",
   "execution_count": 64,
   "metadata": {},
   "outputs": [
    {
     "data": {
      "text/plain": [
       "<function plantclef.datasets.preprocessing.hf.train_val_test_subsets_to_hf.get_dict_transform.<locals>.func(data, *args, **kwargs)>"
      ]
     },
     "execution_count": 64,
     "metadata": {},
     "output_type": "execute_result"
    }
   ],
   "source": [
    "# def get_dict_transform(transform_kwargs = {}, input_columns=None) -> Callable:\n",
    "\n",
    "#     tx = get_transforms(**transform_kwargs)\n",
    "#     def func(data, *args, **kwargs):\n",
    "#         if (input_columns is not None) and isinstance(input_columns, str):\n",
    "#             data = data[input_columns]\n",
    "#             return {input_columns: tx(data)}\n",
    "#         return tx(data)\n",
    "\n",
    "#     return func\n",
    "\n",
    "tx = get_dict_transform(\n",
    "    transform_kwargs={\"image_size\": {\"shortest_edge\": 716}}, input_columns=cfg.x_col\n",
    ")\n",
    "tx"
   ]
  },
  {
   "cell_type": "code",
   "execution_count": null,
   "metadata": {},
   "outputs": [],
   "source": [
    "dataset[\"train\"][0][cfg.x_col]"
   ]
  },
  {
   "cell_type": "code",
   "execution_count": 65,
   "metadata": {},
   "outputs": [
    {
     "data": {
      "application/vnd.jupyter.widget-view+json": {
       "model_id": "d7f003905277432390f85162a7ea94ab",
       "version_major": 2,
       "version_minor": 0
      },
      "text/plain": [
       "Map:   0%|          | 0/1308899 [00:00<?, ? examples/s]"
      ]
     },
     "metadata": {},
     "output_type": "display_data"
    },
    {
     "ename": "KeyboardInterrupt",
     "evalue": "",
     "output_type": "error",
     "traceback": [
      "\u001b[0;31m---------------------------------------------------------------------------\u001b[0m",
      "\u001b[0;31mKeyboardInterrupt\u001b[0m                         Traceback (most recent call last)",
      "Cell \u001b[0;32mIn[65], line 1\u001b[0m\n\u001b[0;32m----> 1\u001b[0m dataset \u001b[38;5;241m=\u001b[39m \u001b[43mdataset\u001b[49m\u001b[38;5;241;43m.\u001b[39;49m\u001b[43mmap\u001b[49m\u001b[43m(\u001b[49m\u001b[43mtx\u001b[49m\u001b[43m,\u001b[49m\u001b[43m \u001b[49m\u001b[43minput_columns\u001b[49m\u001b[38;5;241;43m=\u001b[39;49m\u001b[43mcfg\u001b[49m\u001b[38;5;241;43m.\u001b[39;49m\u001b[43mx_col\u001b[49m\u001b[43m)\u001b[49m\n\u001b[1;32m      2\u001b[0m dataset\n",
      "File \u001b[0;32m/home/zeus/miniconda3/envs/cloudspace/lib/python3.10/site-packages/datasets/dataset_dict.py:941\u001b[0m, in \u001b[0;36mDatasetDict.map\u001b[0;34m(self, function, with_indices, with_rank, with_split, input_columns, batched, batch_size, drop_last_batch, remove_columns, keep_in_memory, load_from_cache_file, cache_file_names, writer_batch_size, features, disable_nullable, fn_kwargs, num_proc, desc)\u001b[0m\n\u001b[1;32m    938\u001b[0m \u001b[38;5;28;01mif\u001b[39;00m with_split:\n\u001b[1;32m    939\u001b[0m     function \u001b[38;5;241m=\u001b[39m bind(function, split)\n\u001b[0;32m--> 941\u001b[0m dataset_dict[split] \u001b[38;5;241m=\u001b[39m \u001b[43mdataset\u001b[49m\u001b[38;5;241;43m.\u001b[39;49m\u001b[43mmap\u001b[49m\u001b[43m(\u001b[49m\n\u001b[1;32m    942\u001b[0m \u001b[43m    \u001b[49m\u001b[43mfunction\u001b[49m\u001b[38;5;241;43m=\u001b[39;49m\u001b[43mfunction\u001b[49m\u001b[43m,\u001b[49m\n\u001b[1;32m    943\u001b[0m \u001b[43m    \u001b[49m\u001b[43mwith_indices\u001b[49m\u001b[38;5;241;43m=\u001b[39;49m\u001b[43mwith_indices\u001b[49m\u001b[43m,\u001b[49m\n\u001b[1;32m    944\u001b[0m \u001b[43m    \u001b[49m\u001b[43mwith_rank\u001b[49m\u001b[38;5;241;43m=\u001b[39;49m\u001b[43mwith_rank\u001b[49m\u001b[43m,\u001b[49m\n\u001b[1;32m    945\u001b[0m \u001b[43m    \u001b[49m\u001b[43minput_columns\u001b[49m\u001b[38;5;241;43m=\u001b[39;49m\u001b[43minput_columns\u001b[49m\u001b[43m,\u001b[49m\n\u001b[1;32m    946\u001b[0m \u001b[43m    \u001b[49m\u001b[43mbatched\u001b[49m\u001b[38;5;241;43m=\u001b[39;49m\u001b[43mbatched\u001b[49m\u001b[43m,\u001b[49m\n\u001b[1;32m    947\u001b[0m \u001b[43m    \u001b[49m\u001b[43mbatch_size\u001b[49m\u001b[38;5;241;43m=\u001b[39;49m\u001b[43mbatch_size\u001b[49m\u001b[43m,\u001b[49m\n\u001b[1;32m    948\u001b[0m \u001b[43m    \u001b[49m\u001b[43mdrop_last_batch\u001b[49m\u001b[38;5;241;43m=\u001b[39;49m\u001b[43mdrop_last_batch\u001b[49m\u001b[43m,\u001b[49m\n\u001b[1;32m    949\u001b[0m \u001b[43m    \u001b[49m\u001b[43mremove_columns\u001b[49m\u001b[38;5;241;43m=\u001b[39;49m\u001b[43mremove_columns\u001b[49m\u001b[43m,\u001b[49m\n\u001b[1;32m    950\u001b[0m \u001b[43m    \u001b[49m\u001b[43mkeep_in_memory\u001b[49m\u001b[38;5;241;43m=\u001b[39;49m\u001b[43mkeep_in_memory\u001b[49m\u001b[43m,\u001b[49m\n\u001b[1;32m    951\u001b[0m \u001b[43m    \u001b[49m\u001b[43mload_from_cache_file\u001b[49m\u001b[38;5;241;43m=\u001b[39;49m\u001b[43mload_from_cache_file\u001b[49m\u001b[43m,\u001b[49m\n\u001b[1;32m    952\u001b[0m \u001b[43m    \u001b[49m\u001b[43mcache_file_name\u001b[49m\u001b[38;5;241;43m=\u001b[39;49m\u001b[43mcache_file_names\u001b[49m\u001b[43m[\u001b[49m\u001b[43msplit\u001b[49m\u001b[43m]\u001b[49m\u001b[43m,\u001b[49m\n\u001b[1;32m    953\u001b[0m \u001b[43m    \u001b[49m\u001b[43mwriter_batch_size\u001b[49m\u001b[38;5;241;43m=\u001b[39;49m\u001b[43mwriter_batch_size\u001b[49m\u001b[43m,\u001b[49m\n\u001b[1;32m    954\u001b[0m \u001b[43m    \u001b[49m\u001b[43mfeatures\u001b[49m\u001b[38;5;241;43m=\u001b[39;49m\u001b[43mfeatures\u001b[49m\u001b[43m,\u001b[49m\n\u001b[1;32m    955\u001b[0m \u001b[43m    \u001b[49m\u001b[43mdisable_nullable\u001b[49m\u001b[38;5;241;43m=\u001b[39;49m\u001b[43mdisable_nullable\u001b[49m\u001b[43m,\u001b[49m\n\u001b[1;32m    956\u001b[0m \u001b[43m    \u001b[49m\u001b[43mfn_kwargs\u001b[49m\u001b[38;5;241;43m=\u001b[39;49m\u001b[43mfn_kwargs\u001b[49m\u001b[43m,\u001b[49m\n\u001b[1;32m    957\u001b[0m \u001b[43m    \u001b[49m\u001b[43mnum_proc\u001b[49m\u001b[38;5;241;43m=\u001b[39;49m\u001b[43mnum_proc\u001b[49m\u001b[43m,\u001b[49m\n\u001b[1;32m    958\u001b[0m \u001b[43m    \u001b[49m\u001b[43mdesc\u001b[49m\u001b[38;5;241;43m=\u001b[39;49m\u001b[43mdesc\u001b[49m\u001b[43m,\u001b[49m\n\u001b[1;32m    959\u001b[0m \u001b[43m\u001b[49m\u001b[43m)\u001b[49m\n\u001b[1;32m    961\u001b[0m \u001b[38;5;28;01mif\u001b[39;00m with_split:\n\u001b[1;32m    962\u001b[0m     function \u001b[38;5;241m=\u001b[39m function\u001b[38;5;241m.\u001b[39mfunc\n",
      "File \u001b[0;32m/home/zeus/miniconda3/envs/cloudspace/lib/python3.10/site-packages/datasets/arrow_dataset.py:557\u001b[0m, in \u001b[0;36mtransmit_format.<locals>.wrapper\u001b[0;34m(*args, **kwargs)\u001b[0m\n\u001b[1;32m    550\u001b[0m self_format \u001b[38;5;241m=\u001b[39m {\n\u001b[1;32m    551\u001b[0m     \u001b[38;5;124m\"\u001b[39m\u001b[38;5;124mtype\u001b[39m\u001b[38;5;124m\"\u001b[39m: \u001b[38;5;28mself\u001b[39m\u001b[38;5;241m.\u001b[39m_format_type,\n\u001b[1;32m    552\u001b[0m     \u001b[38;5;124m\"\u001b[39m\u001b[38;5;124mformat_kwargs\u001b[39m\u001b[38;5;124m\"\u001b[39m: \u001b[38;5;28mself\u001b[39m\u001b[38;5;241m.\u001b[39m_format_kwargs,\n\u001b[1;32m    553\u001b[0m     \u001b[38;5;124m\"\u001b[39m\u001b[38;5;124mcolumns\u001b[39m\u001b[38;5;124m\"\u001b[39m: \u001b[38;5;28mself\u001b[39m\u001b[38;5;241m.\u001b[39m_format_columns,\n\u001b[1;32m    554\u001b[0m     \u001b[38;5;124m\"\u001b[39m\u001b[38;5;124moutput_all_columns\u001b[39m\u001b[38;5;124m\"\u001b[39m: \u001b[38;5;28mself\u001b[39m\u001b[38;5;241m.\u001b[39m_output_all_columns,\n\u001b[1;32m    555\u001b[0m }\n\u001b[1;32m    556\u001b[0m \u001b[38;5;66;03m# apply actual function\u001b[39;00m\n\u001b[0;32m--> 557\u001b[0m out: Union[\u001b[38;5;124m\"\u001b[39m\u001b[38;5;124mDataset\u001b[39m\u001b[38;5;124m\"\u001b[39m, \u001b[38;5;124m\"\u001b[39m\u001b[38;5;124mDatasetDict\u001b[39m\u001b[38;5;124m\"\u001b[39m] \u001b[38;5;241m=\u001b[39m \u001b[43mfunc\u001b[49m\u001b[43m(\u001b[49m\u001b[38;5;28;43mself\u001b[39;49m\u001b[43m,\u001b[49m\u001b[43m \u001b[49m\u001b[38;5;241;43m*\u001b[39;49m\u001b[43margs\u001b[49m\u001b[43m,\u001b[49m\u001b[43m \u001b[49m\u001b[38;5;241;43m*\u001b[39;49m\u001b[38;5;241;43m*\u001b[39;49m\u001b[43mkwargs\u001b[49m\u001b[43m)\u001b[49m\n\u001b[1;32m    558\u001b[0m datasets: \u001b[38;5;28mlist\u001b[39m[\u001b[38;5;124m\"\u001b[39m\u001b[38;5;124mDataset\u001b[39m\u001b[38;5;124m\"\u001b[39m] \u001b[38;5;241m=\u001b[39m \u001b[38;5;28mlist\u001b[39m(out\u001b[38;5;241m.\u001b[39mvalues()) \u001b[38;5;28;01mif\u001b[39;00m \u001b[38;5;28misinstance\u001b[39m(out, \u001b[38;5;28mdict\u001b[39m) \u001b[38;5;28;01melse\u001b[39;00m [out]\n\u001b[1;32m    559\u001b[0m \u001b[38;5;66;03m# re-apply format to the output\u001b[39;00m\n",
      "File \u001b[0;32m/home/zeus/miniconda3/envs/cloudspace/lib/python3.10/site-packages/datasets/arrow_dataset.py:3085\u001b[0m, in \u001b[0;36mDataset.map\u001b[0;34m(self, function, with_indices, with_rank, input_columns, batched, batch_size, drop_last_batch, remove_columns, keep_in_memory, load_from_cache_file, cache_file_name, writer_batch_size, features, disable_nullable, fn_kwargs, num_proc, suffix_template, new_fingerprint, desc, try_original_type)\u001b[0m\n\u001b[1;32m   3083\u001b[0m                 transformed_dataset \u001b[38;5;241m=\u001b[39m content\n\u001b[1;32m   3084\u001b[0m             \u001b[38;5;28;01melse\u001b[39;00m:\n\u001b[0;32m-> 3085\u001b[0m                 \u001b[43mpbar\u001b[49m\u001b[38;5;241;43m.\u001b[39;49m\u001b[43mupdate\u001b[49m\u001b[43m(\u001b[49m\u001b[43mcontent\u001b[49m\u001b[43m)\u001b[49m\n\u001b[1;32m   3086\u001b[0m \u001b[38;5;28;01massert\u001b[39;00m transformed_dataset \u001b[38;5;129;01mis\u001b[39;00m \u001b[38;5;129;01mnot\u001b[39;00m \u001b[38;5;28;01mNone\u001b[39;00m, \u001b[38;5;124m\"\u001b[39m\u001b[38;5;124mFailed to retrieve the result from map\u001b[39m\u001b[38;5;124m\"\u001b[39m\n\u001b[1;32m   3087\u001b[0m \u001b[38;5;66;03m# update fingerprint if the dataset changed\u001b[39;00m\n",
      "File \u001b[0;32m/home/zeus/miniconda3/envs/cloudspace/lib/python3.10/site-packages/tqdm/notebook.py:262\u001b[0m, in \u001b[0;36mtqdm_notebook.update\u001b[0;34m(self, n)\u001b[0m\n\u001b[1;32m    260\u001b[0m \u001b[38;5;28;01mdef\u001b[39;00m\u001b[38;5;250m \u001b[39m\u001b[38;5;21mupdate\u001b[39m(\u001b[38;5;28mself\u001b[39m, n\u001b[38;5;241m=\u001b[39m\u001b[38;5;241m1\u001b[39m):\n\u001b[1;32m    261\u001b[0m     \u001b[38;5;28;01mtry\u001b[39;00m:\n\u001b[0;32m--> 262\u001b[0m         \u001b[38;5;28;01mreturn\u001b[39;00m \u001b[38;5;28;43msuper\u001b[39;49m\u001b[43m(\u001b[49m\u001b[43m)\u001b[49m\u001b[38;5;241;43m.\u001b[39;49m\u001b[43mupdate\u001b[49m\u001b[43m(\u001b[49m\u001b[43mn\u001b[49m\u001b[38;5;241;43m=\u001b[39;49m\u001b[43mn\u001b[49m\u001b[43m)\u001b[49m\n\u001b[1;32m    263\u001b[0m     \u001b[38;5;66;03m# NB: except ... [ as ...] breaks IPython async KeyboardInterrupt\u001b[39;00m\n\u001b[1;32m    264\u001b[0m     \u001b[38;5;28;01mexcept\u001b[39;00m:  \u001b[38;5;66;03m# NOQA\u001b[39;00m\n\u001b[1;32m    265\u001b[0m         \u001b[38;5;66;03m# cannot catch KeyboardInterrupt when using manual tqdm\u001b[39;00m\n\u001b[1;32m    266\u001b[0m         \u001b[38;5;66;03m# as the interrupt will most likely happen on another statement\u001b[39;00m\n",
      "File \u001b[0;32m/home/zeus/miniconda3/envs/cloudspace/lib/python3.10/site-packages/tqdm/std.py:1242\u001b[0m, in \u001b[0;36mtqdm.update\u001b[0;34m(self, n)\u001b[0m\n\u001b[1;32m   1240\u001b[0m     \u001b[38;5;28mself\u001b[39m\u001b[38;5;241m.\u001b[39m_ema_dn(dn)\n\u001b[1;32m   1241\u001b[0m     \u001b[38;5;28mself\u001b[39m\u001b[38;5;241m.\u001b[39m_ema_dt(dt)\n\u001b[0;32m-> 1242\u001b[0m \u001b[38;5;28;43mself\u001b[39;49m\u001b[38;5;241;43m.\u001b[39;49m\u001b[43mrefresh\u001b[49m\u001b[43m(\u001b[49m\u001b[43mlock_args\u001b[49m\u001b[38;5;241;43m=\u001b[39;49m\u001b[38;5;28;43mself\u001b[39;49m\u001b[38;5;241;43m.\u001b[39;49m\u001b[43mlock_args\u001b[49m\u001b[43m)\u001b[49m\n\u001b[1;32m   1243\u001b[0m \u001b[38;5;28;01mif\u001b[39;00m \u001b[38;5;28mself\u001b[39m\u001b[38;5;241m.\u001b[39mdynamic_miniters:\n\u001b[1;32m   1244\u001b[0m     \u001b[38;5;66;03m# If no `miniters` was specified, adjust automatically to the\u001b[39;00m\n\u001b[1;32m   1245\u001b[0m     \u001b[38;5;66;03m# maximum iteration rate seen so far between two prints.\u001b[39;00m\n\u001b[1;32m   1246\u001b[0m     \u001b[38;5;66;03m# e.g.: After running `tqdm.update(5)`, subsequent\u001b[39;00m\n\u001b[1;32m   1247\u001b[0m     \u001b[38;5;66;03m# calls to `tqdm.update()` will only cause an update after\u001b[39;00m\n\u001b[1;32m   1248\u001b[0m     \u001b[38;5;66;03m# at least 5 more iterations.\u001b[39;00m\n\u001b[1;32m   1249\u001b[0m     \u001b[38;5;28;01mif\u001b[39;00m \u001b[38;5;28mself\u001b[39m\u001b[38;5;241m.\u001b[39mmaxinterval \u001b[38;5;129;01mand\u001b[39;00m dt \u001b[38;5;241m>\u001b[39m\u001b[38;5;241m=\u001b[39m \u001b[38;5;28mself\u001b[39m\u001b[38;5;241m.\u001b[39mmaxinterval:\n",
      "File \u001b[0;32m/home/zeus/miniconda3/envs/cloudspace/lib/python3.10/site-packages/tqdm/std.py:1347\u001b[0m, in \u001b[0;36mtqdm.refresh\u001b[0;34m(self, nolock, lock_args)\u001b[0m\n\u001b[1;32m   1345\u001b[0m     \u001b[38;5;28;01melse\u001b[39;00m:\n\u001b[1;32m   1346\u001b[0m         \u001b[38;5;28mself\u001b[39m\u001b[38;5;241m.\u001b[39m_lock\u001b[38;5;241m.\u001b[39macquire()\n\u001b[0;32m-> 1347\u001b[0m \u001b[38;5;28;43mself\u001b[39;49m\u001b[38;5;241;43m.\u001b[39;49m\u001b[43mdisplay\u001b[49m\u001b[43m(\u001b[49m\u001b[43m)\u001b[49m\n\u001b[1;32m   1348\u001b[0m \u001b[38;5;28;01mif\u001b[39;00m \u001b[38;5;129;01mnot\u001b[39;00m nolock:\n\u001b[1;32m   1349\u001b[0m     \u001b[38;5;28mself\u001b[39m\u001b[38;5;241m.\u001b[39m_lock\u001b[38;5;241m.\u001b[39mrelease()\n",
      "File \u001b[0;32m/home/zeus/miniconda3/envs/cloudspace/lib/python3.10/site-packages/tqdm/notebook.py:157\u001b[0m, in \u001b[0;36mtqdm_notebook.display\u001b[0;34m(self, msg, pos, close, bar_style, check_delay)\u001b[0m\n\u001b[1;32m    154\u001b[0m     msg \u001b[38;5;241m=\u001b[39m \u001b[38;5;28mself\u001b[39m\u001b[38;5;241m.\u001b[39mformat_meter(\u001b[38;5;241m*\u001b[39m\u001b[38;5;241m*\u001b[39md)\n\u001b[1;32m    156\u001b[0m ltext, pbar, rtext \u001b[38;5;241m=\u001b[39m \u001b[38;5;28mself\u001b[39m\u001b[38;5;241m.\u001b[39mcontainer\u001b[38;5;241m.\u001b[39mchildren\n\u001b[0;32m--> 157\u001b[0m \u001b[43mpbar\u001b[49m\u001b[38;5;241;43m.\u001b[39;49m\u001b[43mvalue\u001b[49m \u001b[38;5;241m=\u001b[39m \u001b[38;5;28mself\u001b[39m\u001b[38;5;241m.\u001b[39mn\n\u001b[1;32m    159\u001b[0m \u001b[38;5;28;01mif\u001b[39;00m msg:\n\u001b[1;32m    160\u001b[0m     msg \u001b[38;5;241m=\u001b[39m msg\u001b[38;5;241m.\u001b[39mreplace(\u001b[38;5;124m'\u001b[39m\u001b[38;5;124m \u001b[39m\u001b[38;5;124m'\u001b[39m, \u001b[38;5;124mu\u001b[39m\u001b[38;5;124m'\u001b[39m\u001b[38;5;130;01m\\u2007\u001b[39;00m\u001b[38;5;124m'\u001b[39m)  \u001b[38;5;66;03m# fix html space padding\u001b[39;00m\n",
      "File \u001b[0;32m/home/zeus/miniconda3/envs/cloudspace/lib/python3.10/site-packages/traitlets/traitlets.py:732\u001b[0m, in \u001b[0;36mTraitType.__set__\u001b[0;34m(self, obj, value)\u001b[0m\n\u001b[1;32m    730\u001b[0m     \u001b[38;5;28;01mraise\u001b[39;00m TraitError(\u001b[38;5;124m'\u001b[39m\u001b[38;5;124mThe \u001b[39m\u001b[38;5;124m\"\u001b[39m\u001b[38;5;132;01m%s\u001b[39;00m\u001b[38;5;124m\"\u001b[39m\u001b[38;5;124m trait is read-only.\u001b[39m\u001b[38;5;124m'\u001b[39m \u001b[38;5;241m%\u001b[39m \u001b[38;5;28mself\u001b[39m\u001b[38;5;241m.\u001b[39mname)\n\u001b[1;32m    731\u001b[0m \u001b[38;5;28;01melse\u001b[39;00m:\n\u001b[0;32m--> 732\u001b[0m     \u001b[38;5;28;43mself\u001b[39;49m\u001b[38;5;241;43m.\u001b[39;49m\u001b[43mset\u001b[49m\u001b[43m(\u001b[49m\u001b[43mobj\u001b[49m\u001b[43m,\u001b[49m\u001b[43m \u001b[49m\u001b[43mvalue\u001b[49m\u001b[43m)\u001b[49m\n",
      "File \u001b[0;32m/home/zeus/miniconda3/envs/cloudspace/lib/python3.10/site-packages/traitlets/traitlets.py:721\u001b[0m, in \u001b[0;36mTraitType.set\u001b[0;34m(self, obj, value)\u001b[0m\n\u001b[1;32m    717\u001b[0m     silent \u001b[38;5;241m=\u001b[39m \u001b[38;5;28;01mFalse\u001b[39;00m\n\u001b[1;32m    718\u001b[0m \u001b[38;5;28;01mif\u001b[39;00m silent \u001b[38;5;129;01mis\u001b[39;00m \u001b[38;5;129;01mnot\u001b[39;00m \u001b[38;5;28;01mTrue\u001b[39;00m:\n\u001b[1;32m    719\u001b[0m     \u001b[38;5;66;03m# we explicitly compare silent to True just in case the equality\u001b[39;00m\n\u001b[1;32m    720\u001b[0m     \u001b[38;5;66;03m# comparison above returns something other than True/False\u001b[39;00m\n\u001b[0;32m--> 721\u001b[0m     \u001b[43mobj\u001b[49m\u001b[38;5;241;43m.\u001b[39;49m\u001b[43m_notify_trait\u001b[49m\u001b[43m(\u001b[49m\u001b[38;5;28;43mself\u001b[39;49m\u001b[38;5;241;43m.\u001b[39;49m\u001b[43mname\u001b[49m\u001b[43m,\u001b[49m\u001b[43m \u001b[49m\u001b[43mold_value\u001b[49m\u001b[43m,\u001b[49m\u001b[43m \u001b[49m\u001b[43mnew_value\u001b[49m\u001b[43m)\u001b[49m\n",
      "File \u001b[0;32m/home/zeus/miniconda3/envs/cloudspace/lib/python3.10/site-packages/traitlets/traitlets.py:1505\u001b[0m, in \u001b[0;36mHasTraits._notify_trait\u001b[0;34m(self, name, old_value, new_value)\u001b[0m\n\u001b[1;32m   1504\u001b[0m \u001b[38;5;28;01mdef\u001b[39;00m\u001b[38;5;250m \u001b[39m\u001b[38;5;21m_notify_trait\u001b[39m(\u001b[38;5;28mself\u001b[39m, name, old_value, new_value):\n\u001b[0;32m-> 1505\u001b[0m     \u001b[38;5;28;43mself\u001b[39;49m\u001b[38;5;241;43m.\u001b[39;49m\u001b[43mnotify_change\u001b[49m\u001b[43m(\u001b[49m\n\u001b[1;32m   1506\u001b[0m \u001b[43m        \u001b[49m\u001b[43mBunch\u001b[49m\u001b[43m(\u001b[49m\n\u001b[1;32m   1507\u001b[0m \u001b[43m            \u001b[49m\u001b[43mname\u001b[49m\u001b[38;5;241;43m=\u001b[39;49m\u001b[43mname\u001b[49m\u001b[43m,\u001b[49m\n\u001b[1;32m   1508\u001b[0m \u001b[43m            \u001b[49m\u001b[43mold\u001b[49m\u001b[38;5;241;43m=\u001b[39;49m\u001b[43mold_value\u001b[49m\u001b[43m,\u001b[49m\n\u001b[1;32m   1509\u001b[0m \u001b[43m            \u001b[49m\u001b[43mnew\u001b[49m\u001b[38;5;241;43m=\u001b[39;49m\u001b[43mnew_value\u001b[49m\u001b[43m,\u001b[49m\n\u001b[1;32m   1510\u001b[0m \u001b[43m            \u001b[49m\u001b[43mowner\u001b[49m\u001b[38;5;241;43m=\u001b[39;49m\u001b[38;5;28;43mself\u001b[39;49m\u001b[43m,\u001b[49m\n\u001b[1;32m   1511\u001b[0m \u001b[43m            \u001b[49m\u001b[38;5;28;43mtype\u001b[39;49m\u001b[38;5;241;43m=\u001b[39;49m\u001b[38;5;124;43m\"\u001b[39;49m\u001b[38;5;124;43mchange\u001b[39;49m\u001b[38;5;124;43m\"\u001b[39;49m\u001b[43m,\u001b[49m\n\u001b[1;32m   1512\u001b[0m \u001b[43m        \u001b[49m\u001b[43m)\u001b[49m\n\u001b[1;32m   1513\u001b[0m \u001b[43m    \u001b[49m\u001b[43m)\u001b[49m\n",
      "File \u001b[0;32m/home/zeus/miniconda3/envs/cloudspace/lib/python3.10/site-packages/ipywidgets/widgets/widget.py:700\u001b[0m, in \u001b[0;36mWidget.notify_change\u001b[0;34m(self, change)\u001b[0m\n\u001b[1;32m    696\u001b[0m \u001b[38;5;28;01mif\u001b[39;00m \u001b[38;5;28mself\u001b[39m\u001b[38;5;241m.\u001b[39mcomm \u001b[38;5;129;01mis\u001b[39;00m \u001b[38;5;129;01mnot\u001b[39;00m \u001b[38;5;28;01mNone\u001b[39;00m \u001b[38;5;129;01mand\u001b[39;00m \u001b[38;5;28mgetattr\u001b[39m(\u001b[38;5;28mself\u001b[39m\u001b[38;5;241m.\u001b[39mcomm, \u001b[38;5;124m'\u001b[39m\u001b[38;5;124mkernel\u001b[39m\u001b[38;5;124m'\u001b[39m, \u001b[38;5;28;01mTrue\u001b[39;00m) \u001b[38;5;129;01mis\u001b[39;00m \u001b[38;5;129;01mnot\u001b[39;00m \u001b[38;5;28;01mNone\u001b[39;00m:\n\u001b[1;32m    697\u001b[0m     \u001b[38;5;66;03m# Make sure this isn't information that the front-end just sent us.\u001b[39;00m\n\u001b[1;32m    698\u001b[0m     \u001b[38;5;28;01mif\u001b[39;00m name \u001b[38;5;129;01min\u001b[39;00m \u001b[38;5;28mself\u001b[39m\u001b[38;5;241m.\u001b[39mkeys \u001b[38;5;129;01mand\u001b[39;00m \u001b[38;5;28mself\u001b[39m\u001b[38;5;241m.\u001b[39m_should_send_property(name, \u001b[38;5;28mgetattr\u001b[39m(\u001b[38;5;28mself\u001b[39m, name)):\n\u001b[1;32m    699\u001b[0m         \u001b[38;5;66;03m# Send new state to front-end\u001b[39;00m\n\u001b[0;32m--> 700\u001b[0m         \u001b[38;5;28;43mself\u001b[39;49m\u001b[38;5;241;43m.\u001b[39;49m\u001b[43msend_state\u001b[49m\u001b[43m(\u001b[49m\u001b[43mkey\u001b[49m\u001b[38;5;241;43m=\u001b[39;49m\u001b[43mname\u001b[49m\u001b[43m)\u001b[49m\n\u001b[1;32m    701\u001b[0m \u001b[38;5;28msuper\u001b[39m()\u001b[38;5;241m.\u001b[39mnotify_change(change)\n",
      "File \u001b[0;32m/home/zeus/miniconda3/envs/cloudspace/lib/python3.10/site-packages/ipywidgets/widgets/widget.py:586\u001b[0m, in \u001b[0;36mWidget.send_state\u001b[0;34m(self, key)\u001b[0m\n\u001b[1;32m    584\u001b[0m state, buffer_paths, buffers \u001b[38;5;241m=\u001b[39m _remove_buffers(state)\n\u001b[1;32m    585\u001b[0m msg \u001b[38;5;241m=\u001b[39m {\u001b[38;5;124m'\u001b[39m\u001b[38;5;124mmethod\u001b[39m\u001b[38;5;124m'\u001b[39m: \u001b[38;5;124m'\u001b[39m\u001b[38;5;124mupdate\u001b[39m\u001b[38;5;124m'\u001b[39m, \u001b[38;5;124m'\u001b[39m\u001b[38;5;124mstate\u001b[39m\u001b[38;5;124m'\u001b[39m: state, \u001b[38;5;124m'\u001b[39m\u001b[38;5;124mbuffer_paths\u001b[39m\u001b[38;5;124m'\u001b[39m: buffer_paths}\n\u001b[0;32m--> 586\u001b[0m \u001b[38;5;28;43mself\u001b[39;49m\u001b[38;5;241;43m.\u001b[39;49m\u001b[43m_send\u001b[49m\u001b[43m(\u001b[49m\u001b[43mmsg\u001b[49m\u001b[43m,\u001b[49m\u001b[43m \u001b[49m\u001b[43mbuffers\u001b[49m\u001b[38;5;241;43m=\u001b[39;49m\u001b[43mbuffers\u001b[49m\u001b[43m)\u001b[49m\n",
      "File \u001b[0;32m/home/zeus/miniconda3/envs/cloudspace/lib/python3.10/site-packages/ipywidgets/widgets/widget.py:825\u001b[0m, in \u001b[0;36mWidget._send\u001b[0;34m(self, msg, buffers)\u001b[0m\n\u001b[1;32m    823\u001b[0m \u001b[38;5;250m\u001b[39m\u001b[38;5;124;03m\"\"\"Sends a message to the model in the front-end.\"\"\"\u001b[39;00m\n\u001b[1;32m    824\u001b[0m \u001b[38;5;28;01mif\u001b[39;00m \u001b[38;5;28mself\u001b[39m\u001b[38;5;241m.\u001b[39mcomm \u001b[38;5;129;01mis\u001b[39;00m \u001b[38;5;129;01mnot\u001b[39;00m \u001b[38;5;28;01mNone\u001b[39;00m \u001b[38;5;129;01mand\u001b[39;00m (\u001b[38;5;28mself\u001b[39m\u001b[38;5;241m.\u001b[39mcomm\u001b[38;5;241m.\u001b[39mkernel \u001b[38;5;129;01mis\u001b[39;00m \u001b[38;5;129;01mnot\u001b[39;00m \u001b[38;5;28;01mNone\u001b[39;00m \u001b[38;5;28;01mif\u001b[39;00m \u001b[38;5;28mhasattr\u001b[39m(\u001b[38;5;28mself\u001b[39m\u001b[38;5;241m.\u001b[39mcomm, \u001b[38;5;124m\"\u001b[39m\u001b[38;5;124mkernel\u001b[39m\u001b[38;5;124m\"\u001b[39m) \u001b[38;5;28;01melse\u001b[39;00m \u001b[38;5;28;01mTrue\u001b[39;00m):\n\u001b[0;32m--> 825\u001b[0m     \u001b[38;5;28;43mself\u001b[39;49m\u001b[38;5;241;43m.\u001b[39;49m\u001b[43mcomm\u001b[49m\u001b[38;5;241;43m.\u001b[39;49m\u001b[43msend\u001b[49m\u001b[43m(\u001b[49m\u001b[43mdata\u001b[49m\u001b[38;5;241;43m=\u001b[39;49m\u001b[43mmsg\u001b[49m\u001b[43m,\u001b[49m\u001b[43m \u001b[49m\u001b[43mbuffers\u001b[49m\u001b[38;5;241;43m=\u001b[39;49m\u001b[43mbuffers\u001b[49m\u001b[43m)\u001b[49m\n",
      "File \u001b[0;32m/home/zeus/miniconda3/envs/cloudspace/lib/python3.10/site-packages/comm/base_comm.py:147\u001b[0m, in \u001b[0;36mBaseComm.send\u001b[0;34m(self, data, metadata, buffers)\u001b[0m\n\u001b[1;32m    143\u001b[0m \u001b[38;5;28;01mdef\u001b[39;00m\u001b[38;5;250m \u001b[39m\u001b[38;5;21msend\u001b[39m(\n\u001b[1;32m    144\u001b[0m     \u001b[38;5;28mself\u001b[39m, data: MaybeDict \u001b[38;5;241m=\u001b[39m \u001b[38;5;28;01mNone\u001b[39;00m, metadata: MaybeDict \u001b[38;5;241m=\u001b[39m \u001b[38;5;28;01mNone\u001b[39;00m, buffers: BuffersType \u001b[38;5;241m=\u001b[39m \u001b[38;5;28;01mNone\u001b[39;00m\n\u001b[1;32m    145\u001b[0m ) \u001b[38;5;241m-\u001b[39m\u001b[38;5;241m>\u001b[39m \u001b[38;5;28;01mNone\u001b[39;00m:\n\u001b[1;32m    146\u001b[0m \u001b[38;5;250m    \u001b[39m\u001b[38;5;124;03m\"\"\"Send a message to the frontend-side version of this comm\"\"\"\u001b[39;00m\n\u001b[0;32m--> 147\u001b[0m     \u001b[38;5;28;43mself\u001b[39;49m\u001b[38;5;241;43m.\u001b[39;49m\u001b[43mpublish_msg\u001b[49m\u001b[43m(\u001b[49m\n\u001b[1;32m    148\u001b[0m \u001b[43m        \u001b[49m\u001b[38;5;124;43m\"\u001b[39;49m\u001b[38;5;124;43mcomm_msg\u001b[39;49m\u001b[38;5;124;43m\"\u001b[39;49m\u001b[43m,\u001b[49m\n\u001b[1;32m    149\u001b[0m \u001b[43m        \u001b[49m\u001b[43mdata\u001b[49m\u001b[38;5;241;43m=\u001b[39;49m\u001b[43mdata\u001b[49m\u001b[43m,\u001b[49m\n\u001b[1;32m    150\u001b[0m \u001b[43m        \u001b[49m\u001b[43mmetadata\u001b[49m\u001b[38;5;241;43m=\u001b[39;49m\u001b[43mmetadata\u001b[49m\u001b[43m,\u001b[49m\n\u001b[1;32m    151\u001b[0m \u001b[43m        \u001b[49m\u001b[43mbuffers\u001b[49m\u001b[38;5;241;43m=\u001b[39;49m\u001b[43mbuffers\u001b[49m\u001b[43m,\u001b[49m\n\u001b[1;32m    152\u001b[0m \u001b[43m    \u001b[49m\u001b[43m)\u001b[49m\n",
      "File \u001b[0;32m/home/zeus/miniconda3/envs/cloudspace/lib/python3.10/site-packages/ipykernel/comm/comm.py:37\u001b[0m, in \u001b[0;36mBaseComm.publish_msg\u001b[0;34m(self, msg_type, data, metadata, buffers, **keys)\u001b[0m\n\u001b[1;32m     34\u001b[0m     \u001b[38;5;28mself\u001b[39m\u001b[38;5;241m.\u001b[39mkernel \u001b[38;5;241m=\u001b[39m Kernel\u001b[38;5;241m.\u001b[39minstance()\n\u001b[1;32m     36\u001b[0m \u001b[38;5;28;01massert\u001b[39;00m \u001b[38;5;28mself\u001b[39m\u001b[38;5;241m.\u001b[39mkernel\u001b[38;5;241m.\u001b[39msession \u001b[38;5;129;01mis\u001b[39;00m \u001b[38;5;129;01mnot\u001b[39;00m \u001b[38;5;28;01mNone\u001b[39;00m\n\u001b[0;32m---> 37\u001b[0m \u001b[38;5;28;43mself\u001b[39;49m\u001b[38;5;241;43m.\u001b[39;49m\u001b[43mkernel\u001b[49m\u001b[38;5;241;43m.\u001b[39;49m\u001b[43msession\u001b[49m\u001b[38;5;241;43m.\u001b[39;49m\u001b[43msend\u001b[49m\u001b[43m(\u001b[49m\n\u001b[1;32m     38\u001b[0m \u001b[43m    \u001b[49m\u001b[38;5;28;43mself\u001b[39;49m\u001b[38;5;241;43m.\u001b[39;49m\u001b[43mkernel\u001b[49m\u001b[38;5;241;43m.\u001b[39;49m\u001b[43miopub_socket\u001b[49m\u001b[43m,\u001b[49m\n\u001b[1;32m     39\u001b[0m \u001b[43m    \u001b[49m\u001b[43mmsg_type\u001b[49m\u001b[43m,\u001b[49m\n\u001b[1;32m     40\u001b[0m \u001b[43m    \u001b[49m\u001b[43mcontent\u001b[49m\u001b[43m,\u001b[49m\n\u001b[1;32m     41\u001b[0m \u001b[43m    \u001b[49m\u001b[43mmetadata\u001b[49m\u001b[38;5;241;43m=\u001b[39;49m\u001b[43mjson_clean\u001b[49m\u001b[43m(\u001b[49m\u001b[43mmetadata\u001b[49m\u001b[43m)\u001b[49m\u001b[43m,\u001b[49m\n\u001b[1;32m     42\u001b[0m \u001b[43m    \u001b[49m\u001b[43mparent\u001b[49m\u001b[38;5;241;43m=\u001b[39;49m\u001b[38;5;28;43mself\u001b[39;49m\u001b[38;5;241;43m.\u001b[39;49m\u001b[43mkernel\u001b[49m\u001b[38;5;241;43m.\u001b[39;49m\u001b[43mget_parent\u001b[49m\u001b[43m(\u001b[49m\u001b[43m)\u001b[49m\u001b[43m,\u001b[49m\n\u001b[1;32m     43\u001b[0m \u001b[43m    \u001b[49m\u001b[43mident\u001b[49m\u001b[38;5;241;43m=\u001b[39;49m\u001b[38;5;28;43mself\u001b[39;49m\u001b[38;5;241;43m.\u001b[39;49m\u001b[43mtopic\u001b[49m\u001b[43m,\u001b[49m\n\u001b[1;32m     44\u001b[0m \u001b[43m    \u001b[49m\u001b[43mbuffers\u001b[49m\u001b[38;5;241;43m=\u001b[39;49m\u001b[43mbuffers\u001b[49m\u001b[43m,\u001b[49m\n\u001b[1;32m     45\u001b[0m \u001b[43m\u001b[49m\u001b[43m)\u001b[49m\n",
      "File \u001b[0;32m/home/zeus/miniconda3/envs/cloudspace/lib/python3.10/site-packages/jupyter_client/session.py:852\u001b[0m, in \u001b[0;36mSession.send\u001b[0;34m(self, stream, msg_or_type, content, parent, ident, buffers, track, header, metadata)\u001b[0m\n\u001b[1;32m    850\u001b[0m \u001b[38;5;28;01mif\u001b[39;00m \u001b[38;5;28mself\u001b[39m\u001b[38;5;241m.\u001b[39madapt_version:\n\u001b[1;32m    851\u001b[0m     msg \u001b[38;5;241m=\u001b[39m adapt(msg, \u001b[38;5;28mself\u001b[39m\u001b[38;5;241m.\u001b[39madapt_version)\n\u001b[0;32m--> 852\u001b[0m to_send \u001b[38;5;241m=\u001b[39m \u001b[38;5;28;43mself\u001b[39;49m\u001b[38;5;241;43m.\u001b[39;49m\u001b[43mserialize\u001b[49m\u001b[43m(\u001b[49m\u001b[43mmsg\u001b[49m\u001b[43m,\u001b[49m\u001b[43m \u001b[49m\u001b[43mident\u001b[49m\u001b[43m)\u001b[49m\n\u001b[1;32m    853\u001b[0m to_send\u001b[38;5;241m.\u001b[39mextend(buffers)\n\u001b[1;32m    854\u001b[0m longest \u001b[38;5;241m=\u001b[39m \u001b[38;5;28mmax\u001b[39m([\u001b[38;5;28mlen\u001b[39m(s) \u001b[38;5;28;01mfor\u001b[39;00m s \u001b[38;5;129;01min\u001b[39;00m to_send])\n",
      "File \u001b[0;32m/home/zeus/miniconda3/envs/cloudspace/lib/python3.10/site-packages/jupyter_client/session.py:717\u001b[0m, in \u001b[0;36mSession.serialize\u001b[0;34m(self, msg, ident)\u001b[0m\n\u001b[1;32m    690\u001b[0m \u001b[38;5;28;01mdef\u001b[39;00m\u001b[38;5;250m \u001b[39m\u001b[38;5;21mserialize\u001b[39m(\n\u001b[1;32m    691\u001b[0m     \u001b[38;5;28mself\u001b[39m,\n\u001b[1;32m    692\u001b[0m     msg: \u001b[38;5;28mdict\u001b[39m[\u001b[38;5;28mstr\u001b[39m, t\u001b[38;5;241m.\u001b[39mAny],\n\u001b[1;32m    693\u001b[0m     ident: \u001b[38;5;28mlist\u001b[39m[\u001b[38;5;28mbytes\u001b[39m] \u001b[38;5;241m|\u001b[39m \u001b[38;5;28mbytes\u001b[39m \u001b[38;5;241m|\u001b[39m \u001b[38;5;28;01mNone\u001b[39;00m \u001b[38;5;241m=\u001b[39m \u001b[38;5;28;01mNone\u001b[39;00m,\n\u001b[1;32m    694\u001b[0m ) \u001b[38;5;241m-\u001b[39m\u001b[38;5;241m>\u001b[39m \u001b[38;5;28mlist\u001b[39m[\u001b[38;5;28mbytes\u001b[39m]:\n\u001b[1;32m    695\u001b[0m \u001b[38;5;250m    \u001b[39m\u001b[38;5;124;03m\"\"\"Serialize the message components to bytes.\u001b[39;00m\n\u001b[1;32m    696\u001b[0m \n\u001b[1;32m    697\u001b[0m \u001b[38;5;124;03m    This is roughly the inverse of deserialize. The serialize/deserialize\u001b[39;00m\n\u001b[0;32m   (...)\u001b[0m\n\u001b[1;32m    715\u001b[0m \u001b[38;5;124;03m        versions, so if JSON is used, these are utf8 encoded JSON strings.\u001b[39;00m\n\u001b[1;32m    716\u001b[0m \u001b[38;5;124;03m    \"\"\"\u001b[39;00m\n\u001b[0;32m--> 717\u001b[0m     content \u001b[38;5;241m=\u001b[39m \u001b[43mmsg\u001b[49m\u001b[38;5;241;43m.\u001b[39;49m\u001b[43mget\u001b[49m\u001b[43m(\u001b[49m\u001b[38;5;124;43m\"\u001b[39;49m\u001b[38;5;124;43mcontent\u001b[39;49m\u001b[38;5;124;43m\"\u001b[39;49m\u001b[43m,\u001b[49m\u001b[43m \u001b[49m\u001b[43m{\u001b[49m\u001b[43m}\u001b[49m\u001b[43m)\u001b[49m\n\u001b[1;32m    718\u001b[0m     \u001b[38;5;28;01mif\u001b[39;00m content \u001b[38;5;129;01mis\u001b[39;00m \u001b[38;5;28;01mNone\u001b[39;00m:\n\u001b[1;32m    719\u001b[0m         content \u001b[38;5;241m=\u001b[39m \u001b[38;5;28mself\u001b[39m\u001b[38;5;241m.\u001b[39mnone\n",
      "\u001b[0;31mKeyboardInterrupt\u001b[0m: "
     ]
    }
   ],
   "source": [
    "dataset = dataset.map(tx, input_columns=cfg.x_col, num_proc=4)\n",
    "dataset"
   ]
  },
  {
   "cell_type": "code",
   "execution_count": 46,
   "metadata": {},
   "outputs": [
    {
     "name": "stdout",
     "output_type": "stream",
     "text": [
      "train {'image_path': Value(dtype='string', id=None), 'label_idx': Value(dtype='int64', id=None), 'image_name': Value(dtype='string', id=None), 'organ': Value(dtype='string', id=None), 'species_id': Value(dtype='int64', id=None), 'obs_id': Value(dtype='int64', id=None), 'author': Value(dtype='string', id=None), 'altitude': Value(dtype='float64', id=None), 'latitude': Value(dtype='float64', id=None), 'longitude': Value(dtype='float64', id=None), 'species': Value(dtype='string', id=None), 'genus': Value(dtype='string', id=None), 'family': Value(dtype='string', id=None), 'learn_tag': Value(dtype='string', id=None), '__index_level_0__': Value(dtype='int64', id=None), 'image': Image(mode=None, decode=True, id=None)}\n",
      "val {'image_path': Value(dtype='string', id=None), 'label_idx': Value(dtype='int64', id=None), 'image_name': Value(dtype='string', id=None), 'organ': Value(dtype='string', id=None), 'species_id': Value(dtype='int64', id=None), 'obs_id': Value(dtype='int64', id=None), 'author': Value(dtype='string', id=None), 'altitude': Value(dtype='float64', id=None), 'latitude': Value(dtype='float64', id=None), 'longitude': Value(dtype='float64', id=None), 'species': Value(dtype='string', id=None), 'genus': Value(dtype='string', id=None), 'family': Value(dtype='string', id=None), 'learn_tag': Value(dtype='string', id=None), '__index_level_0__': Value(dtype='int64', id=None), 'image': Image(mode=None, decode=True, id=None)}\n",
      "test {'image_path': Value(dtype='string', id=None), 'label_idx': Value(dtype='int64', id=None), 'image_name': Value(dtype='string', id=None), 'organ': Value(dtype='string', id=None), 'species_id': Value(dtype='int64', id=None), 'obs_id': Value(dtype='int64', id=None), 'author': Value(dtype='string', id=None), 'altitude': Value(dtype='float64', id=None), 'latitude': Value(dtype='float64', id=None), 'longitude': Value(dtype='float64', id=None), 'species': Value(dtype='string', id=None), 'genus': Value(dtype='string', id=None), 'family': Value(dtype='string', id=None), 'learn_tag': Value(dtype='string', id=None), '__index_level_0__': Value(dtype='int64', id=None), 'image': Image(mode=None, decode=True, id=None)}\n"
     ]
    }
   ],
   "source": [
    "for subset, ds in dataset.items():\n",
    "    print(subset, ds.features)"
   ]
  },
  {
   "cell_type": "code",
   "execution_count": 29,
   "metadata": {},
   "outputs": [
    {
     "data": {
      "text/plain": [
       "{'image_path': Value(dtype='string', id=None),\n",
       " 'label_idx': Value(dtype='int64', id=None),\n",
       " 'image_name': Value(dtype='string', id=None),\n",
       " 'organ': Value(dtype='string', id=None),\n",
       " 'species_id': Value(dtype='int64', id=None),\n",
       " 'obs_id': Value(dtype='int64', id=None),\n",
       " 'author': Value(dtype='string', id=None),\n",
       " 'altitude': Value(dtype='float64', id=None),\n",
       " 'latitude': Value(dtype='float64', id=None),\n",
       " 'longitude': Value(dtype='float64', id=None),\n",
       " 'species': Value(dtype='string', id=None),\n",
       " 'genus': Value(dtype='string', id=None),\n",
       " 'family': Value(dtype='string', id=None),\n",
       " 'learn_tag': Value(dtype='string', id=None),\n",
       " '__index_level_0__': Value(dtype='int64', id=None)}"
      ]
     },
     "execution_count": 29,
     "metadata": {},
     "output_type": "execute_result"
    }
   ],
   "source": [
    "val_ds.features"
   ]
  },
  {
   "cell_type": "code",
   "execution_count": 31,
   "metadata": {},
   "outputs": [
    {
     "data": {
      "text/plain": [
       "[479, 489, 490, 491, 492, 493, 495, 496, 497, 498]"
      ]
     },
     "execution_count": 31,
     "metadata": {},
     "output_type": "execute_result"
    }
   ],
   "source": [
    "# val_ds.take(10)[\"__index_level_0__\"]"
   ]
  },
  {
   "cell_type": "code",
   "execution_count": null,
   "metadata": {},
   "outputs": [],
   "source": [
    "# ds = HFDataset.from_dict({\"image\": image_paths, \"file_path\": image_paths})\n",
    "# ds = ds.cast_column(\"image\", Image())\n",
    "# ds = ds.cast_column(\"file_path\", Value(\"string\"))"
   ]
  },
  {
   "cell_type": "code",
   "execution_count": 21,
   "metadata": {},
   "outputs": [
    {
     "name": "stdout",
     "output_type": "stream",
     "text": [
      "<class 'pandas.core.frame.DataFrame'>\n",
      "RangeIndex: 1408033 entries, 0 to 1408032\n",
      "Data columns (total 22 columns):\n",
      " #   Column            Non-Null Count    Dtype   \n",
      "---  ------            --------------    -----   \n",
      " 0   image_name        1408033 non-null  string  \n",
      " 1   organ             1408033 non-null  category\n",
      " 2   species_id        1408033 non-null  int64   \n",
      " 3   obs_id            1408033 non-null  Int64   \n",
      " 4   license           1408033 non-null  category\n",
      " 5   partner           115338 non-null   category\n",
      " 6   author            1405895 non-null  string  \n",
      " 7   altitude          705322 non-null   Float64 \n",
      " 8   latitude          705425 non-null   Float64 \n",
      " 9   longitude         705424 non-null   Float64 \n",
      " 10  gbif_species_id   1406725 non-null  float64 \n",
      " 11  species           1408033 non-null  category\n",
      " 12  genus             1408033 non-null  category\n",
      " 13  family            1408033 non-null  category\n",
      " 14  dataset           1408033 non-null  category\n",
      " 15  publisher         1357307 non-null  category\n",
      " 16  references        1357275 non-null  string  \n",
      " 17  url               1408033 non-null  string  \n",
      " 18  learn_tag         1408033 non-null  category\n",
      " 19  image_backup_url  1408033 non-null  string  \n",
      " 20  image_path        1408033 non-null  string  \n",
      " 21  label_idx         1408033 non-null  int64   \n",
      "dtypes: Float64(3), Int64(1), category(9), float64(1), int64(2), string(6)\n",
      "memory usage: 161.5 MB\n"
     ]
    }
   ],
   "source": [
    "metadata.info(verbose=True)"
   ]
  },
  {
   "cell_type": "code",
   "execution_count": 23,
   "metadata": {},
   "outputs": [
    {
     "name": "stdout",
     "output_type": "stream",
     "text": [
      "<class 'pandas.core.frame.DataFrame'>\n",
      "RangeIndex: 1408033 entries, 0 to 1408032\n",
      "Data columns (total 14 columns):\n",
      " #   Column      Non-Null Count    Dtype   \n",
      "---  ------      --------------    -----   \n",
      " 0   image_path  1408033 non-null  string  \n",
      " 1   label_idx   1408033 non-null  int64   \n",
      " 2   image_name  1408033 non-null  string  \n",
      " 3   organ       1408033 non-null  category\n",
      " 4   species_id  1408033 non-null  int64   \n",
      " 5   obs_id      1408033 non-null  Int64   \n",
      " 6   author      1405895 non-null  string  \n",
      " 7   altitude    705322 non-null   Float64 \n",
      " 8   latitude    705425 non-null   Float64 \n",
      " 9   longitude   705424 non-null   Float64 \n",
      " 10  species     1408033 non-null  category\n",
      " 11  genus       1408033 non-null  category\n",
      " 12  family      1408033 non-null  category\n",
      " 13  learn_tag   1408033 non-null  category\n",
      "dtypes: Float64(3), Int64(1), category(5), int64(2), string(3)\n",
      "memory usage: 113.2 MB\n"
     ]
    }
   ],
   "source": [
    "metadata[keep_cols].info(verbose=True)"
   ]
  },
  {
   "cell_type": "code",
   "execution_count": 18,
   "metadata": {},
   "outputs": [
    {
     "data": {
      "text/plain": [
       "0"
      ]
     },
     "execution_count": 18,
     "metadata": {},
     "output_type": "execute_result"
    }
   ],
   "source": [
    "metadata[\"gbif_species_id\"].nunique()\n",
    "metadata[\"species_id\"].nunique()\n",
    "\n",
    "metadata[\"gbif_species_id\"].isna().sum()\n",
    "metadata[\"species_id\"].isna().sum()"
   ]
  },
  {
   "cell_type": "code",
   "execution_count": 14,
   "metadata": {},
   "outputs": [
    {
     "data": {
      "text/html": [
       "<div>\n",
       "<style scoped>\n",
       "    .dataframe tbody tr th:only-of-type {\n",
       "        vertical-align: middle;\n",
       "    }\n",
       "\n",
       "    .dataframe tbody tr th {\n",
       "        vertical-align: top;\n",
       "    }\n",
       "\n",
       "    .dataframe thead th {\n",
       "        text-align: right;\n",
       "    }\n",
       "</style>\n",
       "<table border=\"1\" class=\"dataframe\">\n",
       "  <thead>\n",
       "    <tr style=\"text-align: right;\">\n",
       "      <th></th>\n",
       "      <th>image_name</th>\n",
       "      <th>organ</th>\n",
       "      <th>species_id</th>\n",
       "      <th>obs_id</th>\n",
       "      <th>license</th>\n",
       "      <th>partner</th>\n",
       "      <th>author</th>\n",
       "      <th>altitude</th>\n",
       "      <th>latitude</th>\n",
       "      <th>longitude</th>\n",
       "      <th>gbif_species_id</th>\n",
       "      <th>species</th>\n",
       "      <th>genus</th>\n",
       "      <th>family</th>\n",
       "      <th>dataset</th>\n",
       "      <th>publisher</th>\n",
       "      <th>references</th>\n",
       "      <th>url</th>\n",
       "      <th>learn_tag</th>\n",
       "      <th>image_backup_url</th>\n",
       "      <th>image_path</th>\n",
       "      <th>label_idx</th>\n",
       "    </tr>\n",
       "  </thead>\n",
       "  <tbody>\n",
       "    <tr>\n",
       "      <th>0</th>\n",
       "      <td>59feabe1c98f06e7f819f73c8246bd8f1a89556b.jpg</td>\n",
       "      <td>leaf</td>\n",
       "      <td>1396710</td>\n",
       "      <td>1008726402</td>\n",
       "      <td>cc-by-sa</td>\n",
       "      <td>NaN</td>\n",
       "      <td>Gulyás Bálint</td>\n",
       "      <td>205.93</td>\n",
       "      <td>47.59</td>\n",
       "      <td>19.36</td>\n",
       "      <td>5.28e+06</td>\n",
       "      <td>Taxus baccata L.</td>\n",
       "      <td>Taxus</td>\n",
       "      <td>Taxaceae</td>\n",
       "      <td>plantnet</td>\n",
       "      <td>plantnet</td>\n",
       "      <td>https://identify.plantnet.org/fr/k-southwester...</td>\n",
       "      <td>https://bs.plantnet.org/image/o/59feabe1c98f06...</td>\n",
       "      <td>train</td>\n",
       "      <td>https://lab.plantnet.org/LifeCLEF/PlantCLEF202...</td>\n",
       "      <td>/teamspace/studios/this_studio/plantclef-visio...</td>\n",
       "      <td>4826</td>\n",
       "    </tr>\n",
       "    <tr>\n",
       "      <th>1</th>\n",
       "      <td>dc273995a89827437d447f29a52ccac86f65476e.jpg</td>\n",
       "      <td>leaf</td>\n",
       "      <td>1396710</td>\n",
       "      <td>1008724195</td>\n",
       "      <td>cc-by-sa</td>\n",
       "      <td>NaN</td>\n",
       "      <td>vadim sigaud</td>\n",
       "      <td>323.75</td>\n",
       "      <td>47.91</td>\n",
       "      <td>7.2</td>\n",
       "      <td>5.28e+06</td>\n",
       "      <td>Taxus baccata L.</td>\n",
       "      <td>Taxus</td>\n",
       "      <td>Taxaceae</td>\n",
       "      <td>plantnet</td>\n",
       "      <td>plantnet</td>\n",
       "      <td>https://identify.plantnet.org/fr/k-southwester...</td>\n",
       "      <td>https://bs.plantnet.org/image/o/dc273995a89827...</td>\n",
       "      <td>train</td>\n",
       "      <td>https://lab.plantnet.org/LifeCLEF/PlantCLEF202...</td>\n",
       "      <td>/teamspace/studios/this_studio/plantclef-visio...</td>\n",
       "      <td>4826</td>\n",
       "    </tr>\n",
       "    <tr>\n",
       "      <th>2</th>\n",
       "      <td>416235e7023a4bd1513edf036b6097efc693a304.jpg</td>\n",
       "      <td>leaf</td>\n",
       "      <td>1396710</td>\n",
       "      <td>1008721908</td>\n",
       "      <td>cc-by-sa</td>\n",
       "      <td>NaN</td>\n",
       "      <td>fil escande</td>\n",
       "      <td>101.32</td>\n",
       "      <td>48.83</td>\n",
       "      <td>2.35</td>\n",
       "      <td>5.28e+06</td>\n",
       "      <td>Taxus baccata L.</td>\n",
       "      <td>Taxus</td>\n",
       "      <td>Taxaceae</td>\n",
       "      <td>plantnet</td>\n",
       "      <td>plantnet</td>\n",
       "      <td>https://identify.plantnet.org/fr/k-southwester...</td>\n",
       "      <td>https://bs.plantnet.org/image/o/416235e7023a4b...</td>\n",
       "      <td>train</td>\n",
       "      <td>https://lab.plantnet.org/LifeCLEF/PlantCLEF202...</td>\n",
       "      <td>/teamspace/studios/this_studio/plantclef-visio...</td>\n",
       "      <td>4826</td>\n",
       "    </tr>\n",
       "  </tbody>\n",
       "</table>\n",
       "</div>"
      ],
      "text/plain": [
       "                                     image_name organ  species_id      obs_id  \\\n",
       "0  59feabe1c98f06e7f819f73c8246bd8f1a89556b.jpg  leaf     1396710  1008726402   \n",
       "1  dc273995a89827437d447f29a52ccac86f65476e.jpg  leaf     1396710  1008724195   \n",
       "2  416235e7023a4bd1513edf036b6097efc693a304.jpg  leaf     1396710  1008721908   \n",
       "\n",
       "    license partner         author  altitude  latitude  longitude  \\\n",
       "0  cc-by-sa     NaN  Gulyás Bálint    205.93     47.59      19.36   \n",
       "1  cc-by-sa     NaN   vadim sigaud    323.75     47.91        7.2   \n",
       "2  cc-by-sa     NaN    fil escande    101.32     48.83       2.35   \n",
       "\n",
       "   gbif_species_id           species  genus    family   dataset publisher  \\\n",
       "0         5.28e+06  Taxus baccata L.  Taxus  Taxaceae  plantnet  plantnet   \n",
       "1         5.28e+06  Taxus baccata L.  Taxus  Taxaceae  plantnet  plantnet   \n",
       "2         5.28e+06  Taxus baccata L.  Taxus  Taxaceae  plantnet  plantnet   \n",
       "\n",
       "                                          references  \\\n",
       "0  https://identify.plantnet.org/fr/k-southwester...   \n",
       "1  https://identify.plantnet.org/fr/k-southwester...   \n",
       "2  https://identify.plantnet.org/fr/k-southwester...   \n",
       "\n",
       "                                                 url learn_tag  \\\n",
       "0  https://bs.plantnet.org/image/o/59feabe1c98f06...     train   \n",
       "1  https://bs.plantnet.org/image/o/dc273995a89827...     train   \n",
       "2  https://bs.plantnet.org/image/o/416235e7023a4b...     train   \n",
       "\n",
       "                                    image_backup_url  \\\n",
       "0  https://lab.plantnet.org/LifeCLEF/PlantCLEF202...   \n",
       "1  https://lab.plantnet.org/LifeCLEF/PlantCLEF202...   \n",
       "2  https://lab.plantnet.org/LifeCLEF/PlantCLEF202...   \n",
       "\n",
       "                                          image_path  label_idx  \n",
       "0  /teamspace/studios/this_studio/plantclef-visio...       4826  \n",
       "1  /teamspace/studios/this_studio/plantclef-visio...       4826  \n",
       "2  /teamspace/studios/this_studio/plantclef-visio...       4826  "
      ]
     },
     "execution_count": 14,
     "metadata": {},
     "output_type": "execute_result"
    }
   ],
   "source": [
    "metadata.head(3)"
   ]
  },
  {
   "cell_type": "code",
   "execution_count": 12,
   "metadata": {},
   "outputs": [
    {
     "data": {
      "text/html": [
       "<div>\n",
       "<style scoped>\n",
       "    .dataframe tbody tr th:only-of-type {\n",
       "        vertical-align: middle;\n",
       "    }\n",
       "\n",
       "    .dataframe tbody tr th {\n",
       "        vertical-align: top;\n",
       "    }\n",
       "\n",
       "    .dataframe thead th {\n",
       "        text-align: right;\n",
       "    }\n",
       "</style>\n",
       "<table border=\"1\" class=\"dataframe\">\n",
       "  <thead>\n",
       "    <tr style=\"text-align: right;\">\n",
       "      <th></th>\n",
       "      <th>image_name</th>\n",
       "      <th>organ</th>\n",
       "      <th>species_id</th>\n",
       "      <th>obs_id</th>\n",
       "      <th>license</th>\n",
       "      <th>partner</th>\n",
       "      <th>author</th>\n",
       "      <th>altitude</th>\n",
       "      <th>latitude</th>\n",
       "      <th>longitude</th>\n",
       "      <th>gbif_species_id</th>\n",
       "      <th>species</th>\n",
       "      <th>genus</th>\n",
       "      <th>family</th>\n",
       "      <th>dataset</th>\n",
       "      <th>publisher</th>\n",
       "      <th>references</th>\n",
       "      <th>url</th>\n",
       "      <th>learn_tag</th>\n",
       "      <th>image_backup_url</th>\n",
       "      <th>image_path</th>\n",
       "      <th>label_idx</th>\n",
       "    </tr>\n",
       "  </thead>\n",
       "  <tbody>\n",
       "    <tr>\n",
       "      <th>count</th>\n",
       "      <td>1408033</td>\n",
       "      <td>1408033</td>\n",
       "      <td>1.41e+06</td>\n",
       "      <td>1408033.0</td>\n",
       "      <td>1408033</td>\n",
       "      <td>115338</td>\n",
       "      <td>1405895</td>\n",
       "      <td>705322.0</td>\n",
       "      <td>705425.0</td>\n",
       "      <td>705424.0</td>\n",
       "      <td>1.41e+06</td>\n",
       "      <td>1408033</td>\n",
       "      <td>1408033</td>\n",
       "      <td>1408033</td>\n",
       "      <td>1408033</td>\n",
       "      <td>1357307</td>\n",
       "      <td>1357275</td>\n",
       "      <td>1408033</td>\n",
       "      <td>1408033</td>\n",
       "      <td>1408033</td>\n",
       "      <td>1408033</td>\n",
       "      <td>1.41e+06</td>\n",
       "    </tr>\n",
       "    <tr>\n",
       "      <th>unique</th>\n",
       "      <td>1408033</td>\n",
       "      <td>7</td>\n",
       "      <td>NaN</td>\n",
       "      <td>&lt;NA&gt;</td>\n",
       "      <td>12</td>\n",
       "      <td>5</td>\n",
       "      <td>178333</td>\n",
       "      <td>&lt;NA&gt;</td>\n",
       "      <td>&lt;NA&gt;</td>\n",
       "      <td>&lt;NA&gt;</td>\n",
       "      <td>NaN</td>\n",
       "      <td>7806</td>\n",
       "      <td>1446</td>\n",
       "      <td>181</td>\n",
       "      <td>2</td>\n",
       "      <td>5</td>\n",
       "      <td>1215736</td>\n",
       "      <td>1408033</td>\n",
       "      <td>3</td>\n",
       "      <td>1408033</td>\n",
       "      <td>1408033</td>\n",
       "      <td>NaN</td>\n",
       "    </tr>\n",
       "    <tr>\n",
       "      <th>top</th>\n",
       "      <td>394af6a92ff308ae70cf4d62737d9f6fdb2cf96b.jpg</td>\n",
       "      <td>flower</td>\n",
       "      <td>NaN</td>\n",
       "      <td>&lt;NA&gt;</td>\n",
       "      <td>cc-by-sa</td>\n",
       "      <td>tela</td>\n",
       "      <td>Tela Botanica − Liliane Roubaudi</td>\n",
       "      <td>&lt;NA&gt;</td>\n",
       "      <td>&lt;NA&gt;</td>\n",
       "      <td>&lt;NA&gt;</td>\n",
       "      <td>NaN</td>\n",
       "      <td>Styphnolobium japonicum (L.) Schott</td>\n",
       "      <td>Carex</td>\n",
       "      <td>Asteraceae</td>\n",
       "      <td>plantnet</td>\n",
       "      <td>plantnet</td>\n",
       "      <td>https://identify.plantnet.org/fr/k-southwester...</td>\n",
       "      <td>https://bs.plantnet.org/image/o/394af6a92ff308...</td>\n",
       "      <td>train</td>\n",
       "      <td>https://lab.plantnet.org/LifeCLEF/PlantCLEF202...</td>\n",
       "      <td>/teamspace/studios/this_studio/plantclef-visio...</td>\n",
       "      <td>NaN</td>\n",
       "    </tr>\n",
       "    <tr>\n",
       "      <th>freq</th>\n",
       "      <td>1</td>\n",
       "      <td>389251</td>\n",
       "      <td>NaN</td>\n",
       "      <td>&lt;NA&gt;</td>\n",
       "      <td>1099727</td>\n",
       "      <td>111316</td>\n",
       "      <td>12294</td>\n",
       "      <td>&lt;NA&gt;</td>\n",
       "      <td>&lt;NA&gt;</td>\n",
       "      <td>&lt;NA&gt;</td>\n",
       "      <td>NaN</td>\n",
       "      <td>823</td>\n",
       "      <td>21383</td>\n",
       "      <td>176707</td>\n",
       "      <td>1102483</td>\n",
       "      <td>1102483</td>\n",
       "      <td>54</td>\n",
       "      <td>1</td>\n",
       "      <td>1308899</td>\n",
       "      <td>1</td>\n",
       "      <td>1</td>\n",
       "      <td>NaN</td>\n",
       "    </tr>\n",
       "    <tr>\n",
       "      <th>mean</th>\n",
       "      <td>NaN</td>\n",
       "      <td>NaN</td>\n",
       "      <td>1.41e+06</td>\n",
       "      <td>1619469443.27</td>\n",
       "      <td>NaN</td>\n",
       "      <td>NaN</td>\n",
       "      <td>NaN</td>\n",
       "      <td>6597.68</td>\n",
       "      <td>43.29</td>\n",
       "      <td>1.11</td>\n",
       "      <td>4.63e+06</td>\n",
       "      <td>NaN</td>\n",
       "      <td>NaN</td>\n",
       "      <td>NaN</td>\n",
       "      <td>NaN</td>\n",
       "      <td>NaN</td>\n",
       "      <td>NaN</td>\n",
       "      <td>NaN</td>\n",
       "      <td>NaN</td>\n",
       "      <td>NaN</td>\n",
       "      <td>NaN</td>\n",
       "      <td>3.27e+03</td>\n",
       "    </tr>\n",
       "    <tr>\n",
       "      <th>...</th>\n",
       "      <td>...</td>\n",
       "      <td>...</td>\n",
       "      <td>...</td>\n",
       "      <td>...</td>\n",
       "      <td>...</td>\n",
       "      <td>...</td>\n",
       "      <td>...</td>\n",
       "      <td>...</td>\n",
       "      <td>...</td>\n",
       "      <td>...</td>\n",
       "      <td>...</td>\n",
       "      <td>...</td>\n",
       "      <td>...</td>\n",
       "      <td>...</td>\n",
       "      <td>...</td>\n",
       "      <td>...</td>\n",
       "      <td>...</td>\n",
       "      <td>...</td>\n",
       "      <td>...</td>\n",
       "      <td>...</td>\n",
       "      <td>...</td>\n",
       "      <td>...</td>\n",
       "    </tr>\n",
       "    <tr>\n",
       "      <th>min</th>\n",
       "      <td>NaN</td>\n",
       "      <td>NaN</td>\n",
       "      <td>1.36e+06</td>\n",
       "      <td>891083349.0</td>\n",
       "      <td>NaN</td>\n",
       "      <td>NaN</td>\n",
       "      <td>NaN</td>\n",
       "      <td>-2274.0</td>\n",
       "      <td>-60.58</td>\n",
       "      <td>-178.17</td>\n",
       "      <td>2.65e+06</td>\n",
       "      <td>NaN</td>\n",
       "      <td>NaN</td>\n",
       "      <td>NaN</td>\n",
       "      <td>NaN</td>\n",
       "      <td>NaN</td>\n",
       "      <td>NaN</td>\n",
       "      <td>NaN</td>\n",
       "      <td>NaN</td>\n",
       "      <td>NaN</td>\n",
       "      <td>NaN</td>\n",
       "      <td>0.00e+00</td>\n",
       "    </tr>\n",
       "    <tr>\n",
       "      <th>25%</th>\n",
       "      <td>NaN</td>\n",
       "      <td>NaN</td>\n",
       "      <td>1.36e+06</td>\n",
       "      <td>1008019063.0</td>\n",
       "      <td>NaN</td>\n",
       "      <td>NaN</td>\n",
       "      <td>NaN</td>\n",
       "      <td>73.0</td>\n",
       "      <td>42.35</td>\n",
       "      <td>-0.58</td>\n",
       "      <td>2.99e+06</td>\n",
       "      <td>NaN</td>\n",
       "      <td>NaN</td>\n",
       "      <td>NaN</td>\n",
       "      <td>NaN</td>\n",
       "      <td>NaN</td>\n",
       "      <td>NaN</td>\n",
       "      <td>NaN</td>\n",
       "      <td>NaN</td>\n",
       "      <td>NaN</td>\n",
       "      <td>NaN</td>\n",
       "      <td>1.56e+03</td>\n",
       "    </tr>\n",
       "    <tr>\n",
       "      <th>50%</th>\n",
       "      <td>NaN</td>\n",
       "      <td>NaN</td>\n",
       "      <td>1.39e+06</td>\n",
       "      <td>1014189664.0</td>\n",
       "      <td>NaN</td>\n",
       "      <td>NaN</td>\n",
       "      <td>NaN</td>\n",
       "      <td>199.0</td>\n",
       "      <td>45.03</td>\n",
       "      <td>4.38</td>\n",
       "      <td>3.64e+06</td>\n",
       "      <td>NaN</td>\n",
       "      <td>NaN</td>\n",
       "      <td>NaN</td>\n",
       "      <td>NaN</td>\n",
       "      <td>NaN</td>\n",
       "      <td>NaN</td>\n",
       "      <td>NaN</td>\n",
       "      <td>NaN</td>\n",
       "      <td>NaN</td>\n",
       "      <td>NaN</td>\n",
       "      <td>3.08e+03</td>\n",
       "    </tr>\n",
       "    <tr>\n",
       "      <th>75%</th>\n",
       "      <td>NaN</td>\n",
       "      <td>NaN</td>\n",
       "      <td>1.40e+06</td>\n",
       "      <td>1019956407.0</td>\n",
       "      <td>NaN</td>\n",
       "      <td>NaN</td>\n",
       "      <td>NaN</td>\n",
       "      <td>575.0</td>\n",
       "      <td>48.71</td>\n",
       "      <td>8.96</td>\n",
       "      <td>5.41e+06</td>\n",
       "      <td>NaN</td>\n",
       "      <td>NaN</td>\n",
       "      <td>NaN</td>\n",
       "      <td>NaN</td>\n",
       "      <td>NaN</td>\n",
       "      <td>NaN</td>\n",
       "      <td>NaN</td>\n",
       "      <td>NaN</td>\n",
       "      <td>NaN</td>\n",
       "      <td>NaN</td>\n",
       "      <td>4.87e+03</td>\n",
       "    </tr>\n",
       "    <tr>\n",
       "      <th>max</th>\n",
       "      <td>NaN</td>\n",
       "      <td>NaN</td>\n",
       "      <td>1.74e+06</td>\n",
       "      <td>4508047405.0</td>\n",
       "      <td>NaN</td>\n",
       "      <td>NaN</td>\n",
       "      <td>NaN</td>\n",
       "      <td>4294967285.0</td>\n",
       "      <td>90.0</td>\n",
       "      <td>178.31</td>\n",
       "      <td>1.24e+07</td>\n",
       "      <td>NaN</td>\n",
       "      <td>NaN</td>\n",
       "      <td>NaN</td>\n",
       "      <td>NaN</td>\n",
       "      <td>NaN</td>\n",
       "      <td>NaN</td>\n",
       "      <td>NaN</td>\n",
       "      <td>NaN</td>\n",
       "      <td>NaN</td>\n",
       "      <td>NaN</td>\n",
       "      <td>7.80e+03</td>\n",
       "    </tr>\n",
       "  </tbody>\n",
       "</table>\n",
       "<p>11 rows × 22 columns</p>\n",
       "</div>"
      ],
      "text/plain": [
       "                                          image_name    organ  species_id  \\\n",
       "count                                        1408033  1408033    1.41e+06   \n",
       "unique                                       1408033        7         NaN   \n",
       "top     394af6a92ff308ae70cf4d62737d9f6fdb2cf96b.jpg   flower         NaN   \n",
       "freq                                               1   389251         NaN   \n",
       "mean                                             NaN      NaN    1.41e+06   \n",
       "...                                              ...      ...         ...   \n",
       "min                                              NaN      NaN    1.36e+06   \n",
       "25%                                              NaN      NaN    1.36e+06   \n",
       "50%                                              NaN      NaN    1.39e+06   \n",
       "75%                                              NaN      NaN    1.40e+06   \n",
       "max                                              NaN      NaN    1.74e+06   \n",
       "\n",
       "               obs_id   license partner                            author  \\\n",
       "count       1408033.0   1408033  115338                           1405895   \n",
       "unique           <NA>        12       5                            178333   \n",
       "top              <NA>  cc-by-sa    tela  Tela Botanica − Liliane Roubaudi   \n",
       "freq             <NA>   1099727  111316                             12294   \n",
       "mean    1619469443.27       NaN     NaN                               NaN   \n",
       "...               ...       ...     ...                               ...   \n",
       "min       891083349.0       NaN     NaN                               NaN   \n",
       "25%      1008019063.0       NaN     NaN                               NaN   \n",
       "50%      1014189664.0       NaN     NaN                               NaN   \n",
       "75%      1019956407.0       NaN     NaN                               NaN   \n",
       "max      4508047405.0       NaN     NaN                               NaN   \n",
       "\n",
       "            altitude  latitude  longitude  gbif_species_id  \\\n",
       "count       705322.0  705425.0   705424.0         1.41e+06   \n",
       "unique          <NA>      <NA>       <NA>              NaN   \n",
       "top             <NA>      <NA>       <NA>              NaN   \n",
       "freq            <NA>      <NA>       <NA>              NaN   \n",
       "mean         6597.68     43.29       1.11         4.63e+06   \n",
       "...              ...       ...        ...              ...   \n",
       "min          -2274.0    -60.58    -178.17         2.65e+06   \n",
       "25%             73.0     42.35      -0.58         2.99e+06   \n",
       "50%            199.0     45.03       4.38         3.64e+06   \n",
       "75%            575.0     48.71       8.96         5.41e+06   \n",
       "max     4294967285.0      90.0     178.31         1.24e+07   \n",
       "\n",
       "                                    species    genus      family   dataset  \\\n",
       "count                               1408033  1408033     1408033   1408033   \n",
       "unique                                 7806     1446         181         2   \n",
       "top     Styphnolobium japonicum (L.) Schott    Carex  Asteraceae  plantnet   \n",
       "freq                                    823    21383      176707   1102483   \n",
       "mean                                    NaN      NaN         NaN       NaN   \n",
       "...                                     ...      ...         ...       ...   \n",
       "min                                     NaN      NaN         NaN       NaN   \n",
       "25%                                     NaN      NaN         NaN       NaN   \n",
       "50%                                     NaN      NaN         NaN       NaN   \n",
       "75%                                     NaN      NaN         NaN       NaN   \n",
       "max                                     NaN      NaN         NaN       NaN   \n",
       "\n",
       "       publisher                                         references  \\\n",
       "count    1357307                                            1357275   \n",
       "unique         5                                            1215736   \n",
       "top     plantnet  https://identify.plantnet.org/fr/k-southwester...   \n",
       "freq     1102483                                                 54   \n",
       "mean         NaN                                                NaN   \n",
       "...          ...                                                ...   \n",
       "min          NaN                                                NaN   \n",
       "25%          NaN                                                NaN   \n",
       "50%          NaN                                                NaN   \n",
       "75%          NaN                                                NaN   \n",
       "max          NaN                                                NaN   \n",
       "\n",
       "                                                      url learn_tag  \\\n",
       "count                                             1408033   1408033   \n",
       "unique                                            1408033         3   \n",
       "top     https://bs.plantnet.org/image/o/394af6a92ff308...     train   \n",
       "freq                                                    1   1308899   \n",
       "mean                                                  NaN       NaN   \n",
       "...                                                   ...       ...   \n",
       "min                                                   NaN       NaN   \n",
       "25%                                                   NaN       NaN   \n",
       "50%                                                   NaN       NaN   \n",
       "75%                                                   NaN       NaN   \n",
       "max                                                   NaN       NaN   \n",
       "\n",
       "                                         image_backup_url  \\\n",
       "count                                             1408033   \n",
       "unique                                            1408033   \n",
       "top     https://lab.plantnet.org/LifeCLEF/PlantCLEF202...   \n",
       "freq                                                    1   \n",
       "mean                                                  NaN   \n",
       "...                                                   ...   \n",
       "min                                                   NaN   \n",
       "25%                                                   NaN   \n",
       "50%                                                   NaN   \n",
       "75%                                                   NaN   \n",
       "max                                                   NaN   \n",
       "\n",
       "                                               image_path  label_idx  \n",
       "count                                             1408033   1.41e+06  \n",
       "unique                                            1408033        NaN  \n",
       "top     /teamspace/studios/this_studio/plantclef-visio...        NaN  \n",
       "freq                                                    1        NaN  \n",
       "mean                                                  NaN   3.27e+03  \n",
       "...                                                   ...        ...  \n",
       "min                                                   NaN   0.00e+00  \n",
       "25%                                                   NaN   1.56e+03  \n",
       "50%                                                   NaN   3.08e+03  \n",
       "75%                                                   NaN   4.87e+03  \n",
       "max                                                   NaN   7.80e+03  \n",
       "\n",
       "[11 rows x 22 columns]"
      ]
     },
     "execution_count": 12,
     "metadata": {},
     "output_type": "execute_result"
    }
   ],
   "source": [
    "metadata.describe(include=\"all\")"
   ]
  },
  {
   "cell_type": "markdown",
   "metadata": {},
   "source": [
    "## Running torch_pipeline with HFPlantDataset"
   ]
  },
  {
   "cell_type": "code",
   "execution_count": 6,
   "metadata": {},
   "outputs": [
    {
     "name": "stderr",
     "output_type": "stream",
     "text": [
      "/home/zeus/miniconda3/envs/cloudspace/lib/python3.10/site-packages/lightning_sdk/helpers.py:48: UserWarning: A newer version of lightning-sdk is available (0.2.14). Please consider upgrading with `pip install -U lightning-sdk`. Not all platform functionality can be guaranteed to work with the current version.\n",
      "  warnings.warn(\n"
     ]
    },
    {
     "data": {
      "text/html": [
       "<pre style=\"white-space:pre;overflow-x:auto;line-height:normal;font-family:Menlo,'DejaVu Sans Mono',consolas,'Courier New',monospace\"><span style=\"color: #800080; text-decoration-color: #800080; font-weight: bold\">Config</span><span style=\"font-weight: bold\">(</span>\n",
       "    <span style=\"color: #808000; text-decoration-color: #808000\">use_grid</span>=<span style=\"color: #00ff00; text-decoration-color: #00ff00; font-style: italic\">True</span>,\n",
       "    <span style=\"color: #808000; text-decoration-color: #808000\">grid_size</span>=<span style=\"color: #008080; text-decoration-color: #008080; font-weight: bold\">3</span>,\n",
       "    <span style=\"color: #808000; text-decoration-color: #808000\">image_size</span>=<span style=\"color: #008080; text-decoration-color: #008080; font-weight: bold\">546</span>,\n",
       "    <span style=\"color: #808000; text-decoration-color: #808000\">batch_size</span>=<span style=\"color: #008080; text-decoration-color: #008080; font-weight: bold\">16</span>,\n",
       "    <span style=\"color: #808000; text-decoration-color: #808000\">cpu_count</span>=<span style=\"color: #008080; text-decoration-color: #008080; font-weight: bold\">4</span>,\n",
       "    <span style=\"color: #808000; text-decoration-color: #808000\">top_k</span>=<span style=\"color: #008080; text-decoration-color: #008080; font-weight: bold\">5</span>,\n",
       "    <span style=\"color: #808000; text-decoration-color: #808000\">device</span>=<span style=\"color: #008000; text-decoration-color: #008000\">'cpu'</span>,\n",
       "    <span style=\"color: #808000; text-decoration-color: #808000\">root_dir</span>=<span style=\"color: #008000; text-decoration-color: #008000\">'/teamspace/studios/this_studio/plantclef-vision/data/plantclef2025'</span>,\n",
       "    <span style=\"color: #808000; text-decoration-color: #808000\">dataset_dir</span>=<span style=\"color: #008000; text-decoration-color: #008000\">'/teamspace/studios/this_studio/plantclef-vision/data/plantclef2025/competition-metadata/PlantCLEF2</span>\n",
       "<span style=\"color: #008000; text-decoration-color: #008000\">025_test_images/PlantCLEF2025_test_images'</span>,\n",
       "    <span style=\"color: #808000; text-decoration-color: #808000\">hf_dataset_dir</span>=<span style=\"color: #008000; text-decoration-color: #008000\">'/teamspace/studios/this_studio/plantclef-vision/data/parquet/plantclef2025/full_test/HF_dataset</span>\n",
       "<span style=\"color: #008000; text-decoration-color: #008000\">'</span>,\n",
       "    <span style=\"color: #808000; text-decoration-color: #808000\">embeddings_dir</span>=<span style=\"color: #008000; text-decoration-color: #008000\">'/teamspace/studios/this_studio/plantclef-vision/data/plantclef2025/embeddings'</span>,\n",
       "    <span style=\"color: #808000; text-decoration-color: #808000\">test_embeddings_dir</span>=<span style=\"color: #008000; text-decoration-color: #008000\">'/teamspace/studios/this_studio/plantclef-vision/data/plantclef2025/embeddings/full_test'</span>,\n",
       "    <span style=\"color: #808000; text-decoration-color: #808000\">folder_name</span>=<span style=\"color: #008000; text-decoration-color: #008000\">'test_grid_3x3_embeddings'</span>,\n",
       "    <span style=\"color: #808000; text-decoration-color: #808000\">test_embeddings_path</span>=<span style=\"color: #008000; text-decoration-color: #008000\">'/teamspace/studios/this_studio/plantclef-vision/data/plantclef2025/embeddings/full_test/t</span>\n",
       "<span style=\"color: #008000; text-decoration-color: #008000\">est_grid_3x3_embeddings'</span>,\n",
       "    <span style=\"color: #808000; text-decoration-color: #808000\">test_submission_path</span>=<span style=\"color: #008000; text-decoration-color: #008000\">'/teamspace/studios/this_studio/plantclef-vision/data/plantclef2025/embeddings/full_test/t</span>\n",
       "<span style=\"color: #008000; text-decoration-color: #008000\">est_grid_3x3_embeddings-submission.csv'</span>,\n",
       "    <span style=\"color: #808000; text-decoration-color: #808000\">config_path</span>=<span style=\"color: #008000; text-decoration-color: #008000\">'/teamspace/studios/this_studio/plantclef-vision/data/plantclef2025/embeddings/full_test/test_grid_</span>\n",
       "<span style=\"color: #008000; text-decoration-color: #008000\">3x3_embeddings-config.json'</span>\n",
       "<span style=\"font-weight: bold\">)</span>\n",
       "</pre>\n"
      ],
      "text/plain": [
       "\u001b[1;35mConfig\u001b[0m\u001b[1m(\u001b[0m\n",
       "    \u001b[33muse_grid\u001b[0m=\u001b[3;92mTrue\u001b[0m,\n",
       "    \u001b[33mgrid_size\u001b[0m=\u001b[1;36m3\u001b[0m,\n",
       "    \u001b[33mimage_size\u001b[0m=\u001b[1;36m546\u001b[0m,\n",
       "    \u001b[33mbatch_size\u001b[0m=\u001b[1;36m16\u001b[0m,\n",
       "    \u001b[33mcpu_count\u001b[0m=\u001b[1;36m4\u001b[0m,\n",
       "    \u001b[33mtop_k\u001b[0m=\u001b[1;36m5\u001b[0m,\n",
       "    \u001b[33mdevice\u001b[0m=\u001b[32m'cpu'\u001b[0m,\n",
       "    \u001b[33mroot_dir\u001b[0m=\u001b[32m'/teamspace/studios/this_studio/plantclef-vision/data/plantclef2025'\u001b[0m,\n",
       "    \u001b[33mdataset_dir\u001b[0m=\u001b[32m'/teamspace/studios/this_studio/plantclef-vision/data/plantclef2025/competition-metadata/PlantCLEF2\u001b[0m\n",
       "\u001b[32m025_test_images/PlantCLEF2025_test_images'\u001b[0m,\n",
       "    \u001b[33mhf_dataset_dir\u001b[0m=\u001b[32m'/teamspace/studios/this_studio/plantclef-vision/data/parquet/plantclef2025/full_test/HF_dataset\u001b[0m\n",
       "\u001b[32m'\u001b[0m,\n",
       "    \u001b[33membeddings_dir\u001b[0m=\u001b[32m'/teamspace/studios/this_studio/plantclef-vision/data/plantclef2025/embeddings'\u001b[0m,\n",
       "    \u001b[33mtest_embeddings_dir\u001b[0m=\u001b[32m'/teamspace/studios/this_studio/plantclef-vision/data/plantclef2025/embeddings/full_test'\u001b[0m,\n",
       "    \u001b[33mfolder_name\u001b[0m=\u001b[32m'test_grid_3x3_embeddings'\u001b[0m,\n",
       "    \u001b[33mtest_embeddings_path\u001b[0m=\u001b[32m'/teamspace/studios/this_studio/plantclef-vision/data/plantclef2025/embeddings/full_test/t\u001b[0m\n",
       "\u001b[32mest_grid_3x3_embeddings'\u001b[0m,\n",
       "    \u001b[33mtest_submission_path\u001b[0m=\u001b[32m'/teamspace/studios/this_studio/plantclef-vision/data/plantclef2025/embeddings/full_test/t\u001b[0m\n",
       "\u001b[32mest_grid_3x3_embeddings-submission.csv'\u001b[0m,\n",
       "    \u001b[33mconfig_path\u001b[0m=\u001b[32m'/teamspace/studios/this_studio/plantclef-vision/data/plantclef2025/embeddings/full_test/test_grid_\u001b[0m\n",
       "\u001b[32m3x3_embeddings-config.json'\u001b[0m\n",
       "\u001b[1m)\u001b[0m\n"
      ]
     },
     "metadata": {},
     "output_type": "display_data"
    }
   ],
   "source": [
    "from plantclef.embed.workflow import Config\n",
    "from plantclef.embed.utils import print_dir_size\n",
    "import os\n",
    "\n",
    "cfg = Config()\n",
    "pprint(cfg)"
   ]
  },
  {
   "cell_type": "code",
   "execution_count": 14,
   "metadata": {},
   "outputs": [
    {
     "data": {
      "text/html": [
       "<div>\n",
       "<style scoped>\n",
       "    .dataframe tbody tr th:only-of-type {\n",
       "        vertical-align: middle;\n",
       "    }\n",
       "\n",
       "    .dataframe tbody tr th {\n",
       "        vertical-align: top;\n",
       "    }\n",
       "\n",
       "    .dataframe thead th {\n",
       "        text-align: right;\n",
       "    }\n",
       "</style>\n",
       "<table border=\"1\" class=\"dataframe\">\n",
       "  <thead>\n",
       "    <tr style=\"text-align: right;\">\n",
       "      <th></th>\n",
       "      <th>quadrat_id</th>\n",
       "      <th>species_ids</th>\n",
       "    </tr>\n",
       "  </thead>\n",
       "  <tbody>\n",
       "    <tr>\n",
       "      <th>0</th>\n",
       "      <td>2024-CEV3-20240602</td>\n",
       "      <td>[1654010, 1395063, 1392662, 1414387, 1743646]</td>\n",
       "    </tr>\n",
       "    <tr>\n",
       "      <th>1</th>\n",
       "      <td>CBN-PdlC-A1-20130807</td>\n",
       "      <td>[1744569, 1361917, 1356350, 1418612, 1361129]</td>\n",
       "    </tr>\n",
       "    <tr>\n",
       "      <th>2</th>\n",
       "      <td>CBN-PdlC-A1-20130903</td>\n",
       "      <td>[1744569, 1392608, 1361382, 1361068, 1361971]</td>\n",
       "    </tr>\n",
       "    <tr>\n",
       "      <th>3</th>\n",
       "      <td>CBN-PdlC-A1-20140721</td>\n",
       "      <td>[1529289, 1374758, 1402995, 1741880, 1362066]</td>\n",
       "    </tr>\n",
       "    <tr>\n",
       "      <th>4</th>\n",
       "      <td>CBN-PdlC-A1-20140811</td>\n",
       "      <td>[1361281, 1418612, 1356350, 1392608, 1722440]</td>\n",
       "    </tr>\n",
       "    <tr>\n",
       "      <th>...</th>\n",
       "      <td>...</td>\n",
       "      <td>...</td>\n",
       "    </tr>\n",
       "    <tr>\n",
       "      <th>2100</th>\n",
       "      <td>RNNB-8-5-20240118</td>\n",
       "      <td>[1361437, 1655199, 1357049, 1722441, 1414356]</td>\n",
       "    </tr>\n",
       "    <tr>\n",
       "      <th>2101</th>\n",
       "      <td>RNNB-8-6-20240118</td>\n",
       "      <td>[1655199, 1363434, 1359297, 1357962, 1361703]</td>\n",
       "    </tr>\n",
       "    <tr>\n",
       "      <th>2102</th>\n",
       "      <td>RNNB-8-7-20240118</td>\n",
       "      <td>[1359297, 1356521, 1363553, 1357358, 1362711]</td>\n",
       "    </tr>\n",
       "    <tr>\n",
       "      <th>2103</th>\n",
       "      <td>RNNB-8-8-20240118</td>\n",
       "      <td>[1359650, 1396330, 1743962, 1357962, 1388788]</td>\n",
       "    </tr>\n",
       "    <tr>\n",
       "      <th>2104</th>\n",
       "      <td>RNNB-8-9-20240118</td>\n",
       "      <td>[1655199, 1361437, 1363553, 1357049, 1426005]</td>\n",
       "    </tr>\n",
       "  </tbody>\n",
       "</table>\n",
       "<p>2105 rows × 2 columns</p>\n",
       "</div>"
      ],
      "text/plain": [
       "                quadrat_id                                    species_ids\n",
       "0       2024-CEV3-20240602  [1654010, 1395063, 1392662, 1414387, 1743646]\n",
       "1     CBN-PdlC-A1-20130807  [1744569, 1361917, 1356350, 1418612, 1361129]\n",
       "2     CBN-PdlC-A1-20130903  [1744569, 1392608, 1361382, 1361068, 1361971]\n",
       "3     CBN-PdlC-A1-20140721  [1529289, 1374758, 1402995, 1741880, 1362066]\n",
       "4     CBN-PdlC-A1-20140811  [1361281, 1418612, 1356350, 1392608, 1722440]\n",
       "...                    ...                                            ...\n",
       "2100     RNNB-8-5-20240118  [1361437, 1655199, 1357049, 1722441, 1414356]\n",
       "2101     RNNB-8-6-20240118  [1655199, 1363434, 1359297, 1357962, 1361703]\n",
       "2102     RNNB-8-7-20240118  [1359297, 1356521, 1363553, 1357358, 1362711]\n",
       "2103     RNNB-8-8-20240118  [1359650, 1396330, 1743962, 1357962, 1388788]\n",
       "2104     RNNB-8-9-20240118  [1655199, 1361437, 1363553, 1357049, 1426005]\n",
       "\n",
       "[2105 rows x 2 columns]"
      ]
     },
     "execution_count": 14,
     "metadata": {},
     "output_type": "execute_result"
    }
   ],
   "source": [
    "import csv\n",
    "import pandas as pd\n",
    "\n",
    "\n",
    "df = pd.read_csv(cfg.test_submission_path)\n",
    "\n",
    "df = df.assign(quadrat_id=df[\"quadrat_id\"].apply(lambda x: os.path.splitext(x)[0]))\n",
    "\n",
    "df.to_csv(cfg.test_submission_path, sep=\",\", index=False, quoting=csv.QUOTE_ALL)\n",
    "df"
   ]
  },
  {
   "cell_type": "code",
   "execution_count": 5,
   "metadata": {},
   "outputs": [
    {
     "name": "stdout",
     "output_type": "stream",
     "text": [
      "Analyzing disk usage of directory: /teamspace/studios/this_studio/plantclef-vision/data/plantclef2025/embeddings/full_test/test_grid_3x3_embeddings\n",
      "Directory Disk Usage: 543M\t/teamspace/studios/this_studio/plantclef-vision/data/plantclef2025/embeddings/full_test/test_grid_3x3_embeddings\n",
      "2025-05-08 08:42:53\n"
     ]
    }
   ],
   "source": [
    "print_dir_size(cfg.test_embeddings_path)"
   ]
  },
  {
   "cell_type": "code",
   "execution_count": 22,
   "metadata": {},
   "outputs": [
    {
     "name": "stderr",
     "output_type": "stream",
     "text": [
      "/tmp/ipykernel_33614/1293469598.py:37: DeprecationWarning: DataFrameGroupBy.apply operated on the grouping columns. This behavior is deprecated, and in a future version of pandas the grouping columns will be excluded from the operation. Either pass `include_groups=False` to exclude the groupings or explicitly select the grouping columns after groupby to silence this warning.\n",
      "  df.apply(select_top_k_unique_logits, top_k=top_k).rename(\"logits\").reset_index()\n"
     ]
    },
    {
     "data": {
      "text/html": [
       "<div>\n",
       "<style scoped>\n",
       "    .dataframe tbody tr th:only-of-type {\n",
       "        vertical-align: middle;\n",
       "    }\n",
       "\n",
       "    .dataframe tbody tr th {\n",
       "        vertical-align: top;\n",
       "    }\n",
       "\n",
       "    .dataframe thead th {\n",
       "        text-align: right;\n",
       "    }\n",
       "</style>\n",
       "<table border=\"1\" class=\"dataframe\">\n",
       "  <thead>\n",
       "    <tr style=\"text-align: right;\">\n",
       "      <th></th>\n",
       "      <th>image_name</th>\n",
       "      <th>logits</th>\n",
       "    </tr>\n",
       "  </thead>\n",
       "  <tbody>\n",
       "    <tr>\n",
       "      <th>0</th>\n",
       "      <td>2024-CEV3-20240602.jpg</td>\n",
       "      <td>[(1654010, 0.44266772270202637), (1395063, 0.3...</td>\n",
       "    </tr>\n",
       "    <tr>\n",
       "      <th>1</th>\n",
       "      <td>CBN-PdlC-A1-20130807.jpg</td>\n",
       "      <td>[(1744569, 0.2301855832338333), (1361917, 0.22...</td>\n",
       "    </tr>\n",
       "    <tr>\n",
       "      <th>2</th>\n",
       "      <td>CBN-PdlC-A1-20130903.jpg</td>\n",
       "      <td>[(1744569, 0.16917195916175842), (1392608, 0.1...</td>\n",
       "    </tr>\n",
       "    <tr>\n",
       "      <th>3</th>\n",
       "      <td>CBN-PdlC-A1-20140721.jpg</td>\n",
       "      <td>[(1529289, 0.14910352230072021), (1374758, 0.1...</td>\n",
       "    </tr>\n",
       "    <tr>\n",
       "      <th>4</th>\n",
       "      <td>CBN-PdlC-A1-20140811.jpg</td>\n",
       "      <td>[(1361281, 0.12936192750930786), (1418612, 0.1...</td>\n",
       "    </tr>\n",
       "    <tr>\n",
       "      <th>...</th>\n",
       "      <td>...</td>\n",
       "      <td>...</td>\n",
       "    </tr>\n",
       "    <tr>\n",
       "      <th>2100</th>\n",
       "      <td>RNNB-8-5-20240118.jpg</td>\n",
       "      <td>[(1361437, 0.7179210782051086), (1655199, 0.52...</td>\n",
       "    </tr>\n",
       "    <tr>\n",
       "      <th>2101</th>\n",
       "      <td>RNNB-8-6-20240118.jpg</td>\n",
       "      <td>[(1655199, 0.37736761569976807), (1363434, 0.2...</td>\n",
       "    </tr>\n",
       "    <tr>\n",
       "      <th>2102</th>\n",
       "      <td>RNNB-8-7-20240118.jpg</td>\n",
       "      <td>[(1359297, 0.30361855030059814), (1356521, 0.2...</td>\n",
       "    </tr>\n",
       "    <tr>\n",
       "      <th>2103</th>\n",
       "      <td>RNNB-8-8-20240118.jpg</td>\n",
       "      <td>[(1359650, 0.3005388379096985), (1396330, 0.28...</td>\n",
       "    </tr>\n",
       "    <tr>\n",
       "      <th>2104</th>\n",
       "      <td>RNNB-8-9-20240118.jpg</td>\n",
       "      <td>[(1655199, 0.21261119842529297), (1361437, 0.2...</td>\n",
       "    </tr>\n",
       "  </tbody>\n",
       "</table>\n",
       "<p>2105 rows × 2 columns</p>\n",
       "</div>"
      ],
      "text/plain": [
       "                    image_name  \\\n",
       "0       2024-CEV3-20240602.jpg   \n",
       "1     CBN-PdlC-A1-20130807.jpg   \n",
       "2     CBN-PdlC-A1-20130903.jpg   \n",
       "3     CBN-PdlC-A1-20140721.jpg   \n",
       "4     CBN-PdlC-A1-20140811.jpg   \n",
       "...                        ...   \n",
       "2100     RNNB-8-5-20240118.jpg   \n",
       "2101     RNNB-8-6-20240118.jpg   \n",
       "2102     RNNB-8-7-20240118.jpg   \n",
       "2103     RNNB-8-8-20240118.jpg   \n",
       "2104     RNNB-8-9-20240118.jpg   \n",
       "\n",
       "                                                 logits  \n",
       "0     [(1654010, 0.44266772270202637), (1395063, 0.3...  \n",
       "1     [(1744569, 0.2301855832338333), (1361917, 0.22...  \n",
       "2     [(1744569, 0.16917195916175842), (1392608, 0.1...  \n",
       "3     [(1529289, 0.14910352230072021), (1374758, 0.1...  \n",
       "4     [(1361281, 0.12936192750930786), (1418612, 0.1...  \n",
       "...                                                 ...  \n",
       "2100  [(1361437, 0.7179210782051086), (1655199, 0.52...  \n",
       "2101  [(1655199, 0.37736761569976807), (1363434, 0.2...  \n",
       "2102  [(1359297, 0.30361855030059814), (1356521, 0.2...  \n",
       "2103  [(1359650, 0.3005388379096985), (1396330, 0.28...  \n",
       "2104  [(1655199, 0.21261119842529297), (1361437, 0.2...  \n",
       "\n",
       "[2105 rows x 2 columns]"
      ]
     },
     "execution_count": 22,
     "metadata": {},
     "output_type": "execute_result"
    }
   ],
   "source": [
    "# top_1 = []\n",
    "# top_2 = []\n",
    "# top_3 = []\n",
    "# top_4 = []\n",
    "# top_5 = []\n",
    "\n",
    "# for i, row in df.iterrows():\n",
    "#     top_1.append(row[\"logits\"][0])\n",
    "#     top_2.append(row[\"logits\"][1])\n",
    "#     top_3.append(row[\"logits\"][2])\n",
    "#     top_4.append(row[\"logits\"][3])\n",
    "#     top_5.append(row[\"logits\"][4])\n",
    "\n",
    "#     print(i)\n",
    "#     # pprint(row)\n",
    "\n",
    "#     if i >= 5:\n",
    "#         break\n",
    "\n",
    "# print(f\"top_1: {top_1}\")\n",
    "# print(f\"top_2: {top_2}\")\n",
    "# print(f\"top_3: {top_3}\")\n",
    "# print(f\"top_4: {top_4}\")\n",
    "# print(f\"top_5: {top_5}\")\n",
    "# top_species_ids = [s_id for s_id, _ in [*top_1, *top_2, *top_3, *top_4, *top_5]]"
   ]
  },
  {
   "cell_type": "markdown",
   "metadata": {},
   "source": [
    "## Explore embeddings"
   ]
  },
  {
   "cell_type": "markdown",
   "metadata": {},
   "source": [
    "### Get embeddings and logits from model.predict_step"
   ]
  },
  {
   "cell_type": "markdown",
   "metadata": {},
   "source": [
    "### Get image names from HFDataset -> Create a pandas DataFrame to match image names to logits + embeddings"
   ]
  },
  {
   "cell_type": "markdown",
   "metadata": {},
   "source": [
    "# Misc below"
   ]
  },
  {
   "attachments": {},
   "cell_type": "markdown",
   "metadata": {},
   "source": [
    "### Extracting embeddings from single-label training images\n",
    "\n",
    "We extract embeddings from a small subset of training images to validate our pipeline.  \n",
    "We don't perform tiling on the train images (we use the full image) and extract 768-dimensional ViT embeddings."
   ]
  },
  {
   "attachments": {},
   "cell_type": "markdown",
   "metadata": {},
   "source": [
    "### Embedding test images with tiling (3x3)\n",
    "\n",
    "\n",
    "Since the test images are high-resolution and contain multiple plant species, we split them into a 3x3 grid of tiles.\n",
    "- We **extract embeddings** and **top-*K* logits** from each tile using the ViT model.  \n",
    "- This **patch-wise representation** is critical for enabling multi-label classification."
   ]
  },
  {
   "attachments": {},
   "cell_type": "markdown",
   "metadata": {},
   "source": [
    "### Analyzing classifier logits per tile\n",
    "\n",
    "For each tile, we look at the **top predicted species** and associated confidence scores (`logits`).  \n",
    "This helps interpret how confident the model is in identifying species in each patch."
   ]
  },
  {
   "attachments": {},
   "cell_type": "markdown",
   "metadata": {},
   "source": [
    "### Embedding the entire test set with tiling\n",
    "\n",
    "We scale up our embedding pipeline to process the full test dataset using **3x3 tiling**.  \n",
    "This prepares the data for the downstream tasks of efficient **nearest neighbor search** and **multi-label prediction** at the tile level."
   ]
  },
  {
   "attachments": {},
   "cell_type": "markdown",
   "metadata": {},
   "source": [
    "### Saving test embeddings and logits to Parquet\n",
    "\n",
    "We serialize the full test embeddings into partitioned Parquet files for later use in inference pipelines.  \n",
    "The logits are stored as JSON strings for flexibility."
   ]
  },
  {
   "attachments": {},
   "cell_type": "markdown",
   "metadata": {},
   "source": [
    "## Embedding the full training set (no tiling)\n",
    "\n",
    "We repeat the embedding process on the **full training dataset**, this time *without tiling*.  \n",
    "This enables us to use the embeddings directly or as a **transfer learning** approach in a Faiss-based nearest neighbor retrieval system."
   ]
  },
  {
   "attachments": {},
   "cell_type": "markdown",
   "metadata": {},
   "source": [
    "### Saving the training embeddings to Parquet\n",
    "\n",
    "Finally, we save the full training embeddings in partitioned Parquet format to support fast, distributed retrieval during inference."
   ]
  },
  {
   "attachments": {},
   "cell_type": "markdown",
   "metadata": {},
   "source": [
    "### Embeddings Ready for Downstream Use\n",
    "\n",
    "We now have rich ViT embeddings for both train and test datasets, ready for use in:\n",
    "- Multi-label classification\n",
    "- Retrieval-based inference\n",
    "- Nearest Neighbor Search"
   ]
  }
 ],
 "metadata": {
  "kernelspec": {
   "display_name": "venv",
   "language": "python",
   "name": "python3"
  },
  "language_info": {
   "codemirror_mode": {
    "name": "ipython",
    "version": 3
   },
   "file_extension": ".py",
   "mimetype": "text/x-python",
   "name": "python",
   "nbconvert_exporter": "python",
   "pygments_lexer": "ipython3",
   "version": "3.10.13"
  }
 },
 "nbformat": 4,
 "nbformat_minor": 2
}
