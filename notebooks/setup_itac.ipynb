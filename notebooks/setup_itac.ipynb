{
 "cells": [
  {
   "cell_type": "markdown",
   "metadata": {},
   "source": [
    "# Intel Tiber AI Cloud setup\n",
    "\n",
    "Only run this notebook for setting up the dependencies in the Intel Tiber AI Cloud."
   ]
  },
  {
   "cell_type": "code",
   "execution_count": null,
   "metadata": {},
   "outputs": [],
   "source": [
    "%cd ~/pytorch-plantclef\n",
    "!{sys.executable} -m pip install --quiet -e .[itac]"
   ]
  },
  {
   "cell_type": "code",
   "execution_count": null,
   "metadata": {},
   "outputs": [],
   "source": [
    "import torch\n",
    "from plantclef.config import get_device\n",
    "\n",
    "print(f\"PyTorch Version: {torch.__version__}\")\n",
    "device = get_device()\n",
    "print(f\"Using device: {device}\")"
   ]
  },
  {
   "cell_type": "code",
   "execution_count": null,
   "metadata": {},
   "outputs": [],
   "source": [
    "# # if the PyTorch version above is not 2.5.1+cxx11.abi\n",
    "# # uncomment the line below to remove the PyTorch and torchvision installed by the previous command\n",
    "# !{sys.executable} -m pip uninstall torch torchvision -y"
   ]
  }
 ],
 "metadata": {
  "language_info": {
   "name": "python"
  }
 },
 "nbformat": 4,
 "nbformat_minor": 2
}
