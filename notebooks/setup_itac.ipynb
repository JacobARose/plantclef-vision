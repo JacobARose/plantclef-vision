{
 "cells": [
  {
   "cell_type": "markdown",
   "metadata": {},
   "source": [
    "# Intel Tiber AI Cloud setup\n",
    "\n",
    "Only run this notebook for setting up the dependencies in the [Intel Tiber AI Cloud](https://ai.cloud.intel.com/)."
   ]
  },
  {
   "cell_type": "code",
   "execution_count": null,
   "metadata": {},
   "outputs": [],
   "source": [
    "import sys\n",
    "\n",
    "# navigate to project dir\n",
    "%cd ~/pytorch-plantclef\n",
    "\n",
    "# install project in editable mode\n",
    "!{sys.executable} -m pip install --quiet -e ."
   ]
  },
  {
   "cell_type": "code",
   "execution_count": null,
   "metadata": {},
   "outputs": [],
   "source": [
    "# restart the kernel to apply the installations\n",
    "# you will see a warning that the kernel has died, this is expected\n",
    "exit()"
   ]
  },
  {
   "cell_type": "code",
   "execution_count": null,
   "metadata": {},
   "outputs": [],
   "source": [
    "import torch\n",
    "from plantclef.config import get_device\n",
    "\n",
    "print(f\"PyTorch Version: {torch.__version__}\")\n",
    "device = get_device()\n",
    "print(f\"Using device: {device}\")"
   ]
  },
  {
   "cell_type": "markdown",
   "metadata": {},
   "source": [
    "The output of the cell above should be:\n",
    "```\n",
    "PyTorch Version: 2.6.0+cu124\n",
    "Using device: cpu\n",
    "```\n",
    "\n",
    "Let's uninstall `torch` and `torchvision` to use the `xpu` versions already installed in the jupyter environment."
   ]
  },
  {
   "cell_type": "code",
   "execution_count": null,
   "metadata": {},
   "outputs": [],
   "source": [
    "import sys\n",
    "\n",
    "# if the PyTorch version above is not 2.5.1+cxx11.abi\n",
    "# uncomment the line below to remove the PyTorch and torchvision installed by the previous command\n",
    "!{sys.executable} -m pip uninstall torch torchvision -y"
   ]
  },
  {
   "cell_type": "code",
   "execution_count": null,
   "metadata": {},
   "outputs": [],
   "source": [
    "# restart the kernel to apply the updates again\n",
    "exit()"
   ]
  },
  {
   "cell_type": "markdown",
   "metadata": {},
   "source": [
    "Let's verify that the Intel GPU (`xpu`) in now being properly used. The expect output if Intel GPU is enabled is:\n",
    "```\n",
    "PyTorch Version: 2.5.1+cxx11.abi\n",
    "Using device: xpu\n",
    "```"
   ]
  },
  {
   "cell_type": "code",
   "execution_count": null,
   "metadata": {},
   "outputs": [],
   "source": [
    "# display PyTorch version and device again\n",
    "print(f\"PyTorch Version: {torch.__version__}\")\n",
    "device = get_device()\n",
    "print(f\"Using device: {device}\")"
   ]
  }
 ],
 "metadata": {
  "language_info": {
   "name": "python"
  }
 },
 "nbformat": 4,
 "nbformat_minor": 2
}
