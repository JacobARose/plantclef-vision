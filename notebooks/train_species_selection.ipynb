{
 "cells": [
  {
   "attachments": {},
   "cell_type": "markdown",
   "metadata": {},
   "source": [
    "# select train species data"
   ]
  },
  {
   "cell_type": "code",
   "execution_count": 1,
   "metadata": {},
   "outputs": [],
   "source": [
    "%load_ext autoreload\n",
    "%autoreload 2"
   ]
  },
  {
   "cell_type": "code",
   "execution_count": 2,
   "metadata": {},
   "outputs": [
    {
     "name": "stdout",
     "output_type": "stream",
     "text": [
      "PyTorch Version: 2.6.0+cu124\n",
      "Using device: cuda\n"
     ]
    }
   ],
   "source": [
    "import torch\n",
    "from plantclef.config import get_device\n",
    "\n",
    "print(f\"PyTorch Version: {torch.__version__}\")\n",
    "device = get_device()\n",
    "print(f\"Using device: {device}\")"
   ]
  },
  {
   "cell_type": "code",
   "execution_count": 3,
   "metadata": {},
   "outputs": [
    {
     "name": "stdout",
     "output_type": "stream",
     "text": [
      "/storage/home/hcoda1/9/mgustineli3/clef/pytorch-plantclef\n",
      "Sun Mar 23 12:49:33 PM EDT 2025\n"
     ]
    }
   ],
   "source": [
    "import pandas as pd\n",
    "from pathlib import Path\n",
    "\n",
    "# Get list of stored filed in cloud bucket\n",
    "root = Path().resolve().parents[0]\n",
    "print(root)\n",
    "! date"
   ]
  },
  {
   "attachments": {},
   "cell_type": "markdown",
   "metadata": {},
   "source": [
    "### read dataframe"
   ]
  },
  {
   "cell_type": "code",
   "execution_count": 4,
   "metadata": {},
   "outputs": [
    {
     "data": {
      "text/html": [
       "<div>\n",
       "<style scoped>\n",
       "    .dataframe tbody tr th:only-of-type {\n",
       "        vertical-align: middle;\n",
       "    }\n",
       "\n",
       "    .dataframe tbody tr th {\n",
       "        vertical-align: top;\n",
       "    }\n",
       "\n",
       "    .dataframe thead th {\n",
       "        text-align: right;\n",
       "    }\n",
       "</style>\n",
       "<table border=\"1\" class=\"dataframe\">\n",
       "  <thead>\n",
       "    <tr style=\"text-align: right;\">\n",
       "      <th></th>\n",
       "      <th>image_name</th>\n",
       "      <th>data</th>\n",
       "      <th>embeddings</th>\n",
       "      <th>logits</th>\n",
       "      <th>tile</th>\n",
       "    </tr>\n",
       "  </thead>\n",
       "  <tbody>\n",
       "    <tr>\n",
       "      <th>0</th>\n",
       "      <td>CBN-PdlC-C4-20180723.jpg</td>\n",
       "      <td>b'\\xff\\xd8\\xff\\xe0\\x00\\x10JFIF\\x00\\x01\\x01\\x01...</td>\n",
       "      <td>[-1.3391107320785522, 1.6340396404266357, -2.2...</td>\n",
       "      <td>{'1741880': 0.1965922713279724, '1729043': 0.0...</td>\n",
       "      <td>0</td>\n",
       "    </tr>\n",
       "    <tr>\n",
       "      <th>1</th>\n",
       "      <td>LISAH-BOU-0-30-20230512.jpg</td>\n",
       "      <td>b'\\xff\\xd8\\xff\\xdb\\x00C\\x00\\x06\\x04\\x05\\x06\\x0...</td>\n",
       "      <td>[1.2548043727874756, 0.4113069772720337, -0.20...</td>\n",
       "      <td>{'1356012': 0.4993394911289215, '1356017': 0.0...</td>\n",
       "      <td>0</td>\n",
       "    </tr>\n",
       "    <tr>\n",
       "      <th>2</th>\n",
       "      <td>CBN-PdlC-C4-20140811.jpg</td>\n",
       "      <td>b'\\xff\\xd8\\xff\\xe0\\x00\\x10JFIF\\x00\\x01\\x01\\x01...</td>\n",
       "      <td>[0.4095623195171356, 1.3787765502929688, -2.38...</td>\n",
       "      <td>{'1519650': 0.06178973615169525, '1392662': 0....</td>\n",
       "      <td>0</td>\n",
       "    </tr>\n",
       "  </tbody>\n",
       "</table>\n",
       "</div>"
      ],
      "text/plain": [
       "                    image_name  \\\n",
       "0     CBN-PdlC-C4-20180723.jpg   \n",
       "1  LISAH-BOU-0-30-20230512.jpg   \n",
       "2     CBN-PdlC-C4-20140811.jpg   \n",
       "\n",
       "                                                data  \\\n",
       "0  b'\\xff\\xd8\\xff\\xe0\\x00\\x10JFIF\\x00\\x01\\x01\\x01...   \n",
       "1  b'\\xff\\xd8\\xff\\xdb\\x00C\\x00\\x06\\x04\\x05\\x06\\x0...   \n",
       "2  b'\\xff\\xd8\\xff\\xe0\\x00\\x10JFIF\\x00\\x01\\x01\\x01...   \n",
       "\n",
       "                                          embeddings  \\\n",
       "0  [-1.3391107320785522, 1.6340396404266357, -2.2...   \n",
       "1  [1.2548043727874756, 0.4113069772720337, -0.20...   \n",
       "2  [0.4095623195171356, 1.3787765502929688, -2.38...   \n",
       "\n",
       "                                              logits tile  \n",
       "0  {'1741880': 0.1965922713279724, '1729043': 0.0...    0  \n",
       "1  {'1356012': 0.4993394911289215, '1356017': 0.0...    0  \n",
       "2  {'1519650': 0.06178973615169525, '1392662': 0....    0  "
      ]
     },
     "execution_count": 4,
     "metadata": {},
     "output_type": "execute_result"
    }
   ],
   "source": [
    "import json\n",
    "\n",
    "# read grid dataframe\n",
    "GRID_SIZE = 3\n",
    "data_path = f\"{root}/data/parquet/\"\n",
    "output_path = f\"{data_path}/test_grid_{GRID_SIZE}x{GRID_SIZE}_embeddings\"\n",
    "grid_test_df = pd.read_parquet(output_path)\n",
    "# Convert JSON strings back to Python dictionaries\n",
    "grid_test_df[\"logits\"] = grid_test_df[\"logits\"].apply(json.loads)\n",
    "grid_test_df.head(3)"
   ]
  },
  {
   "cell_type": "code",
   "execution_count": 5,
   "metadata": {},
   "outputs": [
    {
     "data": {
      "text/plain": [
       "[{'1741880': 0.1965922713279724,\n",
       "  '1729043': 0.07081298530101776,\n",
       "  '1392407': 0.025576600804924965,\n",
       "  '1395758': 0.022835951298475266,\n",
       "  '1391881': 0.022778529673814774},\n",
       " {'1356012': 0.4993394911289215,\n",
       "  '1356017': 0.02324383147060871,\n",
       "  '1358670': 0.016023512929677963,\n",
       "  '1393251': 0.01263902522623539,\n",
       "  '1662937': 0.011285717599093914},\n",
       " {'1519650': 0.06178973615169525,\n",
       "  '1392662': 0.0420311838388443,\n",
       "  '1622908': 0.04180571809411049,\n",
       "  '1390821': 0.03379848971962929,\n",
       "  '1502503': 0.025230366736650467}]"
      ]
     },
     "execution_count": 5,
     "metadata": {},
     "output_type": "execute_result"
    }
   ],
   "source": [
    "species_ids = grid_test_df[\"logits\"].iloc[:9].to_list()\n",
    "species_ids[:3]"
   ]
  },
  {
   "cell_type": "code",
   "execution_count": 6,
   "metadata": {},
   "outputs": [
    {
     "data": {
      "text/plain": [
       "0    {'1741880': 0.1965922713279724, '1729043': 0.0...\n",
       "1    {'1356012': 0.4993394911289215, '1356017': 0.0...\n",
       "2    {'1519650': 0.06178973615169525, '1392662': 0....\n",
       "Name: logits, dtype: object"
      ]
     },
     "execution_count": 6,
     "metadata": {},
     "output_type": "execute_result"
    }
   ],
   "source": [
    "grid_test_df[\"logits\"].iloc[:3]"
   ]
  },
  {
   "cell_type": "code",
   "execution_count": 7,
   "metadata": {},
   "outputs": [],
   "source": [
    "def extract_species_above_threshold(\n",
    "    df, logits_col: str = \"logits\", threshold: float = 0.1\n",
    ") -> list:\n",
    "    \"\"\"\n",
    "    Extracts the first species ID and value from each row's logits dictionary,\n",
    "    filtering only those above a given threshold.\n",
    "\n",
    "    :param df: DataFrame containing logits column as dictionaries.\n",
    "    :param logits_col: Name of the column containing logits dictionaries.\n",
    "    :param threshold: Minimum value threshold for filtering.\n",
    "    :return: List of species IDs that meet the threshold.\n",
    "    \"\"\"\n",
    "    species_ids = []\n",
    "\n",
    "    for logits in df[logits_col]:\n",
    "        if isinstance(logits, dict) and logits:  # Ensure it's a valid dictionary\n",
    "            first_key, first_value = next(\n",
    "                iter(logits.items())\n",
    "            )  # Get first key-value pair\n",
    "            if first_value > threshold:\n",
    "                species_ids.append(first_key)  # Store species ID if it meets threshold\n",
    "    return species_ids"
   ]
  },
  {
   "cell_type": "code",
   "execution_count": 8,
   "metadata": {},
   "outputs": [],
   "source": [
    "import numpy as np\n",
    "\n",
    "thresholds = np.arange(0, 1, 0.1)\n",
    "species_list = []\n",
    "set_species = []\n",
    "species_dict = {}\n",
    "for thresh in thresholds:\n",
    "    species_ids = extract_species_above_threshold(grid_test_df, threshold=thresh)\n",
    "    species_dict[thresh] = species_ids"
   ]
  },
  {
   "cell_type": "code",
   "execution_count": 9,
   "metadata": {},
   "outputs": [
    {
     "name": "stdout",
     "output_type": "stream",
     "text": [
      "threshold: 0.0, rows: 5400, species:  409\n",
      "threshold: 0.1, rows: 3381, species:  257\n",
      "threshold: 0.2, rows: 1935, species:  172\n",
      "threshold: 0.3, rows: 1188, species:  115\n",
      "threshold: 0.4, rows: 834, species:  84\n",
      "threshold: 0.5, rows: 594, species:  60\n",
      "threshold: 0.6, rows: 417, species:  43\n",
      "threshold: 0.7, rows: 288, species:  27\n",
      "threshold: 0.8, rows: 177, species:  14\n",
      "threshold: 0.9, rows: 45, species:  5\n"
     ]
    }
   ],
   "source": [
    "for key, val in species_dict.items():\n",
    "    print(f\"threshold: {round(key, 1)}, rows: {len(val)}, species:  {len(set(val))}\")"
   ]
  },
  {
   "cell_type": "code",
   "execution_count": 10,
   "metadata": {},
   "outputs": [],
   "source": [
    "# groupby species_id, get values\n",
    "logits_dict = {}\n",
    "for logits in grid_test_df[\"logits\"]:\n",
    "    if isinstance(logits, dict):  # Ensure it's a dictionary\n",
    "        for key, val in logits.items():\n",
    "            logits_dict.setdefault(key, []).append(val)\n",
    "\n",
    "\n",
    "# compute mean and count per species\n",
    "species_frequency = {\n",
    "    key: {\"mean\": np.mean(vals), \"count\": len(vals)}\n",
    "    for key, vals in logits_dict.items()\n",
    "}\n",
    "\n",
    "\n",
    "# sort species by count in descending order\n",
    "def sort_nested_dict_descending(dict_of_dicts, key):\n",
    "    return dict(\n",
    "        sorted(dict_of_dicts.items(), key=lambda item: item[1][key], reverse=True)\n",
    "    )\n",
    "\n",
    "\n",
    "sorted_species_frequency = sort_nested_dict_descending(species_frequency, \"count\")\n",
    "\n",
    "# extract frequencies for plotting\n",
    "frequencies = {\n",
    "    species: data[\"count\"] for species, data in sorted_species_frequency.items()\n",
    "}"
   ]
  },
  {
   "cell_type": "code",
   "execution_count": 11,
   "metadata": {},
   "outputs": [
    {
     "name": "stdout",
     "output_type": "stream",
     "text": [
      "Total logits: 27000\n",
      "Selected species count: 203\n",
      "Selected species: ['1395807', '1361281', '1394311', '1741880', '1397468', '1392407', '1397535', '1390793', '1392323', '1722440', '1396869', '1412857', '1389929', '1395870', '1651363', '1519650', '1390899', '1391331', '1743474', '1394540', '1392558', '1390846', '1392608', '1742052', '1392611', '1392565', '1425722', '1722441', '1720959', '1396253', '1392535', '1362271', '1395990', '1741661', '1397475', '1722522', '1722625', '1393824', '1722521', '1397070', '1363302', '1391881', '1360591', '1397463', '1359344', '1394911', '1664563', '1390764', '1722433', '1362331', '1388766', '1361437', '1742053', '1359297', '1396843', '1393659', '1363200', '1394597', '1556096', '1393200', '1697384', '1361382', '1393679', '1357962', '1396857', '1396974', '1396717', '1394641', '1412585', '1451777', '1394663', '1397046', '1390874', '1622901', '1741624', '1390910', '1394908', '1360269', '1393770', '1393660', '1393927', '1397500', '1393657', '1396733', '1743968', '1363945', '1422217', '1425895', '1398772', '1358613', '1360260', '1391851', '1395974', '1548459', '1390639', '1390690', '1392566', '1420558', '1394643', '1362396', '1492664', '1397546', '1549015', '1741903', '1389650', '1390927', '1361703', '1394999', '1646703', '1391677', '1743403', '1397398', '1391313', '1359356', '1363593', '1419076', '1392241', '1396094', '1361275', '1419109', '1394630', '1414270', '1548458', '1588658', '1357630', '1400181', '1357227', '1722578', '1399609', '1722619', '1741564', '1389603', '1363191', '1363413', '1743984', '1426004', '1396441', '1361308', '1361412', '1418612', '1395862', '1393687', '1580587', '1393314', '1397565', '1356576', '1391120', '1399800', '1394270', '1356286', '1478563', '1356404', '1361129', '1393619', '1741587', '1738652', '1394523', '1363472', '1414366', '1361067', '1392732', '1426005', '1366028', '1361306', '1360501', '1398222', '1647677', '1741706', '1414356', '1531145', '1392612', '1741805', '1363056', '1651162', '1394375', '1722501', '1394443', '1390872', '1743923', '1360116', '1363492', '1414367', '1395942', '1422218', '1363722', '1364007', '1397593', '1357236', '1653859', '1390883', '1392725', '1361530', '1651485', '1360993', '1392549', '1361389', '1697365', '1529402', '1358517', '1390761', '1721018', '1396867', '1741584']\n"
     ]
    }
   ],
   "source": [
    "# compute total count of logits\n",
    "total_logits = sum(data[\"count\"] for data in sorted_species_frequency.values())\n",
    "\n",
    "# select species contributing to 90% of total logits\n",
    "selected_species = []\n",
    "cumulative_count = 0\n",
    "THRESHOLD = 0.7\n",
    "threshold_count = THRESHOLD * total_logits  # threshold % of total\n",
    "\n",
    "for species, data in sorted_species_frequency.items():\n",
    "    cumulative_count += data[\"count\"]\n",
    "    selected_species.append(species)\n",
    "    if cumulative_count >= threshold_count:\n",
    "        break  # stop when we reach threshold count\n",
    "\n",
    "# show results\n",
    "print(f\"Total logits: {total_logits}\")\n",
    "print(f\"Selected species count: {len(selected_species)}\")\n",
    "print(\"Selected species:\", selected_species)"
   ]
  },
  {
   "cell_type": "code",
   "execution_count": 12,
   "metadata": {},
   "outputs": [
    {
     "data": {
      "image/png": "[encoded data removed]",
      "text/plain": [
       "<Figure size 1000x500 with 1 Axes>"
      ]
     },
     "metadata": {},
     "output_type": "display_data"
    }
   ],
   "source": [
    "import matplotlib.pyplot as plt\n",
    "\n",
    "# plot sorted species frequencies\n",
    "species, count = zip(*frequencies.items())  # get species and their frequencies\n",
    "species_dist = [c / len(species) for c in count]\n",
    "\n",
    "fig, ax = plt.subplots(figsize=(10, 5))\n",
    "ax.plot(species, species_dist, marker=\"o\")\n",
    "species_count = len(selected_species)\n",
    "label = f\"species count = {species_count}, threshold = {THRESHOLD:.0%}\"\n",
    "ax.axvline(x=species_count, color=\"r\", linestyle=\"--\", linewidth=2, label=label)\n",
    "ax.set_xlabel(\"Species ID\", fontsize=12)\n",
    "ax.set_ylabel(\"Count Percentage\", fontsize=12)\n",
    "ax.set_xticks([])\n",
    "ax.set_title(\"Species Frequency Distribution\", fontsize=16, weight=\"bold\")\n",
    "ax.xaxis.label.set_size(14)  # Set the font size for the xlabel\n",
    "ax.yaxis.label.set_size(14)  # Set the font size for the xlabel\n",
    "ax.legend(fontsize=12)\n",
    "ax.grid(color=\"blue\", linestyle=\"--\", linewidth=1, alpha=0.2)\n",
    "spines = [\"top\", \"right\", \"bottom\", \"left\"]\n",
    "for s in spines:\n",
    "    ax.spines[s].set_visible(False)\n",
    "plt.tight_layout()\n",
    "plt.show()"
   ]
  },
  {
   "cell_type": "code",
   "execution_count": 14,
   "metadata": {},
   "outputs": [],
   "source": [
    "# write the selected species to a text file\n",
    "with open(\"train_species_ids.txt\", \"w\") as f:\n",
    "    for species in selected_species:\n",
    "        f.write(f\"{species}\\n\")"
   ]
  },
  {
   "cell_type": "code",
   "execution_count": null,
   "metadata": {},
   "outputs": [],
   "source": []
  }
 ],
 "metadata": {
  "kernelspec": {
   "display_name": "venv",
   "language": "python",
   "name": "python3"
  },
  "language_info": {
   "codemirror_mode": {
    "name": "ipython",
    "version": 3
   },
   "file_extension": ".py",
   "mimetype": "text/x-python",
   "name": "python",
   "nbconvert_exporter": "python",
   "pygments_lexer": "ipython3",
   "version": "3.10.13"
  }
 },
 "nbformat": 4,
 "nbformat_minor": 2
}
