{
 "cells": [
  {
   "cell_type": "markdown",
   "metadata": {},
   "source": [
    "# profiling.ipynb\n",
    "\n",
    "Code for profiling pytorch dataloaders\n",
    "\n",
    "* Created on Thursday May 15th, 2025\n",
    "* Created by Jacob A Rose"
   ]
  },
  {
   "cell_type": "code",
   "execution_count": 2,
   "metadata": {},
   "outputs": [],
   "source": [
    "%load_ext autoreload\n",
    "%autoreload 2"
   ]
  },
  {
   "cell_type": "code",
   "execution_count": null,
   "metadata": {},
   "outputs": [],
   "source": [
    "# import torch\n",
    "# from torch.utils.data import Dataset, DataLoader\n",
    "# from torch.profiler import profile, record_function, ProfilerActivity\n",
    "\n",
    "\n",
    "# class MyDataset(Dataset):\n",
    "#     def __init__(self):\n",
    "#         self.data = torch.randn(10, 3, 224, 224)\n",
    "#         self.target = torch.randint(0, 10, (10,))\n",
    "\n",
    "#     def __len__(self):\n",
    "#         return len(self.data)\n",
    "\n",
    "#     def __getitem__(self, index):\n",
    "#         x = self.data[index]\n",
    "#         y = self.target[index]\n",
    "\n",
    "#         with record_function(\"transform1\"):\n",
    "#             x = x * 2\n",
    "\n",
    "#         with record_function(\"transform2\"):\n",
    "#             y = y + 1\n",
    "\n",
    "#         return x, y\n",
    "\n",
    "\n",
    "# dataset = MyDataset()\n",
    "# loader = DataLoader(dataset, batch_size=5, num_workers=0)\n",
    "# with profile(activities=[ProfilerActivity.CPU], record_shapes=True) as prof:\n",
    "#     with record_function(\"loader\"):\n",
    "#         for batch in loader:\n",
    "#             pass\n",
    "\n",
    "# print(prof.key_averages().table(sort_by=\"cpu_time_total\", row_limit=15))"
   ]
  },
  {
   "cell_type": "code",
   "execution_count": null,
   "metadata": {},
   "outputs": [],
   "source": [
    "import torch\n",
    "from torch.utils.data import DataLoader\n",
    "from plantclef.pytorch.data_catalog import make_dataset\n",
    "\n",
    "\n",
    "ds = make_dataset(name=\"plantclef2024\", load_all_subsets=False)"
   ]
  },
  {
   "cell_type": "code",
   "execution_count": 9,
   "metadata": {},
   "outputs": [],
   "source": [
    "batch_size = 64\n",
    "cpu_count = 0\n",
    "\n",
    "\n",
    "loader = DataLoader(\n",
    "    ds,\n",
    "    batch_size=batch_size,\n",
    "    shuffle=False,\n",
    "    num_workers=cpu_count,\n",
    "    pin_memory=True,\n",
    ")\n",
    "# batch = next(iter(loader))\n",
    "# type(batch)"
   ]
  },
  {
   "cell_type": "code",
   "execution_count": 10,
   "metadata": {},
   "outputs": [
    {
     "name": "stderr",
     "output_type": "stream",
     "text": [
      "100%|██████████| 5/5 [00:06<00:00,  1.39s/it]\n",
      "100%|██████████| 100/100 [01:44<00:00,  1.05s/it]\n"
     ]
    },
    {
     "name": "stdout",
     "output_type": "stream",
     "text": [
      "---------------------------------------------------------------  ------------  ------------  ------------  ------------  ------------  ------------  ------------  ------------  ------------  ------------  \n",
      "                                                           Name    Self CPU %      Self CPU   CPU total %     CPU total  CPU time avg     Self CUDA   Self CUDA %    CUDA total  CUDA time avg    # of Calls  \n",
      "---------------------------------------------------------------  ------------  ------------  ------------  ------------  ------------  ------------  ------------  ------------  ------------  ------------  \n",
      "    enumerate(DataLoader)#_SingleProcessDataLoaderIter.__next__         2.48%        2.597s        98.50%      103.129s        1.021s        2.470s         2.36%      103.130s        1.021s           101  \n",
      "                                              _get_label_tensor        28.86%       30.212s        28.86%       30.212s       4.674ms       30.294s        28.94%       30.294s       4.687ms          6464  \n",
      "                                                 _get_sample_id        25.97%       27.187s        25.97%       27.187s       4.206ms       27.276s        26.05%       27.276s       4.220ms          6464  \n",
      "                                                 _get_image_pil        25.86%       27.074s        25.86%       27.074s       4.188ms       27.151s        25.93%       27.151s       4.200ms          6464  \n",
      "                                                      transform         9.89%       10.353s        12.06%       12.628s       1.954ms       10.408s         9.94%       12.662s       1.959ms          6464  \n",
      "                                                    aten::copy_         3.08%        3.225s         4.56%        4.774s     695.118us        4.813s         4.60%        4.813s     700.817us          6868  \n",
      "                                               aten::contiguous         0.03%      31.749ms         2.11%        2.205s     341.184us      53.287ms         0.05%        2.222s     343.770us          6464  \n",
      "                                                    aten::clone         0.09%      89.591ms         2.06%        2.152s     332.919us     102.898ms         0.10%        2.169s     335.526us          6464  \n",
      "                                                    aten::stack         0.01%       7.477ms         1.87%        1.956s      19.368ms       5.139ms         0.00%        1.956s      19.371ms           101  \n",
      "                                                      aten::cat         1.86%        1.943s         1.86%        1.946s      19.268ms        1.947s         1.86%        1.950s      19.310ms           101  \n",
      "                                                       aten::to         0.00%       1.602ms         1.49%        1.564s       5.160ms       2.474ms         0.00%        1.564s       5.162ms           303  \n",
      "                                                 aten::_to_copy         0.00%       4.656ms         1.49%        1.561s       7.729ms       5.094ms         0.00%        1.562s       7.731ms           202  \n",
      "                                               aten::pin_memory         0.00%       2.466ms         1.26%        1.316s       6.515ms       3.224ms         0.00%        1.317s       6.518ms           202  \n",
      "                                              aten::_pin_memory         0.01%       6.865ms         1.25%        1.308s       6.477ms       5.967ms         0.01%        1.309s       6.480ms           202  \n",
      "                                               aten::empty_like         0.03%      35.782ms         0.09%      92.541ms      14.316us      53.485ms         0.05%     106.930ms      16.542us          6464  \n",
      "---------------------------------------------------------------  ------------  ------------  ------------  ------------  ------------  ------------  ------------  ------------  ------------  ------------  \n",
      "Self CPU time total: 104.695s\n",
      "Self CUDA time total: 104.694s\n",
      "\n"
     ]
    }
   ],
   "source": [
    "import torch.autograd.profiler as profiler\n",
    "from tqdm import tqdm\n",
    "import torch\n",
    "\n",
    "\n",
    "warmup_iterations = 5\n",
    "num_iterations = 100\n",
    "\n",
    "\n",
    "device = torch.device(\"cuda\" if torch.cuda.is_available() else \"cpu\")\n",
    "\n",
    "i = 0\n",
    "for batch in tqdm(loader, total=warmup_iterations):\n",
    "    images, labels = batch[\"image\"], batch[\"label_idx\"]\n",
    "    i += 1\n",
    "    if i > warmup_iterations:\n",
    "        break\n",
    "\n",
    "with profiler.profile(use_device=device.type) as prof:\n",
    "    # Run your training loop for several iterations\n",
    "    i = 0\n",
    "    for batch in tqdm(loader, total=num_iterations):\n",
    "        images, labels = batch[\"image\"], batch[\"label_idx\"]\n",
    "        images, labels = images.to(device), labels.to(device)\n",
    "        i += 1\n",
    "        if i > num_iterations:\n",
    "            break\n",
    "\n",
    "print(prof.key_averages().table(sort_by=\"cuda_time_total\", row_limit=15, max_name_column_width=90))"
   ]
  },
  {
   "cell_type": "code",
   "execution_count": 15,
   "metadata": {},
   "outputs": [
    {
     "data": {
      "text/plain": [
       "['__class__',\n",
       " '__delattr__',\n",
       " '__dict__',\n",
       " '__dir__',\n",
       " '__doc__',\n",
       " '__enter__',\n",
       " '__eq__',\n",
       " '__exit__',\n",
       " '__format__',\n",
       " '__ge__',\n",
       " '__getattribute__',\n",
       " '__gt__',\n",
       " '__hash__',\n",
       " '__init__',\n",
       " '__init_subclass__',\n",
       " '__le__',\n",
       " '__lt__',\n",
       " '__module__',\n",
       " '__ne__',\n",
       " '__new__',\n",
       " '__reduce__',\n",
       " '__reduce_ex__',\n",
       " '__repr__',\n",
       " '__setattr__',\n",
       " '__sizeof__',\n",
       " '__str__',\n",
       " '__subclasshook__',\n",
       " '__weakref__',\n",
       " '_ensure_function_events',\n",
       " '_function_events',\n",
       " '_needs_processing',\n",
       " '_old_function_events',\n",
       " '_parse_kineto_results',\n",
       " '_prepare_trace',\n",
       " '_start_trace',\n",
       " '_stats',\n",
       " 'acc_events',\n",
       " 'config',\n",
       " 'create_trace_id',\n",
       " 'custom_trace_id_callback',\n",
       " 'default_trace_id',\n",
       " 'enabled',\n",
       " 'entered',\n",
       " 'experimental_config',\n",
       " 'export_chrome_trace',\n",
       " 'export_stacks',\n",
       " 'function_events',\n",
       " 'key_averages',\n",
       " 'kineto_activities',\n",
       " 'kineto_results',\n",
       " 'profile_memory',\n",
       " 'profiler_kind',\n",
       " 'profiling_end_time_ns',\n",
       " 'profiling_start_time_ns',\n",
       " 'record_shapes',\n",
       " 'self_cpu_time_total',\n",
       " 'table',\n",
       " 'toggle_collection_dynamic',\n",
       " 'total_average',\n",
       " 'trace_id',\n",
       " 'use_cpu',\n",
       " 'use_cuda',\n",
       " 'use_device',\n",
       " 'with_flops',\n",
       " 'with_modules',\n",
       " 'with_stack']"
      ]
     },
     "execution_count": 15,
     "metadata": {},
     "output_type": "execute_result"
    }
   ],
   "source": [
    "dir(prof)"
   ]
  },
  {
   "cell_type": "code",
   "execution_count": 11,
   "metadata": {},
   "outputs": [],
   "source": [
    "prof.export_chrome_trace(\"trace.json\")"
   ]
  },
  {
   "cell_type": "code",
   "execution_count": 1,
   "metadata": {},
   "outputs": [
    {
     "ename": "NameError",
     "evalue": "name 'prof' is not defined",
     "output_type": "error",
     "traceback": [
      "\u001b[0;31m---------------------------------------------------------------------------\u001b[0m",
      "\u001b[0;31mNameError\u001b[0m                                 Traceback (most recent call last)",
      "Cell \u001b[0;32mIn[1], line 1\u001b[0m\n\u001b[0;32m----> 1\u001b[0m \u001b[38;5;28mprint\u001b[39m(\u001b[43mprof\u001b[49m\u001b[38;5;241m.\u001b[39mkey_averages()\u001b[38;5;241m.\u001b[39mtable(sort_by\u001b[38;5;241m=\u001b[39m\u001b[38;5;124m\"\u001b[39m\u001b[38;5;124mcuda_time_total\u001b[39m\u001b[38;5;124m\"\u001b[39m, row_limit\u001b[38;5;241m=\u001b[39m\u001b[38;5;241m10\u001b[39m, max_name_column_width\u001b[38;5;241m=\u001b[39m\u001b[38;5;241m90\u001b[39m))\n",
      "\u001b[0;31mNameError\u001b[0m: name 'prof' is not defined"
     ]
    }
   ],
   "source": [
    "print(\n",
    "    prof.key_averages().table(\n",
    "        sort_by=\"cuda_time_total\", row_limit=10, max_name_column_width=90\n",
    "    )\n",
    ")"
   ]
  },
  {
   "cell_type": "code",
   "execution_count": null,
   "metadata": {},
   "outputs": [
    {
     "name": "stdout",
     "output_type": "stream",
     "text": [
      "-------------------------------------------------------  ------------  ------------  ------------  ------------  ------------  ------------  ------------  ------------  ------------  ------------  \n",
      "                                                   Name    Self CPU %      Self CPU   CPU total %     CPU total  CPU time avg     Self CUDA   Self CUDA %    CUDA total  CUDA time avg    # of Calls  \n",
      "-------------------------------------------------------  ------------  ------------  ------------  ------------  ------------  ------------  ------------  ------------  ------------  ------------  \n",
      "enumerate(DataLoader)#_SingleProcessDataLoaderIter._...        90.02%        2.589s        98.34%        2.828s     257.114ms        2.590s        90.12%        2.828s     257.131ms            11  \n",
      "                                            aten::copy_         3.22%      92.693ms         4.70%     135.118ms     614.174us     136.342ms         4.74%     136.342ms     619.736us           220  \n",
      "                                       aten::pin_memory         0.01%     356.737us         4.08%     117.374ms       5.335ms     427.000us         0.01%     117.432ms       5.338ms            22  \n",
      "                                      aten::_pin_memory         0.07%       2.016ms         4.05%     116.330ms       5.288ms      81.109ms         2.82%     116.392ms       5.291ms            22  \n",
      "                                       aten::contiguous         0.06%       1.823ms         2.31%      66.398ms     377.263us       2.310ms         0.08%      66.781ms     379.438us           176  \n",
      "                                            aten::clone         0.09%       2.480ms         2.22%      63.973ms     363.485us       2.855ms         0.10%      64.471ms     366.312us           176  \n",
      "                                            aten::stack         0.05%       1.384ms         1.83%      52.748ms       4.795ms       1.244ms         0.04%      52.783ms       4.798ms            11  \n",
      "                                              aten::cat         1.73%      49.875ms         1.77%      50.949ms       4.632ms      50.188ms         1.75%      51.252ms       4.659ms            11  \n",
      "                                               aten::to         0.01%     246.273us         1.55%      44.703ms       1.355ms     327.000us         0.01%      44.768ms       1.357ms            33  \n",
      "                                         aten::_to_copy         0.02%     497.712us         1.54%      44.391ms       2.018ms     550.000us         0.02%      44.441ms       2.020ms            22  \n",
      "-------------------------------------------------------  ------------  ------------  ------------  ------------  ------------  ------------  ------------  ------------  ------------  ------------  \n",
      "Self CPU time total: 2.876s\n",
      "Self CUDA time total: 2.874s\n",
      "\n"
     ]
    }
   ],
   "source": [
    "print(prof.key_averages().table(sort_by=\"cuda_time_total\", row_limit=10))"
   ]
  },
  {
   "cell_type": "code",
   "execution_count": null,
   "metadata": {},
   "outputs": [],
   "source": []
  },
  {
   "cell_type": "code",
   "execution_count": 3,
   "metadata": {},
   "outputs": [
    {
     "name": "stdout",
     "output_type": "stream",
     "text": [
      "         216 function calls (209 primitive calls) in 0.002 seconds\n",
      "\n",
      "   Ordered by: standard name\n",
      "\n",
      "   ncalls  tottime  percall  cumtime  percall filename:lineno(function)\n",
      "        1    0.000    0.000    0.000    0.000 <string>:1(<module>)\n",
      "        2    0.000    0.000    0.000    0.000 enum.py:359(__call__)\n",
      "        2    0.000    0.000    0.000    0.000 enum.py:678(__new__)\n",
      "        1    0.000    0.000    0.000    0.000 enum.py:986(__and__)\n",
      "        1    0.000    0.000    0.000    0.000 re.py:249(compile)\n",
      "        1    0.000    0.000    0.000    0.000 re.py:288(_compile)\n",
      "        1    0.000    0.000    0.000    0.000 sre_compile.py:265(_compile_charset)\n",
      "        1    0.000    0.000    0.000    0.000 sre_compile.py:292(_optimize_charset)\n",
      "        2    0.000    0.000    0.000    0.000 sre_compile.py:477(_get_iscased)\n",
      "        1    0.000    0.000    0.000    0.000 sre_compile.py:485(_get_literal_prefix)\n",
      "        1    0.000    0.000    0.000    0.000 sre_compile.py:516(_get_charset_prefix)\n",
      "        1    0.000    0.000    0.000    0.000 sre_compile.py:560(_compile_info)\n",
      "        2    0.000    0.000    0.000    0.000 sre_compile.py:619(isstring)\n",
      "        1    0.000    0.000    0.000    0.000 sre_compile.py:622(_code)\n",
      "        1    0.000    0.000    0.000    0.000 sre_compile.py:783(compile)\n",
      "      3/1    0.000    0.000    0.000    0.000 sre_compile.py:87(_compile)\n",
      "        3    0.000    0.000    0.000    0.000 sre_parse.py:112(__init__)\n",
      "        7    0.000    0.000    0.000    0.000 sre_parse.py:161(__len__)\n",
      "       18    0.000    0.000    0.000    0.000 sre_parse.py:165(__getitem__)\n",
      "        7    0.000    0.000    0.000    0.000 sre_parse.py:173(append)\n",
      "      3/1    0.000    0.000    0.000    0.000 sre_parse.py:175(getwidth)\n",
      "        1    0.000    0.000    0.000    0.000 sre_parse.py:225(__init__)\n",
      "        8    0.000    0.000    0.000    0.000 sre_parse.py:234(__next)\n",
      "        2    0.000    0.000    0.000    0.000 sre_parse.py:250(match)\n",
      "        6    0.000    0.000    0.000    0.000 sre_parse.py:255(get)\n",
      "        1    0.000    0.000    0.000    0.000 sre_parse.py:287(tell)\n",
      "        1    0.000    0.000    0.000    0.000 sre_parse.py:436(_parse_sub)\n",
      "        2    0.000    0.000    0.000    0.000 sre_parse.py:494(_parse)\n",
      "        1    0.000    0.000    0.000    0.000 sre_parse.py:76(__init__)\n",
      "        2    0.000    0.000    0.000    0.000 sre_parse.py:82(groups)\n",
      "        1    0.000    0.000    0.000    0.000 sre_parse.py:928(fix_flags)\n",
      "        1    0.000    0.000    0.000    0.000 sre_parse.py:944(parse)\n",
      "        1    0.000    0.000    0.000    0.000 {built-in method _sre.compile}\n",
      "        1    0.002    0.002    0.002    0.002 {built-in method builtins.exec}\n",
      "       25    0.000    0.000    0.000    0.000 {built-in method builtins.isinstance}\n",
      "        1    0.000    0.000    0.000    0.000 {built-in method builtins.iter}\n",
      "    29/26    0.000    0.000    0.000    0.000 {built-in method builtins.len}\n",
      "        2    0.000    0.000    0.000    0.000 {built-in method builtins.max}\n",
      "        9    0.000    0.000    0.000    0.000 {built-in method builtins.min}\n",
      "        1    0.000    0.000    0.000    0.000 {built-in method builtins.next}\n",
      "        6    0.000    0.000    0.000    0.000 {built-in method builtins.ord}\n",
      "       48    0.000    0.000    0.000    0.000 {method 'append' of 'list' objects}\n",
      "        1    0.000    0.000    0.000    0.000 {method 'disable' of '_lsprof.Profiler' objects}\n",
      "        5    0.000    0.000    0.000    0.000 {method 'find' of 'bytearray' objects}\n",
      "        1    0.000    0.000    0.000    0.000 {method 'items' of 'dict' objects}\n",
      "\n",
      "\n"
     ]
    }
   ],
   "source": [
    "import cProfile\n",
    "\n",
    "cProfile.run('re.compile(\"foo|bar\")')"
   ]
  }
 ],
 "metadata": {
  "language_info": {
   "name": "python"
  }
 },
 "nbformat": 4,
 "nbformat_minor": 2
}
